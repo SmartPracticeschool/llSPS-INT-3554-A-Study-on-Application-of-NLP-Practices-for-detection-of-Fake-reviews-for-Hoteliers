{
 "cells": [
  {
   "cell_type": "code",
   "execution_count": 1,
   "metadata": {},
   "outputs": [
    {
     "data": {
      "text/plain": [
       "'/Users/obadaessa/Desktop/Python Codes'"
      ]
     },
     "execution_count": 1,
     "metadata": {},
     "output_type": "execute_result"
    }
   ],
   "source": [
    "import os\n",
    "os.getcwd()"
   ]
  },
  {
   "cell_type": "code",
   "execution_count": 2,
   "metadata": {},
   "outputs": [],
   "source": [
    "os.chdir('/Users/obadaessa/Desktop/Data Sets')"
   ]
  },
  {
   "cell_type": "code",
   "execution_count": 3,
   "metadata": {},
   "outputs": [],
   "source": [
    "import pandas as pd\n",
    "import numpy as py\n",
    "import matplotlib.pyplot as plt\n",
    "%matplotlib inline"
   ]
  },
  {
   "cell_type": "code",
   "execution_count": 4,
   "metadata": {},
   "outputs": [],
   "source": [
    "airdata = pd.read_csv('airquality.csv')"
   ]
  },
  {
   "cell_type": "code",
   "execution_count": 5,
   "metadata": {},
   "outputs": [
    {
     "data": {
      "text/plain": [
       " Ozone     37\n",
       "Solar.R     7\n",
       "Wind        0\n",
       "Temp        0\n",
       "Month       0\n",
       "Day         0\n",
       "dtype: int64"
      ]
     },
     "execution_count": 5,
     "metadata": {},
     "output_type": "execute_result"
    }
   ],
   "source": [
    "airdata.apply(lambda x: sum(x.isnull()), axis=0)"
   ]
  },
  {
   "cell_type": "code",
   "execution_count": 6,
   "metadata": {},
   "outputs": [
    {
     "data": {
      "text/html": [
       "<div>\n",
       "<style scoped>\n",
       "    .dataframe tbody tr th:only-of-type {\n",
       "        vertical-align: middle;\n",
       "    }\n",
       "\n",
       "    .dataframe tbody tr th {\n",
       "        vertical-align: top;\n",
       "    }\n",
       "\n",
       "    .dataframe thead th {\n",
       "        text-align: right;\n",
       "    }\n",
       "</style>\n",
       "<table border=\"1\" class=\"dataframe\">\n",
       "  <thead>\n",
       "    <tr style=\"text-align: right;\">\n",
       "      <th></th>\n",
       "      <th>Ozone</th>\n",
       "      <th>Solar.R</th>\n",
       "      <th>Wind</th>\n",
       "      <th>Temp</th>\n",
       "      <th>Month</th>\n",
       "      <th>Day</th>\n",
       "    </tr>\n",
       "  </thead>\n",
       "  <tbody>\n",
       "    <tr>\n",
       "      <th>0</th>\n",
       "      <td>41.0</td>\n",
       "      <td>190.0</td>\n",
       "      <td>7.4</td>\n",
       "      <td>67</td>\n",
       "      <td>5</td>\n",
       "      <td>1</td>\n",
       "    </tr>\n",
       "    <tr>\n",
       "      <th>1</th>\n",
       "      <td>36.0</td>\n",
       "      <td>118.0</td>\n",
       "      <td>8.0</td>\n",
       "      <td>72</td>\n",
       "      <td>5</td>\n",
       "      <td>2</td>\n",
       "    </tr>\n",
       "    <tr>\n",
       "      <th>2</th>\n",
       "      <td>12.0</td>\n",
       "      <td>149.0</td>\n",
       "      <td>12.6</td>\n",
       "      <td>74</td>\n",
       "      <td>5</td>\n",
       "      <td>3</td>\n",
       "    </tr>\n",
       "    <tr>\n",
       "      <th>3</th>\n",
       "      <td>18.0</td>\n",
       "      <td>313.0</td>\n",
       "      <td>11.5</td>\n",
       "      <td>62</td>\n",
       "      <td>5</td>\n",
       "      <td>4</td>\n",
       "    </tr>\n",
       "    <tr>\n",
       "      <th>4</th>\n",
       "      <td>NaN</td>\n",
       "      <td>NaN</td>\n",
       "      <td>14.3</td>\n",
       "      <td>56</td>\n",
       "      <td>5</td>\n",
       "      <td>5</td>\n",
       "    </tr>\n",
       "    <tr>\n",
       "      <th>...</th>\n",
       "      <td>...</td>\n",
       "      <td>...</td>\n",
       "      <td>...</td>\n",
       "      <td>...</td>\n",
       "      <td>...</td>\n",
       "      <td>...</td>\n",
       "    </tr>\n",
       "    <tr>\n",
       "      <th>148</th>\n",
       "      <td>30.0</td>\n",
       "      <td>193.0</td>\n",
       "      <td>6.9</td>\n",
       "      <td>70</td>\n",
       "      <td>9</td>\n",
       "      <td>26</td>\n",
       "    </tr>\n",
       "    <tr>\n",
       "      <th>149</th>\n",
       "      <td>NaN</td>\n",
       "      <td>145.0</td>\n",
       "      <td>13.2</td>\n",
       "      <td>77</td>\n",
       "      <td>9</td>\n",
       "      <td>27</td>\n",
       "    </tr>\n",
       "    <tr>\n",
       "      <th>150</th>\n",
       "      <td>14.0</td>\n",
       "      <td>191.0</td>\n",
       "      <td>14.3</td>\n",
       "      <td>75</td>\n",
       "      <td>9</td>\n",
       "      <td>28</td>\n",
       "    </tr>\n",
       "    <tr>\n",
       "      <th>151</th>\n",
       "      <td>18.0</td>\n",
       "      <td>131.0</td>\n",
       "      <td>8.0</td>\n",
       "      <td>76</td>\n",
       "      <td>9</td>\n",
       "      <td>29</td>\n",
       "    </tr>\n",
       "    <tr>\n",
       "      <th>152</th>\n",
       "      <td>20.0</td>\n",
       "      <td>223.0</td>\n",
       "      <td>11.5</td>\n",
       "      <td>68</td>\n",
       "      <td>9</td>\n",
       "      <td>3</td>\n",
       "    </tr>\n",
       "  </tbody>\n",
       "</table>\n",
       "<p>153 rows × 6 columns</p>\n",
       "</div>"
      ],
      "text/plain": [
       "      Ozone  Solar.R  Wind  Temp  Month  Day \n",
       "0      41.0    190.0   7.4    67      5     1\n",
       "1      36.0    118.0   8.0    72      5     2\n",
       "2      12.0    149.0  12.6    74      5     3\n",
       "3      18.0    313.0  11.5    62      5     4\n",
       "4       NaN      NaN  14.3    56      5     5\n",
       "..      ...      ...   ...   ...    ...   ...\n",
       "148    30.0    193.0   6.9    70      9    26\n",
       "149     NaN    145.0  13.2    77      9    27\n",
       "150    14.0    191.0  14.3    75      9    28\n",
       "151    18.0    131.0   8.0    76      9    29\n",
       "152    20.0    223.0  11.5    68      9     3\n",
       "\n",
       "[153 rows x 6 columns]"
      ]
     },
     "execution_count": 6,
     "metadata": {},
     "output_type": "execute_result"
    }
   ],
   "source": [
    "airdata"
   ]
  },
  {
   "cell_type": "code",
   "execution_count": 7,
   "metadata": {},
   "outputs": [],
   "source": [
    "from sklearn.impute import SimpleImputer # Slight modification from recording\n",
    "imp = SimpleImputer(missing_values=py.nan, strategy='mean') # Here as well"
   ]
  },
  {
   "cell_type": "code",
   "execution_count": 8,
   "metadata": {},
   "outputs": [
    {
     "data": {
      "text/plain": [
       "array([[ 41. , 190. ,   7.4,  67. ,   5. ,   1. ],\n",
       "       [ 36. , 118. ,   8. ,  72. ,   5. ,   2. ],\n",
       "       [ 12. , 149. ,  12.6,  74. ,   5. ,   3. ],\n",
       "       [ 18. , 313. ,  11.5,  62. ,   5. ,   4. ],\n",
       "       [  nan,   nan,  14.3,  56. ,   5. ,   5. ],\n",
       "       [ 28. ,   nan,  14.9,  66. ,   5. ,   6. ],\n",
       "       [ 23. , 299. ,   8.6,  65. ,   5. ,   7. ],\n",
       "       [ 19. ,  99. ,  13.8,  59. ,   5. ,   8. ],\n",
       "       [  8. ,  19. ,  20.1,  61. ,   5. ,   9. ],\n",
       "       [  nan, 194. ,   8.6,  69. ,   5. ,  10. ],\n",
       "       [  7. ,   nan,   6.9,  74. ,   5. ,  11. ],\n",
       "       [ 16. , 256. ,   9.7,  69. ,   5. ,  12. ],\n",
       "       [ 11. , 290. ,   9.2,  66. ,   5. ,  13. ],\n",
       "       [ 14. , 274. ,  10.9,  68. ,   5. ,  14. ],\n",
       "       [ 18. ,  65. ,  13.2,  58. ,   5. ,  15. ],\n",
       "       [ 14. , 334. ,  11.5,  64. ,   5. ,  16. ],\n",
       "       [ 34. , 307. ,  12. ,  66. ,   5. ,  17. ],\n",
       "       [  6. ,  78. ,  18.4,  57. ,   5. ,  18. ],\n",
       "       [ 30. , 322. ,  11.5,  68. ,   5. ,  19. ],\n",
       "       [ 11. ,  44. ,   9.7,  62. ,   5. ,  20. ],\n",
       "       [  1. ,   8. ,   9.7,  59. ,   5. ,  21. ],\n",
       "       [ 11. , 320. ,  16.6,  73. ,   5. ,  22. ],\n",
       "       [  4. ,  25. ,   9.7,  61. ,   5. ,  23. ],\n",
       "       [ 32. ,  92. ,  12. ,  61. ,   5. ,  24. ],\n",
       "       [  nan,  66. ,  16.6,  57. ,   5. ,  25. ],\n",
       "       [  nan, 266. ,  14.9,  58. ,   5. ,  26. ],\n",
       "       [  nan,   nan,   8. ,  57. ,   5. ,  27. ],\n",
       "       [ 23. ,  13. ,  12. ,  67. ,   5. ,  28. ],\n",
       "       [ 45. , 252. ,  14.9,  81. ,   5. ,  29. ],\n",
       "       [115. , 223. ,   5.7,  79. ,   5. ,  30. ],\n",
       "       [ 37. , 279. ,   7.4,  76. ,   5. ,  31. ],\n",
       "       [  nan, 286. ,   8.6,  78. ,   6. ,   1. ],\n",
       "       [  nan, 287. ,   9.7,  74. ,   6. ,   2. ],\n",
       "       [  nan, 242. ,  16.1,  67. ,   6. ,   3. ],\n",
       "       [  nan, 186. ,   9.2,  84. ,   6. ,   4. ],\n",
       "       [  nan, 220. ,   8.6,  85. ,   6. ,   5. ],\n",
       "       [  nan, 264. ,  14.3,  79. ,   6. ,   6. ],\n",
       "       [ 29. , 127. ,   9.7,  82. ,   6. ,   7. ],\n",
       "       [  nan, 273. ,   6.9,  87. ,   6. ,   8. ],\n",
       "       [ 71. , 291. ,  13.8,  90. ,   6. ,   9. ],\n",
       "       [ 39. , 323. ,  11.5,  87. ,   6. ,  10. ],\n",
       "       [  nan, 259. ,  10.9,  93. ,   6. ,  11. ],\n",
       "       [  nan, 250. ,   9.2,  92. ,   6. ,  12. ],\n",
       "       [ 23. , 148. ,   8. ,  82. ,   6. ,  13. ],\n",
       "       [  nan, 332. ,  13.8,  80. ,   6. ,  14. ],\n",
       "       [  nan, 322. ,  11.5,  79. ,   6. ,  15. ],\n",
       "       [ 21. , 191. ,  14.9,  77. ,   6. ,  16. ],\n",
       "       [ 37. , 284. ,  20.7,  72. ,   6. ,  17. ],\n",
       "       [ 20. ,  37. ,   9.2,  65. ,   6. ,  18. ],\n",
       "       [ 12. , 120. ,  11.5,  73. ,   6. ,  19. ],\n",
       "       [ 13. , 137. ,  10.3,  76. ,   6. ,  20. ],\n",
       "       [  nan, 150. ,   6.3,  77. ,   6. ,  21. ],\n",
       "       [  nan,  59. ,   1.7,  76. ,   6. ,  22. ],\n",
       "       [  nan,  91. ,   4.6,  76. ,   6. ,  23. ],\n",
       "       [  nan, 250. ,   6.3,  76. ,   6. ,  24. ],\n",
       "       [  nan, 135. ,   8. ,  75. ,   6. ,  25. ],\n",
       "       [  nan, 127. ,   8. ,  78. ,   6. ,  26. ],\n",
       "       [  nan,  47. ,  10.3,  73. ,   6. ,  27. ],\n",
       "       [  nan,  98. ,  11.5,  80. ,   6. ,  28. ],\n",
       "       [  nan,  31. ,  14.9,  77. ,   6. ,  29. ],\n",
       "       [  nan, 138. ,   8. ,  83. ,   6. ,  30. ],\n",
       "       [135. , 269. ,   4.1,  84. ,   7. ,   1. ],\n",
       "       [ 49. , 248. ,   9.2,  85. ,   7. ,   2. ],\n",
       "       [ 32. , 236. ,   9.2,  81. ,   7. ,   3. ],\n",
       "       [  nan, 101. ,  10.9,  84. ,   7. ,   4. ],\n",
       "       [ 64. , 175. ,   4.6,  83. ,   7. ,   5. ],\n",
       "       [ 40. , 314. ,  10.9,  83. ,   7. ,   6. ],\n",
       "       [ 77. , 276. ,   5.1,  88. ,   7. ,   7. ],\n",
       "       [ 97. , 267. ,   6.3,  92. ,   7. ,   8. ],\n",
       "       [ 97. , 272. ,   5.7,  92. ,   7. ,   9. ],\n",
       "       [ 85. , 175. ,   7.4,  89. ,   7. ,  10. ],\n",
       "       [  nan, 139. ,   8.6,  82. ,   7. ,  11. ],\n",
       "       [ 10. , 264. ,  14.3,  73. ,   7. ,  12. ],\n",
       "       [ 27. , 175. ,  14.9,  81. ,   7. ,  13. ],\n",
       "       [  nan, 291. ,  14.9,  91. ,   7. ,  14. ],\n",
       "       [  7. ,  48. ,  14.3,  80. ,   7. ,  15. ],\n",
       "       [ 48. , 260. ,   6.9,  81. ,   7. ,  16. ],\n",
       "       [ 35. , 274. ,  10.3,  82. ,   7. ,  17. ],\n",
       "       [ 61. , 285. ,   6.3,  84. ,   7. ,  18. ],\n",
       "       [ 79. , 187. ,   5.1,  87. ,   7. ,  19. ],\n",
       "       [ 63. , 220. ,  11.5,  85. ,   7. ,  20. ],\n",
       "       [ 16. ,   7. ,   6.9,  74. ,   7. ,  21. ],\n",
       "       [  nan, 258. ,   9.7,  81. ,   7. ,  22. ],\n",
       "       [  nan, 295. ,  11.5,  82. ,   7. ,  23. ],\n",
       "       [ 80. , 294. ,   8.6,  86. ,   7. ,  24. ],\n",
       "       [108. , 223. ,   8. ,  85. ,   7. ,  25. ],\n",
       "       [ 20. ,  81. ,   8.6,  82. ,   7. ,  26. ],\n",
       "       [ 52. ,  82. ,  12. ,  86. ,   7. ,  27. ],\n",
       "       [ 82. , 213. ,   7.4,  88. ,   7. ,  28. ],\n",
       "       [ 50. , 275. ,   7.4,  86. ,   7. ,  29. ],\n",
       "       [ 64. , 253. ,   7.4,  83. ,   7. ,  30. ],\n",
       "       [ 59. , 254. ,   9.2,  81. ,   7. ,  31. ],\n",
       "       [ 39. ,  83. ,   6.9,  81. ,   8. ,   1. ],\n",
       "       [  9. ,  24. ,  13.8,  81. ,   8. ,   2. ],\n",
       "       [ 16. ,  77. ,   7.4,  82. ,   8. ,   3. ],\n",
       "       [ 78. ,   nan,   6.9,  86. ,   8. ,   4. ],\n",
       "       [ 35. ,   nan,   7.4,  85. ,   8. ,   5. ],\n",
       "       [ 66. ,   nan,   4.6,  87. ,   8. ,   6. ],\n",
       "       [122. , 255. ,   4. ,  89. ,   8. ,   7. ],\n",
       "       [ 89. , 229. ,  10.3,  90. ,   8. ,   8. ],\n",
       "       [110. , 207. ,   8. ,  90. ,   8. ,   9. ],\n",
       "       [  nan, 222. ,   8.6,  92. ,   8. ,  10. ],\n",
       "       [  nan, 137. ,  11.5,  86. ,   8. ,  11. ],\n",
       "       [ 44. , 192. ,  11.5,  86. ,   8. ,  12. ],\n",
       "       [ 28. , 273. ,  11.5,  82. ,   8. ,  13. ],\n",
       "       [ 65. , 157. ,   9.7,  80. ,   8. ,  14. ],\n",
       "       [  nan,  64. ,  11.5,  79. ,   8. ,  15. ],\n",
       "       [ 22. ,  71. ,  10.3,  77. ,   8. ,  16. ],\n",
       "       [ 59. ,  51. ,   6.3,  79. ,   8. ,  17. ],\n",
       "       [ 23. , 115. ,   7.4,  76. ,   8. ,  18. ],\n",
       "       [ 31. , 244. ,  10.9,  78. ,   8. ,  19. ],\n",
       "       [ 44. , 190. ,  10.3,  78. ,   8. ,  20. ],\n",
       "       [ 21. , 259. ,  15.5,  77. ,   8. ,  21. ],\n",
       "       [  9. ,  36. ,  14.3,  72. ,   8. ,  22. ],\n",
       "       [  nan, 255. ,  12.6,  75. ,   8. ,  23. ],\n",
       "       [ 45. , 212. ,   9.7,  79. ,   8. ,  24. ],\n",
       "       [168. , 238. ,   3.4,  81. ,   8. ,  25. ],\n",
       "       [ 73. , 215. ,   8. ,  86. ,   8. ,  26. ],\n",
       "       [  nan, 153. ,   5.7,  88. ,   8. ,  27. ],\n",
       "       [ 76. , 203. ,   9.7,  97. ,   8. ,  28. ],\n",
       "       [118. , 225. ,   2.3,  94. ,   8. ,  29. ],\n",
       "       [ 84. , 237. ,   6.3,  96. ,   8. ,  30. ],\n",
       "       [ 85. , 188. ,   6.3,  94. ,   8. ,  31. ],\n",
       "       [ 96. , 167. ,   6.9,  91. ,   9. ,   1. ],\n",
       "       [ 78. , 197. ,   5.1,  92. ,   9. ,   2. ],\n",
       "       [ 73. , 183. ,   2.8,  93. ,   9. ,   3. ],\n",
       "       [ 91. , 189. ,   4.6,  93. ,   9. ,   4. ],\n",
       "       [ 47. ,  95. ,   7.4,  87. ,   9. ,   5. ],\n",
       "       [ 32. ,  92. ,  15.5,  84. ,   9. ,   6. ],\n",
       "       [ 20. , 252. ,  10.9,  80. ,   9. ,   7. ],\n",
       "       [ 23. , 220. ,  10.3,  78. ,   9. ,   8. ],\n",
       "       [ 21. , 230. ,  10.9,  75. ,   9. ,   9. ],\n",
       "       [ 24. , 259. ,   9.7,  73. ,   9. ,  10. ],\n",
       "       [ 44. , 236. ,  14.9,  81. ,   9. ,  11. ],\n",
       "       [ 21. , 259. ,  15.5,  76. ,   9. ,  12. ],\n",
       "       [ 28. , 238. ,   6.3,  77. ,   9. ,  13. ],\n",
       "       [  9. ,  24. ,  10.9,  71. ,   9. ,  14. ],\n",
       "       [ 13. , 112. ,  11.5,  71. ,   9. ,  15. ],\n",
       "       [ 46. , 237. ,   6.9,  78. ,   9. ,  16. ],\n",
       "       [ 18. , 224. ,  13.8,  67. ,   9. ,  17. ],\n",
       "       [ 13. ,  27. ,  10.3,  76. ,   9. ,  18. ],\n",
       "       [ 24. , 238. ,  10.3,  68. ,   9. ,  19. ],\n",
       "       [ 16. , 201. ,   8. ,  82. ,   9. ,  20. ],\n",
       "       [ 13. , 238. ,  12.6,  64. ,   9. ,  21. ],\n",
       "       [ 23. ,  14. ,   9.2,  71. ,   9. ,  22. ],\n",
       "       [ 36. , 139. ,  10.3,  81. ,   9. ,  23. ],\n",
       "       [  7. ,  49. ,  10.3,  69. ,   9. ,  24. ],\n",
       "       [ 14. ,  20. ,  16.6,  63. ,   9. ,  25. ],\n",
       "       [ 30. , 193. ,   6.9,  70. ,   9. ,  26. ],\n",
       "       [  nan, 145. ,  13.2,  77. ,   9. ,  27. ],\n",
       "       [ 14. , 191. ,  14.3,  75. ,   9. ,  28. ],\n",
       "       [ 18. , 131. ,   8. ,  76. ,   9. ,  29. ],\n",
       "       [ 20. , 223. ,  11.5,  68. ,   9. ,   3. ]])"
      ]
     },
     "execution_count": 8,
     "metadata": {},
     "output_type": "execute_result"
    }
   ],
   "source": [
    "features = airdata.iloc[:,:].values\n",
    "features"
   ]
  },
  {
   "cell_type": "code",
   "execution_count": 9,
   "metadata": {},
   "outputs": [],
   "source": [
    "imp.fit(features[:,:])\n",
    "features[:,:] = imp.fit_transform(features[:,:])"
   ]
  },
  {
   "cell_type": "code",
   "execution_count": 10,
   "metadata": {},
   "outputs": [],
   "source": [
    "cleandata = pd.DataFrame(features)"
   ]
  },
  {
   "cell_type": "code",
   "execution_count": 11,
   "metadata": {},
   "outputs": [],
   "source": [
    "cleandata.columns=['Ozone','Solar.R', 'Wind', 'Temp', 'Month', 'Day']"
   ]
  },
  {
   "cell_type": "code",
   "execution_count": 12,
   "metadata": {},
   "outputs": [
    {
     "data": {
      "text/plain": [
       "Ozone      0\n",
       "Solar.R    0\n",
       "Wind       0\n",
       "Temp       0\n",
       "Month      0\n",
       "Day        0\n",
       "dtype: int64"
      ]
     },
     "execution_count": 12,
     "metadata": {},
     "output_type": "execute_result"
    }
   ],
   "source": [
    "cleandata.apply(lambda x: sum(x.isnull()), axis=0)"
   ]
  },
  {
   "cell_type": "code",
   "execution_count": 13,
   "metadata": {},
   "outputs": [
    {
     "data": {
      "text/html": [
       "<div>\n",
       "<style scoped>\n",
       "    .dataframe tbody tr th:only-of-type {\n",
       "        vertical-align: middle;\n",
       "    }\n",
       "\n",
       "    .dataframe tbody tr th {\n",
       "        vertical-align: top;\n",
       "    }\n",
       "\n",
       "    .dataframe thead th {\n",
       "        text-align: right;\n",
       "    }\n",
       "</style>\n",
       "<table border=\"1\" class=\"dataframe\">\n",
       "  <thead>\n",
       "    <tr style=\"text-align: right;\">\n",
       "      <th></th>\n",
       "      <th>Ozone</th>\n",
       "      <th>Solar.R</th>\n",
       "      <th>Wind</th>\n",
       "      <th>Temp</th>\n",
       "      <th>Month</th>\n",
       "      <th>Day</th>\n",
       "    </tr>\n",
       "  </thead>\n",
       "  <tbody>\n",
       "    <tr>\n",
       "      <th>0</th>\n",
       "      <td>41.00000</td>\n",
       "      <td>190.000000</td>\n",
       "      <td>7.4</td>\n",
       "      <td>67.0</td>\n",
       "      <td>5.0</td>\n",
       "      <td>1.0</td>\n",
       "    </tr>\n",
       "    <tr>\n",
       "      <th>1</th>\n",
       "      <td>36.00000</td>\n",
       "      <td>118.000000</td>\n",
       "      <td>8.0</td>\n",
       "      <td>72.0</td>\n",
       "      <td>5.0</td>\n",
       "      <td>2.0</td>\n",
       "    </tr>\n",
       "    <tr>\n",
       "      <th>2</th>\n",
       "      <td>12.00000</td>\n",
       "      <td>149.000000</td>\n",
       "      <td>12.6</td>\n",
       "      <td>74.0</td>\n",
       "      <td>5.0</td>\n",
       "      <td>3.0</td>\n",
       "    </tr>\n",
       "    <tr>\n",
       "      <th>3</th>\n",
       "      <td>18.00000</td>\n",
       "      <td>313.000000</td>\n",
       "      <td>11.5</td>\n",
       "      <td>62.0</td>\n",
       "      <td>5.0</td>\n",
       "      <td>4.0</td>\n",
       "    </tr>\n",
       "    <tr>\n",
       "      <th>4</th>\n",
       "      <td>42.12931</td>\n",
       "      <td>185.931507</td>\n",
       "      <td>14.3</td>\n",
       "      <td>56.0</td>\n",
       "      <td>5.0</td>\n",
       "      <td>5.0</td>\n",
       "    </tr>\n",
       "    <tr>\n",
       "      <th>...</th>\n",
       "      <td>...</td>\n",
       "      <td>...</td>\n",
       "      <td>...</td>\n",
       "      <td>...</td>\n",
       "      <td>...</td>\n",
       "      <td>...</td>\n",
       "    </tr>\n",
       "    <tr>\n",
       "      <th>148</th>\n",
       "      <td>30.00000</td>\n",
       "      <td>193.000000</td>\n",
       "      <td>6.9</td>\n",
       "      <td>70.0</td>\n",
       "      <td>9.0</td>\n",
       "      <td>26.0</td>\n",
       "    </tr>\n",
       "    <tr>\n",
       "      <th>149</th>\n",
       "      <td>42.12931</td>\n",
       "      <td>145.000000</td>\n",
       "      <td>13.2</td>\n",
       "      <td>77.0</td>\n",
       "      <td>9.0</td>\n",
       "      <td>27.0</td>\n",
       "    </tr>\n",
       "    <tr>\n",
       "      <th>150</th>\n",
       "      <td>14.00000</td>\n",
       "      <td>191.000000</td>\n",
       "      <td>14.3</td>\n",
       "      <td>75.0</td>\n",
       "      <td>9.0</td>\n",
       "      <td>28.0</td>\n",
       "    </tr>\n",
       "    <tr>\n",
       "      <th>151</th>\n",
       "      <td>18.00000</td>\n",
       "      <td>131.000000</td>\n",
       "      <td>8.0</td>\n",
       "      <td>76.0</td>\n",
       "      <td>9.0</td>\n",
       "      <td>29.0</td>\n",
       "    </tr>\n",
       "    <tr>\n",
       "      <th>152</th>\n",
       "      <td>20.00000</td>\n",
       "      <td>223.000000</td>\n",
       "      <td>11.5</td>\n",
       "      <td>68.0</td>\n",
       "      <td>9.0</td>\n",
       "      <td>3.0</td>\n",
       "    </tr>\n",
       "  </tbody>\n",
       "</table>\n",
       "<p>153 rows × 6 columns</p>\n",
       "</div>"
      ],
      "text/plain": [
       "        Ozone     Solar.R  Wind  Temp  Month   Day\n",
       "0    41.00000  190.000000   7.4  67.0    5.0   1.0\n",
       "1    36.00000  118.000000   8.0  72.0    5.0   2.0\n",
       "2    12.00000  149.000000  12.6  74.0    5.0   3.0\n",
       "3    18.00000  313.000000  11.5  62.0    5.0   4.0\n",
       "4    42.12931  185.931507  14.3  56.0    5.0   5.0\n",
       "..        ...         ...   ...   ...    ...   ...\n",
       "148  30.00000  193.000000   6.9  70.0    9.0  26.0\n",
       "149  42.12931  145.000000  13.2  77.0    9.0  27.0\n",
       "150  14.00000  191.000000  14.3  75.0    9.0  28.0\n",
       "151  18.00000  131.000000   8.0  76.0    9.0  29.0\n",
       "152  20.00000  223.000000  11.5  68.0    9.0   3.0\n",
       "\n",
       "[153 rows x 6 columns]"
      ]
     },
     "execution_count": 13,
     "metadata": {},
     "output_type": "execute_result"
    }
   ],
   "source": [
    "cleandata"
   ]
  },
  {
   "cell_type": "code",
   "execution_count": 14,
   "metadata": {},
   "outputs": [
    {
     "data": {
      "text/plain": [
       "<matplotlib.axes._subplots.AxesSubplot at 0x7fdbb7d5d090>"
      ]
     },
     "execution_count": 14,
     "metadata": {},
     "output_type": "execute_result"
    },
    {
     "data": {
      "image/png": "[encoded data removed]",
      "text/plain": [
       "<Figure size 432x288 with 1 Axes>"
      ]
     },
     "metadata": {
      "needs_background": "light"
     },
     "output_type": "display_data"
    }
   ],
   "source": [
    "import seaborn as sns\n",
    "sns.boxplot(x=cleandata['Ozone']) ####### Ozone"
   ]
  },
  {
   "cell_type": "code",
   "execution_count": 15,
   "metadata": {},
   "outputs": [
    {
     "data": {
      "text/plain": [
       "<matplotlib.axes._subplots.AxesSubplot at 0x7fdbb7e1f410>"
      ]
     },
     "execution_count": 15,
     "metadata": {},
     "output_type": "execute_result"
    },
    {
     "data": {
      "image/png": "[encoded data removed]",
      "text/plain": [
       "<Figure size 432x288 with 1 Axes>"
      ]
     },
     "metadata": {
      "needs_background": "light"
     },
     "output_type": "display_data"
    }
   ],
   "source": [
    "sns.boxplot(x=cleandata['Temp']) ###### Temps"
   ]
  },
  {
   "cell_type": "code",
   "execution_count": 16,
   "metadata": {},
   "outputs": [
    {
     "data": {
      "text/plain": [
       "<matplotlib.axes._subplots.AxesSubplot at 0x7fdbb7dfd450>"
      ]
     },
     "execution_count": 16,
     "metadata": {},
     "output_type": "execute_result"
    },
    {
     "data": {
      "image/png": "[encoded data removed]",
      "text/plain": [
       "<Figure size 432x288 with 1 Axes>"
      ]
     },
     "metadata": {
      "needs_background": "light"
     },
     "output_type": "display_data"
    }
   ],
   "source": [
    "sns.boxplot(x=cleandata['Solar.R']) ######## Solar R"
   ]
  },
  {
   "cell_type": "code",
   "execution_count": 17,
   "metadata": {},
   "outputs": [
    {
     "data": {
      "text/plain": [
       "<matplotlib.axes._subplots.AxesSubplot at 0x7fdbb81028d0>"
      ]
     },
     "execution_count": 17,
     "metadata": {},
     "output_type": "execute_result"
    },
    {
     "data": {
      "image/png": "[encoded data removed]",
      "text/plain": [
       "<Figure size 432x288 with 1 Axes>"
      ]
     },
     "metadata": {
      "needs_background": "light"
     },
     "output_type": "display_data"
    }
   ],
   "source": [
    "sns.boxplot(x=cleandata['Wind']) ###### Wind"
   ]
  },
  {
   "cell_type": "code",
   "execution_count": 18,
   "metadata": {},
   "outputs": [
    {
     "name": "stdout",
     "output_type": "stream",
     "text": [
      "[[3.94871361e-02 4.64056617e-02 7.28332230e-01 1.15348973e+00\n",
      "  1.41191599e+00 1.65847407e+00]\n",
      " [2.14315677e-01 7.74833927e-01 5.57463590e-01 6.23507964e-01\n",
      "  1.41191599e+00 1.54509314e+00]\n",
      " [1.05349268e+00 4.21244659e-01 7.52529314e-01 4.11515256e-01\n",
      "  1.41191599e+00 1.43171220e+00]\n",
      " [8.43698426e-01 1.44935663e+00 4.39270141e-01 1.68347150e+00\n",
      "  1.41191599e+00 1.31833127e+00]\n",
      " [0.00000000e+00 0.00000000e+00 1.23665713e+00 2.31944963e+00\n",
      "  1.41191599e+00 1.20495033e+00]\n",
      " [4.94041344e-01 0.00000000e+00 1.40752577e+00 1.25948609e+00\n",
      "  1.41191599e+00 1.09156940e+00]\n",
      " [6.68869885e-01 1.28967115e+00 3.86594951e-01 1.36548244e+00\n",
      "  1.41191599e+00 9.78188462e-01]\n",
      " [8.08732718e-01 9.91549929e-01 1.09426659e+00 2.00146056e+00\n",
      "  1.41191599e+00 8.64807526e-01]\n",
      " [1.19335551e+00 1.90403836e+00 2.88838731e+00 1.78946786e+00\n",
      "  1.41191599e+00 7.51426591e-01]\n",
      " [0.00000000e+00 9.20300832e-02 3.86594951e-01 9.41497026e-01\n",
      "  1.41191599e+00 6.38045656e-01]\n",
      " [1.22832122e+00 0.00000000e+00 8.70722763e-01 4.11515256e-01\n",
      "  1.41191599e+00 5.24664720e-01]\n",
      " [9.13629843e-01 7.99208618e-01 7.33357778e-02 9.41497026e-01\n",
      "  1.41191599e+00 4.11283785e-01]\n",
      " [1.08845838e+00 1.18701620e+00 2.15726311e-01 1.25948609e+00\n",
      "  1.41191599e+00 2.97902850e-01]\n",
      " [9.83561259e-01 1.00451851e+00 2.68401502e-01 1.04749338e+00\n",
      "  1.41191599e+00 1.84521914e-01]\n",
      " [8.43698426e-01 1.37935751e+00 9.23397954e-01 2.10745692e+00\n",
      "  1.41191599e+00 7.11409790e-02]\n",
      " [9.83561259e-01 1.68888484e+00 4.39270141e-01 1.47147880e+00\n",
      "  1.41191599e+00 4.22399563e-02]\n",
      " [2.84247094e-01 1.38091999e+00 5.81660674e-01 1.25948609e+00\n",
      "  1.41191599e+00 1.55620892e-01]\n",
      " [1.26328693e+00 1.23107814e+00 2.40425950e+00 2.21345327e+00\n",
      "  1.41191599e+00 2.69001827e-01]\n",
      " [4.24109927e-01 1.55201157e+00 4.39270141e-01 1.04749338e+00\n",
      "  1.41191599e+00 3.82382762e-01]\n",
      " [1.08845838e+00 1.61888573e+00 7.33357778e-02 1.68347150e+00\n",
      "  1.41191599e+00 4.95763698e-01]\n",
      " [1.43811547e+00 2.02950552e+00 7.33357778e-02 2.00146056e+00\n",
      "  1.41191599e+00 6.09144633e-01]\n",
      " [1.08845838e+00 1.52919936e+00 1.89165358e+00 5.17511610e-01\n",
      "  1.41191599e+00 7.22525568e-01]\n",
      " [1.33321834e+00 1.83560173e+00 7.33357778e-02 1.78946786e+00\n",
      "  1.41191599e+00 8.35906504e-01]\n",
      " [3.54178510e-01 1.07139267e+00 5.81660674e-01 1.78946786e+00\n",
      "  1.41191599e+00 9.49287439e-01]\n",
      " [0.00000000e+00 1.36795141e+00 1.89165358e+00 2.21345327e+00\n",
      "  1.41191599e+00 1.06266837e+00]\n",
      " [0.00000000e+00 9.13269672e-01 1.40752577e+00 2.10745692e+00\n",
      "  1.41191599e+00 1.17604931e+00]\n",
      " [0.00000000e+00 0.00000000e+00 5.57463590e-01 2.21345327e+00\n",
      "  1.41191599e+00 1.28943024e+00]\n",
      " [6.68869885e-01 1.97247499e+00 5.81660674e-01 1.15348973e+00\n",
      "  1.41191599e+00 1.40281118e+00]\n",
      " [1.00375697e-01 7.53584196e-01 1.40752577e+00 3.30459221e-01\n",
      "  1.41191599e+00 1.51619212e+00]\n",
      " [2.54797528e+00 4.22807140e-01 1.21246004e+00 1.18466513e-01\n",
      "  1.41191599e+00 1.62957305e+00]\n",
      " [1.79349969e-01 1.06154904e+00 7.28332230e-01 1.99522548e-01\n",
      "  1.41191599e+00 1.74295399e+00]\n",
      " [0.00000000e+00 1.14139178e+00 3.86594951e-01 1.24701593e-02\n",
      "  7.03643380e-01 1.65847407e+00]\n",
      " [0.00000000e+00 1.15279788e+00 7.33357778e-02 4.11515256e-01\n",
      "  7.03643380e-01 1.54509314e+00]\n",
      " [0.00000000e+00 6.39523142e-01 1.74926305e+00 1.15348973e+00\n",
      "  7.03643380e-01 1.43171220e+00]\n",
      " [0.00000000e+00 7.81240095e-04 2.15726311e-01 6.48448283e-01\n",
      "  7.03643380e-01 1.31833127e+00]\n",
      " [0.00000000e+00 3.88588823e-01 3.86594951e-01 7.54444636e-01\n",
      "  7.03643380e-01 1.20495033e+00]\n",
      " [0.00000000e+00 8.90457461e-01 1.23665713e+00 1.18466513e-01\n",
      "  7.03643380e-01 1.09156940e+00]\n",
      " [4.59075635e-01 6.72178978e-01 7.33357778e-02 4.36455575e-01\n",
      "  7.03643380e-01 9.78188462e-01]\n",
      " [0.00000000e+00 9.93112409e-01 8.70722763e-01 9.66437344e-01\n",
      "  7.03643380e-01 8.64807526e-01]\n",
      " [1.00948411e+00 1.19842231e+00 1.09426659e+00 1.28442641e+00\n",
      "  7.03643380e-01 7.51426591e-01]\n",
      " [1.09418553e-01 1.56341768e+00 4.39270141e-01 9.66437344e-01\n",
      "  7.03643380e-01 6.38045656e-01]\n",
      " [0.00000000e+00 8.33426934e-01 2.68401502e-01 1.60241547e+00\n",
      "  7.03643380e-01 5.24664720e-01]\n",
      " [0.00000000e+00 7.30771985e-01 2.15726311e-01 1.49641911e+00\n",
      "  7.03643380e-01 4.11283785e-01]\n",
      " [6.68869885e-01 4.32650765e-01 5.57463590e-01 4.36455575e-01\n",
      "  7.03643380e-01 2.97902850e-01]\n",
      " [0.00000000e+00 1.66607263e+00 1.09426659e+00 2.24462867e-01\n",
      "  7.03643380e-01 1.84521914e-01]\n",
      " [0.00000000e+00 1.55201157e+00 4.39270141e-01 1.18466513e-01\n",
      "  7.03643380e-01 7.11409790e-02]\n",
      " [7.38801301e-01 5.78117671e-02 1.40752577e+00 9.35261946e-02\n",
      "  7.03643380e-01 4.22399563e-02]\n",
      " [1.79349969e-01 1.11857957e+00 3.05925595e+00 6.23507964e-01\n",
      "  7.03643380e-01 1.55620892e-01]\n",
      " [7.73767010e-01 1.69872846e+00 2.15726311e-01 1.36548244e+00\n",
      "  7.03643380e-01 2.69001827e-01]\n",
      " [1.05349268e+00 7.52021716e-01 4.39270141e-01 5.17511610e-01\n",
      "  7.03643380e-01 3.82382762e-01]\n",
      " [1.01852697e+00 5.58117924e-01 9.75328619e-02 1.99522548e-01\n",
      "  7.03643380e-01 4.95763698e-01]\n",
      " [0.00000000e+00 4.09838554e-01 1.04159140e+00 9.35261946e-02\n",
      "  7.03643380e-01 6.09144633e-01]\n",
      " [0.00000000e+00 1.44779414e+00 2.35158431e+00 1.99522548e-01\n",
      "  7.03643380e-01 7.22525568e-01]\n",
      " [0.00000000e+00 1.08279877e+00 1.52571922e+00 1.99522548e-01\n",
      "  7.03643380e-01 8.35906504e-01]\n",
      " [0.00000000e+00 7.30771985e-01 1.04159140e+00 1.99522548e-01\n",
      "  7.03643380e-01 9.49287439e-01]\n",
      " [0.00000000e+00 5.80930135e-01 5.57463590e-01 3.05518902e-01\n",
      "  7.03643380e-01 1.06266837e+00]\n",
      " [0.00000000e+00 6.72178978e-01 5.57463590e-01 1.24701593e-02\n",
      "  7.03643380e-01 1.17604931e+00]\n",
      " [0.00000000e+00 1.58466741e+00 9.75328619e-02 5.17511610e-01\n",
      "  7.03643380e-01 1.28943024e+00]\n",
      " [0.00000000e+00 1.00295603e+00 4.39270141e-01 2.24462867e-01\n",
      "  7.03643380e-01 1.40281118e+00]\n",
      " [0.00000000e+00 1.76716510e+00 1.40752577e+00 9.35261946e-02\n",
      "  7.03643380e-01 1.51619212e+00]\n",
      " [0.00000000e+00 5.46711819e-01 5.57463590e-01 5.42451929e-01\n",
      "  7.03643380e-01 1.62957305e+00]\n",
      " [3.24728944e+00 9.47487988e-01 1.66810975e+00 6.48448283e-01\n",
      "  4.62923276e-03 1.65847407e+00]\n",
      " [2.40238530e-01 7.07959774e-01 2.15726311e-01 7.54444636e-01\n",
      "  4.62923276e-03 1.54509314e+00]\n",
      " [3.54178510e-01 5.71086510e-01 2.15726311e-01 3.30459221e-01\n",
      "  4.62923276e-03 1.43171220e+00]\n",
      " [0.00000000e+00 9.68737718e-01 2.68401502e-01 6.48448283e-01\n",
      "  4.62923276e-03 1.31833127e+00]\n",
      " [7.64724154e-01 1.24685919e-01 1.52571922e+00 5.42451929e-01\n",
      "  4.62923276e-03 1.20495033e+00]\n",
      " [7.44528443e-02 1.46076273e+00 2.68401502e-01 5.42451929e-01\n",
      "  4.62923276e-03 1.09156940e+00]\n",
      " [1.21927836e+00 1.02733073e+00 1.38332868e+00 1.07243370e+00\n",
      "  4.62923276e-03 9.78188462e-01]\n",
      " [1.91859253e+00 9.24675777e-01 1.04159140e+00 1.49641911e+00\n",
      "  4.62923276e-03 8.64807526e-01]\n",
      " [1.91859253e+00 9.81706304e-01 1.21246004e+00 1.49641911e+00\n",
      "  4.62923276e-03 7.51426591e-01]\n",
      " [1.49900403e+00 1.24685919e-01 7.28332230e-01 1.17843005e+00\n",
      "  4.62923276e-03 6.38045656e-01]\n",
      " [0.00000000e+00 5.35305713e-01 3.86594951e-01 4.36455575e-01\n",
      "  4.62923276e-03 5.24664720e-01]\n",
      " [1.12342409e+00 8.90457461e-01 1.23665713e+00 5.17511610e-01\n",
      "  4.62923276e-03 4.11283785e-01]\n",
      " [5.29007052e-01 1.24685919e-01 1.40752577e+00 3.30459221e-01\n",
      "  4.62923276e-03 2.97902850e-01]\n",
      " [0.00000000e+00 1.19842231e+00 1.40752577e+00 1.39042276e+00\n",
      "  4.62923276e-03 1.84521914e-01]\n",
      " [1.22832122e+00 1.57326130e+00 1.23665713e+00 2.24462867e-01\n",
      "  4.62923276e-03 7.11409790e-02]\n",
      " [2.05272822e-01 8.44833039e-01 8.70722763e-01 3.30459221e-01\n",
      "  4.62923276e-03 4.22399563e-02]\n",
      " [2.49281386e-01 1.00451851e+00 9.75328619e-02 4.36455575e-01\n",
      "  4.62923276e-03 1.55620892e-01]\n",
      " [6.59827029e-01 1.12998567e+00 1.04159140e+00 6.48448283e-01\n",
      "  4.62923276e-03 2.69001827e-01]\n",
      " [1.28920978e+00 1.21873455e-02 1.38332868e+00 9.66437344e-01\n",
      "  4.62923276e-03 3.82382762e-01]\n",
      " [7.29758446e-01 3.88588823e-01 4.39270141e-01 7.54444636e-01\n",
      "  4.62923276e-03 4.95763698e-01]\n",
      " [9.13629843e-01 2.04091163e+00 8.70722763e-01 4.11515256e-01\n",
      "  4.62923276e-03 6.09144633e-01]\n",
      " [0.00000000e+00 8.22020828e-01 7.33357778e-02 3.30459221e-01\n",
      "  4.62923276e-03 7.22525568e-01]\n",
      " [0.00000000e+00 1.24404673e+00 4.39270141e-01 4.36455575e-01\n",
      "  4.62923276e-03 8.35906504e-01]\n",
      " [1.32417549e+00 1.23264062e+00 3.86594951e-01 8.60440990e-01\n",
      "  4.62923276e-03 9.49287439e-01]\n",
      " [2.30321532e+00 4.22807140e-01 5.57463590e-01 7.54444636e-01\n",
      "  4.62923276e-03 1.06266837e+00]\n",
      " [7.73767010e-01 1.19685983e+00 3.86594951e-01 4.36455575e-01\n",
      "  4.62923276e-03 1.17604931e+00]\n",
      " [3.45135655e-01 1.18545372e+00 5.81660674e-01 8.60440990e-01\n",
      "  4.62923276e-03 1.28943024e+00]\n",
      " [1.39410690e+00 3.08746086e-01 7.28332230e-01 1.07243370e+00\n",
      "  4.62923276e-03 1.40281118e+00]\n",
      " [2.75204238e-01 1.01592462e+00 7.28332230e-01 8.60440990e-01\n",
      "  4.62923276e-03 1.51619212e+00]\n",
      " [7.64724154e-01 7.64990301e-01 7.28332230e-01 5.42451929e-01\n",
      "  4.62923276e-03 1.62957305e+00]\n",
      " [5.89895613e-01 7.76396407e-01 2.15726311e-01 3.30459221e-01\n",
      "  4.62923276e-03 1.74295399e+00]\n",
      " [1.09418553e-01 1.17404762e+00 8.70722763e-01 3.30459221e-01\n",
      "  7.12901846e-01 1.65847407e+00]\n",
      " [1.15838980e+00 1.84700783e+00 1.09426659e+00 3.30459221e-01\n",
      "  7.12901846e-01 1.54509314e+00]\n",
      " [9.13629843e-01 1.24248425e+00 7.28332230e-01 4.36455575e-01\n",
      "  7.12901846e-01 1.43171220e+00]\n",
      " [1.25424407e+00 0.00000000e+00 8.70722763e-01 8.60440990e-01\n",
      "  7.12901846e-01 1.31833127e+00]\n",
      " [2.49281386e-01 0.00000000e+00 7.28332230e-01 7.54444636e-01\n",
      "  7.12901846e-01 1.20495033e+00]\n",
      " [8.34655571e-01 0.00000000e+00 1.52571922e+00 9.66437344e-01\n",
      "  7.12901846e-01 1.09156940e+00]\n",
      " [2.79273523e+00 7.87802512e-01 1.69658785e+00 1.17843005e+00\n",
      "  7.12901846e-01 9.78188462e-01]\n",
      " [1.63886686e+00 4.91243772e-01 9.75328619e-02 1.28442641e+00\n",
      "  7.12901846e-01 8.64807526e-01]\n",
      " [2.37314673e+00 2.40309453e-01 5.57463590e-01 1.28442641e+00\n",
      "  7.12901846e-01 7.51426591e-01]\n",
      " [0.00000000e+00 4.11401034e-01 3.86594951e-01 1.49641911e+00\n",
      "  7.12901846e-01 6.38045656e-01]\n",
      " [0.00000000e+00 5.58117924e-01 4.39270141e-01 8.60440990e-01\n",
      "  7.12901846e-01 5.24664720e-01]\n",
      " [6.54099887e-02 6.92178725e-02 4.39270141e-01 8.60440990e-01\n",
      "  7.12901846e-01 4.11283785e-01]\n",
      " [4.94041344e-01 9.93112409e-01 4.39270141e-01 4.36455575e-01\n",
      "  7.12901846e-01 2.97902850e-01]\n",
      " [7.99689862e-01 3.29995816e-01 7.33357778e-02 2.24462867e-01\n",
      "  7.12901846e-01 1.84521914e-01]\n",
      " [0.00000000e+00 1.39076362e+00 4.39270141e-01 1.18466513e-01\n",
      "  7.12901846e-01 7.11409790e-02]\n",
      " [7.03835593e-01 1.31092088e+00 9.75328619e-02 9.35261946e-02\n",
      "  7.12901846e-01 4.22399563e-02]\n",
      " [5.89895613e-01 1.53904299e+00 1.04159140e+00 1.18466513e-01\n",
      "  7.12901846e-01 1.55620892e-01]\n",
      " [6.68869885e-01 8.09052243e-01 7.28332230e-01 1.99522548e-01\n",
      "  7.12901846e-01 2.69001827e-01]\n",
      " [3.89144219e-01 6.62335353e-01 2.68401502e-01 1.24701593e-02\n",
      "  7.12901846e-01 3.82382762e-01]\n",
      " [6.54099887e-02 4.64056617e-02 9.75328619e-02 1.24701593e-02\n",
      "  7.12901846e-01 4.95763698e-01]\n",
      " [7.38801301e-01 8.33426934e-01 1.57839441e+00 9.35261946e-02\n",
      "  7.12901846e-01 6.09144633e-01]\n",
      " [1.15838980e+00 1.71013457e+00 1.23665713e+00 6.23507964e-01\n",
      "  7.12901846e-01 7.22525568e-01]\n",
      " [0.00000000e+00 7.87802512e-01 7.52529314e-01 3.05518902e-01\n",
      "  7.12901846e-01 8.35906504e-01]\n",
      " [1.00375697e-01 2.97339980e-01 7.33357778e-02 1.18466513e-01\n",
      "  7.12901846e-01 9.49287439e-01]\n",
      " [4.40115781e+00 5.93898721e-01 1.86745649e+00 3.30459221e-01\n",
      "  7.12901846e-01 1.06266837e+00]\n",
      " [1.07941553e+00 3.31558297e-01 5.57463590e-01 8.60440990e-01\n",
      "  7.12901846e-01 1.17604931e+00]\n",
      " [0.00000000e+00 3.75620238e-01 1.21246004e+00 1.07243370e+00\n",
      "  7.12901846e-01 1.28943024e+00]\n",
      " [1.18431265e+00 1.94685032e-01 7.33357778e-02 2.02640088e+00\n",
      "  7.12901846e-01 1.40281118e+00]\n",
      " [2.65287240e+00 4.45619350e-01 2.18071567e+00 1.70841182e+00\n",
      "  7.12901846e-01 1.51619212e+00]\n",
      " [1.46403832e+00 5.82492615e-01 1.04159140e+00 1.92040453e+00\n",
      "  7.12901846e-01 1.62957305e+00]\n",
      " [1.49900403e+00 2.35934509e-02 1.04159140e+00 1.70841182e+00\n",
      "  7.12901846e-01 1.74295399e+00]\n",
      " [1.88362682e+00 2.15934762e-01 8.70722763e-01 1.39042276e+00\n",
      "  1.42117446e+00 1.65847407e+00]\n",
      " [1.25424407e+00 1.26248399e-01 1.38332868e+00 1.49641911e+00\n",
      "  1.42117446e+00 1.54509314e+00]\n",
      " [1.07941553e+00 3.34370761e-02 2.03832513e+00 1.60241547e+00\n",
      "  1.42117446e+00 1.43171220e+00]\n",
      " [1.70879828e+00 3.49995563e-02 1.52571922e+00 1.60241547e+00\n",
      "  1.42117446e+00 1.31833127e+00]\n",
      " [1.70307114e-01 1.03717435e+00 7.28332230e-01 9.66437344e-01\n",
      "  1.42117446e+00 1.20495033e+00]\n",
      " [3.54178510e-01 1.07139267e+00 1.57839441e+00 6.48448283e-01\n",
      "  1.42117446e+00 1.09156940e+00]\n",
      " [7.73767010e-01 7.53584196e-01 2.68401502e-01 2.24462867e-01\n",
      "  1.42117446e+00 9.78188462e-01]\n",
      " [6.68869885e-01 3.88588823e-01 9.75328619e-02 1.24701593e-02\n",
      "  1.42117446e+00 8.64807526e-01]\n",
      " [7.38801301e-01 5.02649877e-01 2.68401502e-01 3.05518902e-01\n",
      "  1.42117446e+00 7.51426591e-01]\n",
      " [6.33904177e-01 8.33426934e-01 7.33357778e-02 5.17511610e-01\n",
      "  1.42117446e+00 6.38045656e-01]\n",
      " [6.54099887e-02 5.71086510e-01 1.40752577e+00 3.30459221e-01\n",
      "  1.42117446e+00 5.24664720e-01]\n",
      " [7.38801301e-01 8.33426934e-01 1.57839441e+00 1.99522548e-01\n",
      "  1.42117446e+00 4.11283785e-01]\n",
      " [4.94041344e-01 5.93898721e-01 1.04159140e+00 9.35261946e-02\n",
      "  1.42117446e+00 2.97902850e-01]\n",
      " [1.15838980e+00 1.84700783e+00 2.68401502e-01 7.29504318e-01\n",
      "  1.42117446e+00 1.84521914e-01]\n",
      " [1.01852697e+00 8.43270559e-01 4.39270141e-01 7.29504318e-01\n",
      "  1.42117446e+00 7.11409790e-02]\n",
      " [1.35341405e-01 5.82492615e-01 8.70722763e-01 1.24701593e-02\n",
      "  1.42117446e+00 4.22399563e-02]\n",
      " [8.43698426e-01 4.34213245e-01 1.09426659e+00 1.15348973e+00\n",
      "  1.42117446e+00 1.55620892e-01]\n",
      " [1.01852697e+00 1.81278952e+00 9.75328619e-02 1.99522548e-01\n",
      "  1.42117446e+00 2.69001827e-01]\n",
      " [6.33904177e-01 5.93898721e-01 9.75328619e-02 1.04749338e+00\n",
      "  1.42117446e+00 3.82382762e-01]\n",
      " [9.13629843e-01 1.71872821e-01 5.57463590e-01 4.36455575e-01\n",
      "  1.42117446e+00 4.95763698e-01]\n",
      " [1.01852697e+00 5.93898721e-01 7.52529314e-01 1.47147880e+00\n",
      "  1.42117446e+00 6.09144633e-01]\n",
      " [6.68869885e-01 1.96106889e+00 2.15726311e-01 7.29504318e-01\n",
      "  1.42117446e+00 7.22525568e-01]\n",
      " [2.14315677e-01 5.35305713e-01 9.75328619e-02 3.30459221e-01\n",
      "  1.42117446e+00 8.35906504e-01]\n",
      " [1.22832122e+00 1.56185520e+00 9.75328619e-02 9.41497026e-01\n",
      "  1.42117446e+00 9.49287439e-01]\n",
      " [9.83561259e-01 1.89263226e+00 1.89165358e+00 1.57747515e+00\n",
      "  1.42117446e+00 1.06266837e+00]\n",
      " [4.24109927e-01 8.06239778e-02 8.70722763e-01 8.35500672e-01\n",
      "  1.42117446e+00 1.17604931e+00]\n",
      " [0.00000000e+00 4.66869081e-01 9.23397954e-01 9.35261946e-02\n",
      "  1.42117446e+00 1.28943024e+00]\n",
      " [9.83561259e-01 5.78117671e-02 1.23665713e+00 3.05518902e-01\n",
      "  1.42117446e+00 1.40281118e+00]\n",
      " [8.43698426e-01 6.26554557e-01 5.57463590e-01 1.99522548e-01\n",
      "  1.42117446e+00 1.51619212e+00]\n",
      " [7.73767010e-01 4.22807140e-01 4.39270141e-01 1.04749338e+00\n",
      "  1.42117446e+00 1.43171220e+00]]\n"
     ]
    }
   ],
   "source": [
    "from scipy import stats\n",
    "\n",
    "z = py.abs(stats.zscore(cleandata))\n",
    "print(z)"
   ]
  },
  {
   "cell_type": "code",
   "execution_count": 19,
   "metadata": {},
   "outputs": [
    {
     "name": "stdout",
     "output_type": "stream",
     "text": [
      "(array([ 47,  61, 116]), array([2, 0, 0]))\n"
     ]
    }
   ],
   "source": [
    "th = 3\n",
    "print(py.where(z>3))"
   ]
  },
  {
   "cell_type": "code",
   "execution_count": 20,
   "metadata": {},
   "outputs": [
    {
     "data": {
      "text/plain": [
       "Ozone       25.0\n",
       "Solar.R    136.0\n",
       "Wind         4.1\n",
       "Temp        13.0\n",
       "Month        2.0\n",
       "Day         15.0\n",
       "dtype: float64"
      ]
     },
     "execution_count": 20,
     "metadata": {},
     "output_type": "execute_result"
    }
   ],
   "source": [
    "Q1 = cleandata.quantile(0.25)\n",
    "Q3 = cleandata.quantile(0.75)\n",
    "IQR = Q3-Q1\n",
    "IQR"
   ]
  },
  {
   "cell_type": "code",
   "execution_count": 21,
   "metadata": {},
   "outputs": [
    {
     "data": {
      "text/html": [
       "<div>\n",
       "<style scoped>\n",
       "    .dataframe tbody tr th:only-of-type {\n",
       "        vertical-align: middle;\n",
       "    }\n",
       "\n",
       "    .dataframe tbody tr th {\n",
       "        vertical-align: top;\n",
       "    }\n",
       "\n",
       "    .dataframe thead th {\n",
       "        text-align: right;\n",
       "    }\n",
       "</style>\n",
       "<table border=\"1\" class=\"dataframe\">\n",
       "  <thead>\n",
       "    <tr style=\"text-align: right;\">\n",
       "      <th></th>\n",
       "      <th>Ozone</th>\n",
       "      <th>Solar.R</th>\n",
       "      <th>Wind</th>\n",
       "      <th>Temp</th>\n",
       "      <th>Month</th>\n",
       "      <th>Day</th>\n",
       "    </tr>\n",
       "  </thead>\n",
       "  <tbody>\n",
       "    <tr>\n",
       "      <th>0</th>\n",
       "      <td>41.00000</td>\n",
       "      <td>190.000000</td>\n",
       "      <td>7.4</td>\n",
       "      <td>67.0</td>\n",
       "      <td>5.0</td>\n",
       "      <td>1.0</td>\n",
       "    </tr>\n",
       "    <tr>\n",
       "      <th>1</th>\n",
       "      <td>36.00000</td>\n",
       "      <td>118.000000</td>\n",
       "      <td>8.0</td>\n",
       "      <td>72.0</td>\n",
       "      <td>5.0</td>\n",
       "      <td>2.0</td>\n",
       "    </tr>\n",
       "    <tr>\n",
       "      <th>2</th>\n",
       "      <td>12.00000</td>\n",
       "      <td>149.000000</td>\n",
       "      <td>12.6</td>\n",
       "      <td>74.0</td>\n",
       "      <td>5.0</td>\n",
       "      <td>3.0</td>\n",
       "    </tr>\n",
       "    <tr>\n",
       "      <th>3</th>\n",
       "      <td>18.00000</td>\n",
       "      <td>313.000000</td>\n",
       "      <td>11.5</td>\n",
       "      <td>62.0</td>\n",
       "      <td>5.0</td>\n",
       "      <td>4.0</td>\n",
       "    </tr>\n",
       "    <tr>\n",
       "      <th>4</th>\n",
       "      <td>42.12931</td>\n",
       "      <td>185.931507</td>\n",
       "      <td>14.3</td>\n",
       "      <td>56.0</td>\n",
       "      <td>5.0</td>\n",
       "      <td>5.0</td>\n",
       "    </tr>\n",
       "    <tr>\n",
       "      <th>...</th>\n",
       "      <td>...</td>\n",
       "      <td>...</td>\n",
       "      <td>...</td>\n",
       "      <td>...</td>\n",
       "      <td>...</td>\n",
       "      <td>...</td>\n",
       "    </tr>\n",
       "    <tr>\n",
       "      <th>148</th>\n",
       "      <td>30.00000</td>\n",
       "      <td>193.000000</td>\n",
       "      <td>6.9</td>\n",
       "      <td>70.0</td>\n",
       "      <td>9.0</td>\n",
       "      <td>26.0</td>\n",
       "    </tr>\n",
       "    <tr>\n",
       "      <th>149</th>\n",
       "      <td>42.12931</td>\n",
       "      <td>145.000000</td>\n",
       "      <td>13.2</td>\n",
       "      <td>77.0</td>\n",
       "      <td>9.0</td>\n",
       "      <td>27.0</td>\n",
       "    </tr>\n",
       "    <tr>\n",
       "      <th>150</th>\n",
       "      <td>14.00000</td>\n",
       "      <td>191.000000</td>\n",
       "      <td>14.3</td>\n",
       "      <td>75.0</td>\n",
       "      <td>9.0</td>\n",
       "      <td>28.0</td>\n",
       "    </tr>\n",
       "    <tr>\n",
       "      <th>151</th>\n",
       "      <td>18.00000</td>\n",
       "      <td>131.000000</td>\n",
       "      <td>8.0</td>\n",
       "      <td>76.0</td>\n",
       "      <td>9.0</td>\n",
       "      <td>29.0</td>\n",
       "    </tr>\n",
       "    <tr>\n",
       "      <th>152</th>\n",
       "      <td>20.00000</td>\n",
       "      <td>223.000000</td>\n",
       "      <td>11.5</td>\n",
       "      <td>68.0</td>\n",
       "      <td>9.0</td>\n",
       "      <td>3.0</td>\n",
       "    </tr>\n",
       "  </tbody>\n",
       "</table>\n",
       "<p>150 rows × 6 columns</p>\n",
       "</div>"
      ],
      "text/plain": [
       "        Ozone     Solar.R  Wind  Temp  Month   Day\n",
       "0    41.00000  190.000000   7.4  67.0    5.0   1.0\n",
       "1    36.00000  118.000000   8.0  72.0    5.0   2.0\n",
       "2    12.00000  149.000000  12.6  74.0    5.0   3.0\n",
       "3    18.00000  313.000000  11.5  62.0    5.0   4.0\n",
       "4    42.12931  185.931507  14.3  56.0    5.0   5.0\n",
       "..        ...         ...   ...   ...    ...   ...\n",
       "148  30.00000  193.000000   6.9  70.0    9.0  26.0\n",
       "149  42.12931  145.000000  13.2  77.0    9.0  27.0\n",
       "150  14.00000  191.000000  14.3  75.0    9.0  28.0\n",
       "151  18.00000  131.000000   8.0  76.0    9.0  29.0\n",
       "152  20.00000  223.000000  11.5  68.0    9.0   3.0\n",
       "\n",
       "[150 rows x 6 columns]"
      ]
     },
     "execution_count": 21,
     "metadata": {},
     "output_type": "execute_result"
    }
   ],
   "source": [
    "cleandata = cleandata[(z<3).all(axis=1)]\n",
    "cleandata"
   ]
  },
  {
   "cell_type": "code",
   "execution_count": 22,
   "metadata": {},
   "outputs": [
    {
     "data": {
      "text/html": [
       "<div>\n",
       "<style scoped>\n",
       "    .dataframe tbody tr th:only-of-type {\n",
       "        vertical-align: middle;\n",
       "    }\n",
       "\n",
       "    .dataframe tbody tr th {\n",
       "        vertical-align: top;\n",
       "    }\n",
       "\n",
       "    .dataframe thead th {\n",
       "        text-align: right;\n",
       "    }\n",
       "</style>\n",
       "<table border=\"1\" class=\"dataframe\">\n",
       "  <thead>\n",
       "    <tr style=\"text-align: right;\">\n",
       "      <th></th>\n",
       "      <th>Ozone</th>\n",
       "      <th>Solar.R</th>\n",
       "      <th>Wind</th>\n",
       "      <th>Temp</th>\n",
       "      <th>Month</th>\n",
       "      <th>Day</th>\n",
       "    </tr>\n",
       "  </thead>\n",
       "  <tbody>\n",
       "    <tr>\n",
       "      <th>0</th>\n",
       "      <td>41.00000</td>\n",
       "      <td>190.000000</td>\n",
       "      <td>7.4</td>\n",
       "      <td>67.0</td>\n",
       "      <td>5.0</td>\n",
       "      <td>1.0</td>\n",
       "    </tr>\n",
       "    <tr>\n",
       "      <th>1</th>\n",
       "      <td>36.00000</td>\n",
       "      <td>118.000000</td>\n",
       "      <td>8.0</td>\n",
       "      <td>72.0</td>\n",
       "      <td>5.0</td>\n",
       "      <td>2.0</td>\n",
       "    </tr>\n",
       "    <tr>\n",
       "      <th>2</th>\n",
       "      <td>12.00000</td>\n",
       "      <td>149.000000</td>\n",
       "      <td>12.6</td>\n",
       "      <td>74.0</td>\n",
       "      <td>5.0</td>\n",
       "      <td>3.0</td>\n",
       "    </tr>\n",
       "    <tr>\n",
       "      <th>3</th>\n",
       "      <td>18.00000</td>\n",
       "      <td>313.000000</td>\n",
       "      <td>11.5</td>\n",
       "      <td>62.0</td>\n",
       "      <td>5.0</td>\n",
       "      <td>4.0</td>\n",
       "    </tr>\n",
       "    <tr>\n",
       "      <th>4</th>\n",
       "      <td>42.12931</td>\n",
       "      <td>185.931507</td>\n",
       "      <td>14.3</td>\n",
       "      <td>56.0</td>\n",
       "      <td>5.0</td>\n",
       "      <td>5.0</td>\n",
       "    </tr>\n",
       "    <tr>\n",
       "      <th>...</th>\n",
       "      <td>...</td>\n",
       "      <td>...</td>\n",
       "      <td>...</td>\n",
       "      <td>...</td>\n",
       "      <td>...</td>\n",
       "      <td>...</td>\n",
       "    </tr>\n",
       "    <tr>\n",
       "      <th>148</th>\n",
       "      <td>30.00000</td>\n",
       "      <td>193.000000</td>\n",
       "      <td>6.9</td>\n",
       "      <td>70.0</td>\n",
       "      <td>9.0</td>\n",
       "      <td>26.0</td>\n",
       "    </tr>\n",
       "    <tr>\n",
       "      <th>149</th>\n",
       "      <td>42.12931</td>\n",
       "      <td>145.000000</td>\n",
       "      <td>13.2</td>\n",
       "      <td>77.0</td>\n",
       "      <td>9.0</td>\n",
       "      <td>27.0</td>\n",
       "    </tr>\n",
       "    <tr>\n",
       "      <th>150</th>\n",
       "      <td>14.00000</td>\n",
       "      <td>191.000000</td>\n",
       "      <td>14.3</td>\n",
       "      <td>75.0</td>\n",
       "      <td>9.0</td>\n",
       "      <td>28.0</td>\n",
       "    </tr>\n",
       "    <tr>\n",
       "      <th>151</th>\n",
       "      <td>18.00000</td>\n",
       "      <td>131.000000</td>\n",
       "      <td>8.0</td>\n",
       "      <td>76.0</td>\n",
       "      <td>9.0</td>\n",
       "      <td>29.0</td>\n",
       "    </tr>\n",
       "    <tr>\n",
       "      <th>152</th>\n",
       "      <td>20.00000</td>\n",
       "      <td>223.000000</td>\n",
       "      <td>11.5</td>\n",
       "      <td>68.0</td>\n",
       "      <td>9.0</td>\n",
       "      <td>3.0</td>\n",
       "    </tr>\n",
       "  </tbody>\n",
       "</table>\n",
       "<p>135 rows × 6 columns</p>\n",
       "</div>"
      ],
      "text/plain": [
       "        Ozone     Solar.R  Wind  Temp  Month   Day\n",
       "0    41.00000  190.000000   7.4  67.0    5.0   1.0\n",
       "1    36.00000  118.000000   8.0  72.0    5.0   2.0\n",
       "2    12.00000  149.000000  12.6  74.0    5.0   3.0\n",
       "3    18.00000  313.000000  11.5  62.0    5.0   4.0\n",
       "4    42.12931  185.931507  14.3  56.0    5.0   5.0\n",
       "..        ...         ...   ...   ...    ...   ...\n",
       "148  30.00000  193.000000   6.9  70.0    9.0  26.0\n",
       "149  42.12931  145.000000  13.2  77.0    9.0  27.0\n",
       "150  14.00000  191.000000  14.3  75.0    9.0  28.0\n",
       "151  18.00000  131.000000   8.0  76.0    9.0  29.0\n",
       "152  20.00000  223.000000  11.5  68.0    9.0   3.0\n",
       "\n",
       "[135 rows x 6 columns]"
      ]
     },
     "execution_count": 22,
     "metadata": {},
     "output_type": "execute_result"
    }
   ],
   "source": [
    "cleandata = cleandata[~((cleandata<(Q1 -1.5*IQR)) | (cleandata >(Q3+1.5*IQR))).any(axis=1)]\n",
    "cleandata"
   ]
  },
  {
   "cell_type": "code",
   "execution_count": 23,
   "metadata": {},
   "outputs": [
    {
     "data": {
      "text/plain": [
       "35.51692209450831"
      ]
     },
     "execution_count": 23,
     "metadata": {},
     "output_type": "execute_result"
    }
   ],
   "source": [
    "ozone = cleandata['Ozone']\n",
    "temp = cleandata['Temp']\n",
    "ozonemean = ozone.mean()\n",
    "ozonemean"
   ]
  },
  {
   "cell_type": "code",
   "execution_count": 24,
   "metadata": {},
   "outputs": [
    {
     "data": {
      "text/plain": [
       "<matplotlib.axes._subplots.AxesSubplot at 0x7fdbb6859110>"
      ]
     },
     "execution_count": 24,
     "metadata": {},
     "output_type": "execute_result"
    },
    {
     "data": {
      "image/png": "[encoded data removed]",
      "text/plain": [
       "<Figure size 432x288 with 1 Axes>"
      ]
     },
     "metadata": {
      "needs_background": "light"
     },
     "output_type": "display_data"
    }
   ],
   "source": [
    "plt.plot(temp, ozone, 'o')\n",
    "plt.xlabel('Temperature')\n",
    "plt.ylabel('Ozone')\n",
    "plt.axhline(ozonemean, color='r', linestyle='-')\n",
    "sns.regplot(x= 'Temp', y= 'Ozone', data=cleandata)"
   ]
  },
  {
   "cell_type": "code",
   "execution_count": 25,
   "metadata": {},
   "outputs": [
    {
     "data": {
      "text/plain": [
       "(0      67.0\n",
       " 1      72.0\n",
       " 2      74.0\n",
       " 3      62.0\n",
       " 4      56.0\n",
       "        ... \n",
       " 148    70.0\n",
       " 149    77.0\n",
       " 150    75.0\n",
       " 151    76.0\n",
       " 152    68.0\n",
       " Name: Temp, Length: 135, dtype: float64,\n",
       " 0      41.00000\n",
       " 1      36.00000\n",
       " 2      12.00000\n",
       " 3      18.00000\n",
       " 4      42.12931\n",
       "          ...   \n",
       " 148    30.00000\n",
       " 149    42.12931\n",
       " 150    14.00000\n",
       " 151    18.00000\n",
       " 152    20.00000\n",
       " Name: Ozone, Length: 135, dtype: float64)"
      ]
     },
     "execution_count": 25,
     "metadata": {},
     "output_type": "execute_result"
    }
   ],
   "source": [
    "x = temp\n",
    "y = ozone\n",
    "x, y"
   ]
  },
  {
   "cell_type": "code",
   "execution_count": 26,
   "metadata": {},
   "outputs": [],
   "source": [
    "from sklearn.model_selection import train_test_split\n",
    "\n",
    "xtrain, xtest, ytrain, ytest = train_test_split(temp, ozone, test_size = 0.4, random_state=1)"
   ]
  },
  {
   "cell_type": "code",
   "execution_count": 27,
   "metadata": {},
   "outputs": [
    {
     "data": {
      "text/plain": [
       "(110    78.0\n",
       " 130    78.0\n",
       " 86     82.0\n",
       " 83     82.0\n",
       " 11     69.0\n",
       "        ... \n",
       " 79     87.0\n",
       " 147    63.0\n",
       " 88     88.0\n",
       " 80     85.0\n",
       " 40     87.0\n",
       " Name: Temp, Length: 81, dtype: float64,\n",
       " 45     79.0\n",
       " 39     90.0\n",
       " 105    80.0\n",
       " 5      66.0\n",
       " 73     81.0\n",
       " 125    93.0\n",
       " 60     83.0\n",
       " 19     62.0\n",
       " 57     73.0\n",
       " 138    78.0\n",
       " 77     82.0\n",
       " 137    71.0\n",
       " 48     65.0\n",
       " 64     84.0\n",
       " 101    92.0\n",
       " 133    81.0\n",
       " 36     79.0\n",
       " 87     86.0\n",
       " 143    64.0\n",
       " 18     68.0\n",
       " 52     76.0\n",
       " 104    82.0\n",
       " 49     73.0\n",
       " 34     84.0\n",
       " 4      56.0\n",
       " 146    69.0\n",
       " 136    71.0\n",
       " 38     87.0\n",
       " 59     77.0\n",
       " 117    86.0\n",
       " 43     82.0\n",
       " 150    75.0\n",
       " 141    68.0\n",
       " 67     88.0\n",
       " 74     91.0\n",
       " 13     68.0\n",
       " 2      74.0\n",
       " 42     92.0\n",
       " 129    80.0\n",
       " 6      65.0\n",
       " 91     81.0\n",
       " 112    77.0\n",
       " 94     82.0\n",
       " 107    77.0\n",
       " 145    81.0\n",
       " 58     80.0\n",
       " 92     81.0\n",
       " 111    78.0\n",
       " 50     76.0\n",
       " 63     81.0\n",
       " 139    67.0\n",
       " 55     75.0\n",
       " 81     74.0\n",
       " 103    86.0\n",
       " Name: Temp, dtype: float64,\n",
       " 110    31.00000\n",
       " 130    23.00000\n",
       " 86     20.00000\n",
       " 83     42.12931\n",
       " 11     16.00000\n",
       "          ...   \n",
       " 79     79.00000\n",
       " 147    14.00000\n",
       " 88     82.00000\n",
       " 80     63.00000\n",
       " 40     39.00000\n",
       " Name: Ozone, Length: 81, dtype: float64,\n",
       " 45     42.12931\n",
       " 39     71.00000\n",
       " 105    65.00000\n",
       " 5      28.00000\n",
       " 73     27.00000\n",
       " 125    73.00000\n",
       " 60     42.12931\n",
       " 19     11.00000\n",
       " 57     42.12931\n",
       " 138    46.00000\n",
       " 77     35.00000\n",
       " 137    13.00000\n",
       " 48     20.00000\n",
       " 64     42.12931\n",
       " 101    42.12931\n",
       " 133    44.00000\n",
       " 36     42.12931\n",
       " 87     52.00000\n",
       " 143    13.00000\n",
       " 18     30.00000\n",
       " 52     42.12931\n",
       " 104    28.00000\n",
       " 49     12.00000\n",
       " 34     42.12931\n",
       " 4      42.12931\n",
       " 146     7.00000\n",
       " 136     9.00000\n",
       " 38     42.12931\n",
       " 59     42.12931\n",
       " 117    73.00000\n",
       " 43     23.00000\n",
       " 150    14.00000\n",
       " 141    24.00000\n",
       " 67     77.00000\n",
       " 74     42.12931\n",
       " 13     14.00000\n",
       " 2      12.00000\n",
       " 42     42.12931\n",
       " 129    20.00000\n",
       " 6      23.00000\n",
       " 91     59.00000\n",
       " 112    21.00000\n",
       " 94     16.00000\n",
       " 107    22.00000\n",
       " 145    36.00000\n",
       " 58     42.12931\n",
       " 92     39.00000\n",
       " 111    44.00000\n",
       " 50     13.00000\n",
       " 63     32.00000\n",
       " 139    18.00000\n",
       " 55     42.12931\n",
       " 81     16.00000\n",
       " 103    44.00000\n",
       " Name: Ozone, dtype: float64)"
      ]
     },
     "execution_count": 27,
     "metadata": {},
     "output_type": "execute_result"
    }
   ],
   "source": [
    "xtrain, xtest, ytrain, ytest"
   ]
  },
  {
   "cell_type": "code",
   "execution_count": 28,
   "metadata": {},
   "outputs": [],
   "source": [
    "xtrain = xtrain.values.reshape((-1,1))"
   ]
  },
  {
   "cell_type": "code",
   "execution_count": 29,
   "metadata": {},
   "outputs": [
    {
     "data": {
      "text/plain": [
       "array([[78.],\n",
       "       [78.],\n",
       "       [82.],\n",
       "       [82.],\n",
       "       [69.],\n",
       "       [82.],\n",
       "       [85.],\n",
       "       [76.],\n",
       "       [93.],\n",
       "       [73.],\n",
       "       [84.],\n",
       "       [68.],\n",
       "       [76.],\n",
       "       [58.],\n",
       "       [80.],\n",
       "       [92.],\n",
       "       [79.],\n",
       "       [81.],\n",
       "       [86.],\n",
       "       [76.],\n",
       "       [77.],\n",
       "       [82.],\n",
       "       [73.],\n",
       "       [66.],\n",
       "       [80.],\n",
       "       [78.],\n",
       "       [81.],\n",
       "       [86.],\n",
       "       [77.],\n",
       "       [57.],\n",
       "       [77.],\n",
       "       [86.],\n",
       "       [75.],\n",
       "       [76.],\n",
       "       [61.],\n",
       "       [84.],\n",
       "       [62.],\n",
       "       [70.],\n",
       "       [67.],\n",
       "       [76.],\n",
       "       [77.],\n",
       "       [87.],\n",
       "       [87.],\n",
       "       [69.],\n",
       "       [83.],\n",
       "       [83.],\n",
       "       [67.],\n",
       "       [72.],\n",
       "       [85.],\n",
       "       [57.],\n",
       "       [83.],\n",
       "       [82.],\n",
       "       [59.],\n",
       "       [74.],\n",
       "       [73.],\n",
       "       [58.],\n",
       "       [86.],\n",
       "       [79.],\n",
       "       [79.],\n",
       "       [75.],\n",
       "       [88.],\n",
       "       [76.],\n",
       "       [85.],\n",
       "       [81.],\n",
       "       [76.],\n",
       "       [64.],\n",
       "       [74.],\n",
       "       [78.],\n",
       "       [97.],\n",
       "       [66.],\n",
       "       [81.],\n",
       "       [59.],\n",
       "       [72.],\n",
       "       [71.],\n",
       "       [61.],\n",
       "       [67.],\n",
       "       [87.],\n",
       "       [63.],\n",
       "       [88.],\n",
       "       [85.],\n",
       "       [87.]])"
      ]
     },
     "execution_count": 29,
     "metadata": {},
     "output_type": "execute_result"
    }
   ],
   "source": [
    "xtrain"
   ]
  },
  {
   "cell_type": "code",
   "execution_count": 30,
   "metadata": {},
   "outputs": [],
   "source": [
    "from sklearn import linear_model as lm\n",
    "model = lm.LinearRegression()\n",
    "result = model.fit(xtrain, ytrain)"
   ]
  },
  {
   "cell_type": "code",
   "execution_count": 31,
   "metadata": {},
   "outputs": [
    {
     "name": "stdout",
     "output_type": "stream",
     "text": [
      "Acc:  0.33353179350266293\n",
      "intercept:  -57.01182427164724\n",
      "slope:  [1.22080817]\n"
     ]
    }
   ],
   "source": [
    "accuracy = model.score(xtrain, ytrain)\n",
    "print('Acc: ', accuracy)\n",
    "print('intercept: ', model.intercept_)\n",
    "print('slope: ', model.coef_)"
   ]
  },
  {
   "cell_type": "code",
   "execution_count": 32,
   "metadata": {},
   "outputs": [],
   "source": [
    "xtest = xtest.values.reshape((-1,1))"
   ]
  },
  {
   "cell_type": "code",
   "execution_count": 33,
   "metadata": {},
   "outputs": [
    {
     "data": {
      "text/plain": [
       "<matplotlib.collections.PathCollection at 0x7fdbb7ae69d0>"
      ]
     },
     "execution_count": 33,
     "metadata": {},
     "output_type": "execute_result"
    },
    {
     "data": {
      "image/png": "[encoded data removed]",
      "text/plain": [
       "<Figure size 432x288 with 1 Axes>"
      ]
     },
     "metadata": {
      "needs_background": "light"
     },
     "output_type": "display_data"
    }
   ],
   "source": [
    "predections = model.predict(xtest)\n",
    "plt.scatter(ytest,predections)"
   ]
  },
  {
   "cell_type": "code",
   "execution_count": 34,
   "metadata": {},
   "outputs": [
    {
     "name": "stdout",
     "output_type": "stream",
     "text": [
      "New temp:  [[60]]  predicted ozone:  [16.23666613]\n"
     ]
    }
   ],
   "source": [
    "xnew = [[60]]\n",
    "ynew = model.predict(xnew)\n",
    "print(\"New temp: \", xnew, \" predicted ozone: \", ynew)"
   ]
  },
  {
   "cell_type": "code",
   "execution_count": 35,
   "metadata": {},
   "outputs": [
    {
     "name": "stdout",
     "output_type": "stream",
     "text": [
      "New temp:  [[40]]  predicted ozone:  [-8.17949733]\n"
     ]
    }
   ],
   "source": [
    "xnew = [[40]]\n",
    "ynew = model.predict(xnew)\n",
    "print(\"New temp: \", xnew, \" predicted ozone: \", ynew)"
   ]
  },
  {
   "cell_type": "code",
   "execution_count": 36,
   "metadata": {},
   "outputs": [],
   "source": [
    "# Evaluating the models\n",
    "\n",
    "from sklearn.metrics import mean_squared_error,r2_score\n",
    "\n",
    "ytrainpred = model.predict(xtrain)\n",
    "ytestpred = model.predict(xtest)"
   ]
  },
  {
   "cell_type": "code",
   "execution_count": 37,
   "metadata": {},
   "outputs": [
    {
     "name": "stdout",
     "output_type": "stream",
     "text": [
      "RMSE is  15.746210502643356\n",
      "R2 score is  0.33353179350266293\n",
      "\n",
      "RMSE test is  14.259947995528782\n",
      "R2 test score is  0.3422342596546806\n"
     ]
    }
   ],
   "source": [
    "#Model evaluation for training set\n",
    "\n",
    "rmsetrain = (py.sqrt(mean_squared_error(ytrain, ytrainpred)))\n",
    "r2train = r2_score(ytrain, ytrainpred)\n",
    "\n",
    "print('RMSE is ', rmsetrain) # We want this to be higher than the test\n",
    "print('R2 score is ', r2train)\n",
    "\n",
    "rmsetest = (py.sqrt(mean_squared_error(ytest, ytestpred)))\n",
    "r2test = r2_score(ytest, ytestpred)\n",
    "\n",
    "print(\"\\nRMSE test is \", rmsetest) # This has to be lower than the training\n",
    "print(\"R2 test score is \", r2test)"
   ]
  },
  {
   "cell_type": "code",
   "execution_count": 38,
   "metadata": {},
   "outputs": [
    {
     "data": {
      "text/plain": [
       "Text(0, 0.5, 'Ozone')"
      ]
     },
     "execution_count": 38,
     "metadata": {},
     "output_type": "execute_result"
    },
    {
     "data": {
      "image/png": "[encoded data removed]",
      "text/plain": [
       "<Figure size 432x288 with 1 Axes>"
      ]
     },
     "metadata": {
      "needs_background": "light"
     },
     "output_type": "display_data"
    }
   ],
   "source": [
    "# Plotting values\n",
    "\n",
    "plt.scatter(x, y)\n",
    "plt.xlabel('Temps')\n",
    "plt.ylabel('Ozone')"
   ]
  },
  {
   "cell_type": "code",
   "execution_count": 39,
   "metadata": {},
   "outputs": [],
   "source": [
    "x = x.values.reshape(-1,1)\n",
    "y_predicted=model.predict(x)"
   ]
  },
  {
   "cell_type": "code",
   "execution_count": 40,
   "metadata": {},
   "outputs": [
    {
     "data": {
      "image/png": "[encoded data removed]",
      "text/plain": [
       "<Figure size 432x288 with 1 Axes>"
      ]
     },
     "metadata": {
      "needs_background": "light"
     },
     "output_type": "display_data"
    }
   ],
   "source": [
    "plt.plot(x, y_predicted, color='y')\n",
    "plt.show()"
   ]
  },
  {
   "cell_type": "markdown",
   "metadata": {},
   "source": [
    "# Multiple Linear Regression"
   ]
  },
  {
   "cell_type": "code",
   "execution_count": 51,
   "metadata": {},
   "outputs": [],
   "source": [
    "x = cleandata[['Solar.R','Wind']] # Solar R + Wind (temp, pressure)\n",
    "y = cleandata['Ozone'] # Ozone (orf)\n",
    "\n",
    "from sklearn.model_selection import train_test_split\n",
    "\n",
    "xtrain, xtest, ytrain, ytest = train_test_split(x, y, test_size = 0.4, random_state = 1)"
   ]
  },
  {
   "cell_type": "code",
   "execution_count": 53,
   "metadata": {},
   "outputs": [
    {
     "data": {
      "text/html": [
       "<table class=\"simpletable\">\n",
       "<caption>OLS Regression Results</caption>\n",
       "<tr>\n",
       "  <th>Dep. Variable:</th>          <td>Ozone</td>      <th>  R-squared (uncentered):</th>      <td>   0.740</td>\n",
       "</tr>\n",
       "<tr>\n",
       "  <th>Model:</th>                   <td>OLS</td>       <th>  Adj. R-squared (uncentered):</th> <td>   0.736</td>\n",
       "</tr>\n",
       "<tr>\n",
       "  <th>Method:</th>             <td>Least Squares</td>  <th>  F-statistic:       </th>          <td>   188.9</td>\n",
       "</tr>\n",
       "<tr>\n",
       "  <th>Date:</th>             <td>Fri, 12 Jun 2020</td> <th>  Prob (F-statistic):</th>          <td>1.36e-39</td>\n",
       "</tr>\n",
       "<tr>\n",
       "  <th>Time:</th>                 <td>17:51:12</td>     <th>  Log-Likelihood:    </th>          <td> -599.10</td>\n",
       "</tr>\n",
       "<tr>\n",
       "  <th>No. Observations:</th>      <td>   135</td>      <th>  AIC:               </th>          <td>   1202.</td>\n",
       "</tr>\n",
       "<tr>\n",
       "  <th>Df Residuals:</th>          <td>   133</td>      <th>  BIC:               </th>          <td>   1208.</td>\n",
       "</tr>\n",
       "<tr>\n",
       "  <th>Df Model:</th>              <td>     2</td>      <th>                     </th>              <td> </td>   \n",
       "</tr>\n",
       "<tr>\n",
       "  <th>Covariance Type:</th>      <td>nonrobust</td>    <th>                     </th>              <td> </td>   \n",
       "</tr>\n",
       "</table>\n",
       "<table class=\"simpletable\">\n",
       "<tr>\n",
       "     <td></td>        <th>coef</th>     <th>std err</th>      <th>t</th>      <th>P>|t|</th>  <th>[0.025</th>    <th>0.975]</th>  \n",
       "</tr>\n",
       "<tr>\n",
       "  <th>Solar.R</th> <td>    0.1281</td> <td>    0.017</td> <td>    7.392</td> <td> 0.000</td> <td>    0.094</td> <td>    0.162</td>\n",
       "</tr>\n",
       "<tr>\n",
       "  <th>Wind</th>    <td>    0.8764</td> <td>    0.332</td> <td>    2.641</td> <td> 0.009</td> <td>    0.220</td> <td>    1.533</td>\n",
       "</tr>\n",
       "</table>\n",
       "<table class=\"simpletable\">\n",
       "<tr>\n",
       "  <th>Omnibus:</th>       <td> 2.070</td> <th>  Durbin-Watson:     </th> <td>   1.159</td>\n",
       "</tr>\n",
       "<tr>\n",
       "  <th>Prob(Omnibus):</th> <td> 0.355</td> <th>  Jarque-Bera (JB):  </th> <td>   2.116</td>\n",
       "</tr>\n",
       "<tr>\n",
       "  <th>Skew:</th>          <td> 0.286</td> <th>  Prob(JB):          </th> <td>   0.347</td>\n",
       "</tr>\n",
       "<tr>\n",
       "  <th>Kurtosis:</th>      <td> 2.777</td> <th>  Cond. No.          </th> <td>    38.2</td>\n",
       "</tr>\n",
       "</table><br/><br/>Warnings:<br/>[1] Standard Errors assume that the covariance matrix of the errors is correctly specified."
      ],
      "text/plain": [
       "<class 'statsmodels.iolib.summary.Summary'>\n",
       "\"\"\"\n",
       "                                 OLS Regression Results                                \n",
       "=======================================================================================\n",
       "Dep. Variable:                  Ozone   R-squared (uncentered):                   0.740\n",
       "Model:                            OLS   Adj. R-squared (uncentered):              0.736\n",
       "Method:                 Least Squares   F-statistic:                              188.9\n",
       "Date:                Fri, 12 Jun 2020   Prob (F-statistic):                    1.36e-39\n",
       "Time:                        17:51:12   Log-Likelihood:                         -599.10\n",
       "No. Observations:                 135   AIC:                                      1202.\n",
       "Df Residuals:                     133   BIC:                                      1208.\n",
       "Df Model:                           2                                                  \n",
       "Covariance Type:            nonrobust                                                  \n",
       "==============================================================================\n",
       "                 coef    std err          t      P>|t|      [0.025      0.975]\n",
       "------------------------------------------------------------------------------\n",
       "Solar.R        0.1281      0.017      7.392      0.000       0.094       0.162\n",
       "Wind           0.8764      0.332      2.641      0.009       0.220       1.533\n",
       "==============================================================================\n",
       "Omnibus:                        2.070   Durbin-Watson:                   1.159\n",
       "Prob(Omnibus):                  0.355   Jarque-Bera (JB):                2.116\n",
       "Skew:                           0.286   Prob(JB):                        0.347\n",
       "Kurtosis:                       2.777   Cond. No.                         38.2\n",
       "==============================================================================\n",
       "\n",
       "Warnings:\n",
       "[1] Standard Errors assume that the covariance matrix of the errors is correctly specified.\n",
       "\"\"\""
      ]
     },
     "execution_count": 53,
     "metadata": {},
     "output_type": "execute_result"
    }
   ],
   "source": [
    "import statsmodels.api as sm\n",
    "\n",
    "model1 = sm.OLS(y,x).fit()\n",
    "predections = model1.predict(x)\n",
    "model1.summary()"
   ]
  },
  {
   "cell_type": "code",
   "execution_count": 55,
   "metadata": {},
   "outputs": [],
   "source": [
    "xtrain, xtest, ytrain, ytest = train_test_split(temp, ozone, test_size = 0.4, random_state=1)"
   ]
  },
  {
   "cell_type": "code",
   "execution_count": 56,
   "metadata": {},
   "outputs": [
    {
     "data": {
      "text/plain": [
       "110    78.0\n",
       "130    78.0\n",
       "86     82.0\n",
       "83     82.0\n",
       "11     69.0\n",
       "       ... \n",
       "79     87.0\n",
       "147    63.0\n",
       "88     88.0\n",
       "80     85.0\n",
       "40     87.0\n",
       "Name: Temp, Length: 81, dtype: float64"
      ]
     },
     "execution_count": 56,
     "metadata": {},
     "output_type": "execute_result"
    }
   ],
   "source": [
    "xtrain"
   ]
  },
  {
   "cell_type": "code",
   "execution_count": 58,
   "metadata": {},
   "outputs": [],
   "source": [
    "features = xtrain.iloc[:].values"
   ]
  },
  {
   "cell_type": "code",
   "execution_count": 59,
   "metadata": {},
   "outputs": [
    {
     "data": {
      "text/plain": [
       "array([78., 78., 82., 82., 69., 82., 85., 76., 93., 73., 84., 68., 76.,\n",
       "       58., 80., 92., 79., 81., 86., 76., 77., 82., 73., 66., 80., 78.,\n",
       "       81., 86., 77., 57., 77., 86., 75., 76., 61., 84., 62., 70., 67.,\n",
       "       76., 77., 87., 87., 69., 83., 83., 67., 72., 85., 57., 83., 82.,\n",
       "       59., 74., 73., 58., 86., 79., 79., 75., 88., 76., 85., 81., 76.,\n",
       "       64., 74., 78., 97., 66., 81., 59., 72., 71., 61., 67., 87., 63.,\n",
       "       88., 85., 87.])"
      ]
     },
     "execution_count": 59,
     "metadata": {},
     "output_type": "execute_result"
    }
   ],
   "source": [
    "features"
   ]
  },
  {
   "cell_type": "code",
   "execution_count": 60,
   "metadata": {},
   "outputs": [],
   "source": [
    "labels = ytrain.iloc[:].values"
   ]
  },
  {
   "cell_type": "code",
   "execution_count": 61,
   "metadata": {},
   "outputs": [
    {
     "data": {
      "text/plain": [
       "array([31.        , 23.        , 20.        , 42.12931034, 16.        ,\n",
       "       29.        , 42.12931034, 23.        , 42.12931034, 11.        ,\n",
       "       32.        , 20.        , 37.        , 42.12931034,  7.        ,\n",
       "       78.        , 45.        , 42.12931034, 50.        , 13.        ,\n",
       "       42.12931034, 16.        , 10.        , 34.        , 42.12931034,\n",
       "       42.12931034, 45.        , 80.        , 21.        , 42.12931034,\n",
       "       28.        , 42.12931034, 42.12931034, 42.12931034, 32.        ,\n",
       "       61.        , 18.        , 30.        , 42.12931034, 18.        ,\n",
       "       42.12931034, 47.        , 66.        , 42.12931034, 64.        ,\n",
       "       64.        , 41.        , 36.        , 49.        , 42.12931034,\n",
       "       40.        , 42.12931034, 19.        ,  7.        , 24.        ,\n",
       "       18.        , 78.        , 59.        , 42.12931034, 21.        ,\n",
       "       42.12931034, 21.        , 35.        , 48.        , 42.12931034,\n",
       "       14.        , 42.12931034, 42.12931034, 76.        , 11.        ,\n",
       "        9.        ,  1.        ,  9.        , 23.        ,  4.        ,\n",
       "       23.        , 79.        , 14.        , 82.        , 63.        ,\n",
       "       39.        ])"
      ]
     },
     "execution_count": 61,
     "metadata": {},
     "output_type": "execute_result"
    }
   ],
   "source": [
    "labels"
   ]
  },
  {
   "cell_type": "code",
   "execution_count": 62,
   "metadata": {},
   "outputs": [],
   "source": [
    "x, y = features, labels"
   ]
  },
  {
   "cell_type": "code",
   "execution_count": 65,
   "metadata": {},
   "outputs": [],
   "source": [
    "from sklearn import linear_model as lm\n",
    "\n",
    "model = lm.LinearRegression()\n",
    "results = model.fit(x.reshape(-1,1),y)\n",
    "predictions = model.predict(x.reshape(-1,1))"
   ]
  },
  {
   "cell_type": "code",
   "execution_count": 67,
   "metadata": {},
   "outputs": [
    {
     "name": "stdout",
     "output_type": "stream",
     "text": [
      "0.33353179350266293\n"
     ]
    }
   ],
   "source": [
    "accuracy = model.score(x.reshape(-1,1),y)\n",
    "print(accuracy)"
   ]
  },
  {
   "cell_type": "code",
   "execution_count": 68,
   "metadata": {},
   "outputs": [
    {
     "data": {
      "text/plain": [
       "<matplotlib.collections.PathCollection at 0x7fdbb9e4d850>"
      ]
     },
     "execution_count": 68,
     "metadata": {},
     "output_type": "execute_result"
    },
    {
     "data": {
      "image/png": "[encoded data removed]",
      "text/plain": [
       "<Figure size 432x288 with 1 Axes>"
      ]
     },
     "metadata": {
      "needs_background": "light"
     },
     "output_type": "display_data"
    }
   ],
   "source": [
    "plt.scatter(y, predictions)"
   ]
  },
  {
   "cell_type": "code",
   "execution_count": null,
   "metadata": {},
   "outputs": [],
   "source": []
  }
 ],
 "metadata": {
  "kernelspec": {
   "display_name": "myenv",
   "language": "python",
   "name": "myenv"
  },
  "language_info": {
   "codemirror_mode": {
    "name": "ipython",
    "version": 3
   },
   "file_extension": ".py",
   "mimetype": "text/x-python",
   "name": "python",
   "nbconvert_exporter": "python",
   "pygments_lexer": "ipython3",
   "version": "3.7.6"
  }
 },
 "nbformat": 4,
 "nbformat_minor": 4
}
