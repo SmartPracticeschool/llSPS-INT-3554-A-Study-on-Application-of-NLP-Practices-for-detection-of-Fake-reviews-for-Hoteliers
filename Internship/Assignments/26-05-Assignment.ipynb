{
 "cells": [
  {
   "cell_type": "code",
   "execution_count": 3,
   "metadata": {},
   "outputs": [
    {
     "name": "stdout",
     "output_type": "stream",
     "text": [
      "Software Testing 10000.0\n"
     ]
    }
   ],
   "source": [
    "# Creating Employee tuple with (ID, Name, Department, Salary)\n",
    "\n",
    "emp = (71518, 'Obada', 'Software Testing', 10000.0)\n",
    "\n",
    "# Slicing out (Department, Salary)\n",
    "\n",
    "print(emp[-2], emp[-1])"
   ]
  },
  {
   "cell_type": "code",
   "execution_count": 10,
   "metadata": {},
   "outputs": [
    {
     "name": "stdout",
     "output_type": "stream",
     "text": [
      "{'empID': [71518, 77777], 'empName': ['Obada', 'John'], 'Salary': [10000.0, 12000.0]}\n",
      "\n",
      " {'depID': [1, 2, 3], 'depName': ['Software Testing', 'Deployment Center', 'IT']}\n",
      "\n",
      " {'empID': [71518, 77777], 'empName': ['Obada', 'John'], 'Salary': [10000.0, 12000.0], 'depID': [1, 2, 3], 'depName': ['Software Testing', 'Deployment Center', 'IT']}\n",
      "\n",
      " ['Software Testing', 'Deployment Center', 'IT']\n"
     ]
    }
   ],
   "source": [
    "# Creating Employee dictionary\n",
    "\n",
    "empDict = {'empID': [71518, 77777], \n",
    "           'empName': ['Obada', 'John'],\n",
    "           'Salary': [10000.0, 12000.0]}\n",
    "print(empDict)\n",
    "\n",
    "# Creating Department dictionary\n",
    "\n",
    "depDict = {'depID': [1,2,3],\n",
    "           'depName': ['Software Testing', \n",
    "                       'Deployment Center', \n",
    "                       'IT']}\n",
    "print('\\n', depDict)\n",
    "\n",
    "# Combining both dictionaries\n",
    "\n",
    "newDict = {**empDict, **depDict}\n",
    "print('\\n', newDict)\n",
    "\n",
    "# Showing only department names\n",
    "\n",
    "print('\\n', depDict['depName'])"
   ]
  },
  {
   "cell_type": "code",
   "execution_count": null,
   "metadata": {},
   "outputs": [],
   "source": []
  }
 ],
 "metadata": {
  "kernelspec": {
   "display_name": "Python 3",
   "language": "python",
   "name": "python3"
  },
  "language_info": {
   "codemirror_mode": {
    "name": "ipython",
    "version": 3
   },
   "file_extension": ".py",
   "mimetype": "text/x-python",
   "name": "python",
   "nbconvert_exporter": "python",
   "pygments_lexer": "ipython3",
   "version": "3.7.6"
  }
 },
 "nbformat": 4,
 "nbformat_minor": 4
}
