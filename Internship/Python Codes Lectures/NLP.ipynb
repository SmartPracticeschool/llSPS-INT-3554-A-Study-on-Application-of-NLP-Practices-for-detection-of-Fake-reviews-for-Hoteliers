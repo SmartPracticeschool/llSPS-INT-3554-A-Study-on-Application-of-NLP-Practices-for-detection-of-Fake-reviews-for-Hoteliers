{
 "cells": [
  {
   "cell_type": "code",
   "execution_count": 45,
   "metadata": {},
   "outputs": [],
   "source": [
    "import numpy as np\n",
    "import os\n",
    "import matplotlib.pyplot as plt\n",
    "import pandas as pd"
   ]
  },
  {
   "cell_type": "code",
   "execution_count": 46,
   "metadata": {},
   "outputs": [],
   "source": [
    "os.chdir(\"C:/Users/ASUS/Desktop/Python Course/Datasets\")\n",
    "dataset = pd.read_csv('Restaurant_Reviews.tsv',delimiter = '\\t', quoting = 3)"
   ]
  },
  {
   "cell_type": "code",
   "execution_count": 47,
   "metadata": {},
   "outputs": [
    {
     "data": {
      "text/html": [
       "<div>\n",
       "<style scoped>\n",
       "    .dataframe tbody tr th:only-of-type {\n",
       "        vertical-align: middle;\n",
       "    }\n",
       "\n",
       "    .dataframe tbody tr th {\n",
       "        vertical-align: top;\n",
       "    }\n",
       "\n",
       "    .dataframe thead th {\n",
       "        text-align: right;\n",
       "    }\n",
       "</style>\n",
       "<table border=\"1\" class=\"dataframe\">\n",
       "  <thead>\n",
       "    <tr style=\"text-align: right;\">\n",
       "      <th></th>\n",
       "      <th>Review</th>\n",
       "      <th>Liked</th>\n",
       "    </tr>\n",
       "  </thead>\n",
       "  <tbody>\n",
       "    <tr>\n",
       "      <th>0</th>\n",
       "      <td>Wow... Loved this place.</td>\n",
       "      <td>1</td>\n",
       "    </tr>\n",
       "    <tr>\n",
       "      <th>1</th>\n",
       "      <td>Crust is not good.</td>\n",
       "      <td>0</td>\n",
       "    </tr>\n",
       "    <tr>\n",
       "      <th>2</th>\n",
       "      <td>Not tasty and the texture was just nasty.</td>\n",
       "      <td>0</td>\n",
       "    </tr>\n",
       "    <tr>\n",
       "      <th>3</th>\n",
       "      <td>Stopped by during the late May bank holiday of...</td>\n",
       "      <td>1</td>\n",
       "    </tr>\n",
       "    <tr>\n",
       "      <th>4</th>\n",
       "      <td>The selection on the menu was great and so wer...</td>\n",
       "      <td>1</td>\n",
       "    </tr>\n",
       "  </tbody>\n",
       "</table>\n",
       "</div>"
      ],
      "text/plain": [
       "                                              Review  Liked\n",
       "0                           Wow... Loved this place.      1\n",
       "1                                 Crust is not good.      0\n",
       "2          Not tasty and the texture was just nasty.      0\n",
       "3  Stopped by during the late May bank holiday of...      1\n",
       "4  The selection on the menu was great and so wer...      1"
      ]
     },
     "execution_count": 47,
     "metadata": {},
     "output_type": "execute_result"
    }
   ],
   "source": [
    "dataset.head()"
   ]
  },
  {
   "cell_type": "code",
   "execution_count": 48,
   "metadata": {},
   "outputs": [],
   "source": [
    "import re #Regular expression library for strings and such"
   ]
  },
  {
   "cell_type": "code",
   "execution_count": 49,
   "metadata": {},
   "outputs": [],
   "source": [
    "import nltk #Natural Language toolkit"
   ]
  },
  {
   "cell_type": "code",
   "execution_count": 50,
   "metadata": {},
   "outputs": [
    {
     "name": "stderr",
     "output_type": "stream",
     "text": [
      "[nltk_data] Downloading package stopwords to\n",
      "[nltk_data]     C:\\Users\\ASUS\\AppData\\Roaming\\nltk_data...\n",
      "[nltk_data]   Package stopwords is already up-to-date!\n"
     ]
    }
   ],
   "source": [
    "nltk.download('stopwords')\n",
    "from nltk.corpus import stopwords\n",
    "from nltk.stem.porter import PorterStemmer\n",
    "ps = PorterStemmer()\n",
    "data = []"
   ]
  },
  {
   "cell_type": "code",
   "execution_count": 53,
   "metadata": {},
   "outputs": [],
   "source": [
    "for i in range (0, 1000):\n",
    "    review = dataset[\"Review\"][i]\n",
    "    review=re.sub('[^a-zA-Z]',' ', review)\n",
    "    review = review.lower()\n",
    "    review = review.split()\n",
    "    review = [ps.stem(word) for word in review if not word in set(stopwords.words('english'))]\n",
    "    review = ' '.join(review)\n",
    "    data.append(review)"
   ]
  },
  {
   "cell_type": "code",
   "execution_count": 54,
   "metadata": {},
   "outputs": [
    {
     "data": {
      "text/plain": [
       "['wow love place',\n",
       " 'crust good',\n",
       " 'tasti textur nasti',\n",
       " 'stop late may bank holiday rick steve recommend love',\n",
       " 'select menu great price',\n",
       " 'get angri want damn pho',\n",
       " 'honeslti tast fresh',\n",
       " 'potato like rubber could tell made ahead time kept warmer']"
      ]
     },
     "execution_count": 54,
     "metadata": {},
     "output_type": "execute_result"
    }
   ],
   "source": [
    "data[:8]"
   ]
  },
  {
   "cell_type": "markdown",
   "metadata": {},
   "source": [
    "Feature engineering (Make data in numeric format)\n",
    "So we tokenize i guess"
   ]
  },
  {
   "cell_type": "code",
   "execution_count": 55,
   "metadata": {},
   "outputs": [],
   "source": [
    "from sklearn.feature_extraction.text import CountVectorizer\n",
    "cv=CountVectorizer(max_features=1500)\n",
    "X=cv.fit_transform(data).toarray()\n",
    "y=dataset.iloc[:,1].values"
   ]
  },
  {
   "cell_type": "code",
   "execution_count": 56,
   "metadata": {},
   "outputs": [],
   "source": [
    "from sklearn.model_selection import train_test_split\n",
    "X_train,X_test,y_train,y_test = train_test_split(X,y,test_size=0.1,random_state = 1)\n",
    "from keras.models import Sequential\n",
    "from keras.layers import Dense"
   ]
  },
  {
   "cell_type": "code",
   "execution_count": 57,
   "metadata": {},
   "outputs": [
    {
     "name": "stderr",
     "output_type": "stream",
     "text": [
      "C:\\Users\\ASUS\\anaconda3\\lib\\site-packages\\ipykernel_launcher.py:3: UserWarning: Update your `Dense` call to the Keras 2 API: `Dense(activation=\"relu\", input_dim=1500, units=6, kernel_initializer=\"uniform\")`\n",
      "  This is separate from the ipykernel package so we can avoid doing imports until\n",
      "C:\\Users\\ASUS\\anaconda3\\lib\\site-packages\\ipykernel_launcher.py:4: UserWarning: Update your `Dense` call to the Keras 2 API: `Dense(activation=\"relu\", input_dim=1500, units=6, kernel_initializer=\"uniform\")`\n",
      "  after removing the cwd from sys.path.\n",
      "C:\\Users\\ASUS\\anaconda3\\lib\\site-packages\\ipykernel_launcher.py:5: UserWarning: Update your `Dense` call to the Keras 2 API: `Dense(activation=\"relu\", input_dim=1500, units=6, kernel_initializer=\"uniform\")`\n",
      "  \"\"\"\n",
      "C:\\Users\\ASUS\\anaconda3\\lib\\site-packages\\ipykernel_launcher.py:7: UserWarning: Update your `Dense` call to the Keras 2 API: `Dense(activation=\"sigmoid\", units=1, kernel_initializer=\"uniform\")`\n",
      "  import sys\n"
     ]
    }
   ],
   "source": [
    "model = Sequential()\n",
    "\n",
    "model.add(Dense(output_dim = 6, init='uniform', activation = 'relu', input_dim = 1500))\n",
    "model.add(Dense(output_dim = 6, init='uniform', activation = 'relu',input_dim = 1500))\n",
    "model.add(Dense(output_dim = 6, init='uniform', activation = 'relu',input_dim = 1500))\n",
    "\n",
    "model.add(Dense(output_dim = 1, init='uniform', activation = 'sigmoid'))"
   ]
  },
  {
   "cell_type": "code",
   "execution_count": 58,
   "metadata": {},
   "outputs": [],
   "source": [
    "model.compile(optimizer = 'sgd', loss = 'binary_crossentropy', metrics = ['accuracy'])"
   ]
  },
  {
   "cell_type": "code",
   "execution_count": 59,
   "metadata": {},
   "outputs": [
    {
     "name": "stdout",
     "output_type": "stream",
     "text": [
      "Epoch 1/100\n",
      "900/900 [==============================] - 0s 160us/step - loss: 0.6932 - accuracy: 0.4756\n",
      "Epoch 2/100\n",
      "900/900 [==============================] - 0s 59us/step - loss: 0.6932 - accuracy: 0.4944\n",
      "Epoch 3/100\n",
      "900/900 [==============================] - 0s 69us/step - loss: 0.6932 - accuracy: 0.4967\n",
      "Epoch 4/100\n",
      "900/900 [==============================] - 0s 71us/step - loss: 0.6932 - accuracy: 0.4878\n",
      "Epoch 5/100\n",
      "900/900 [==============================] - 0s 76us/step - loss: 0.6932 - accuracy: 0.5011\n",
      "Epoch 6/100\n",
      "900/900 [==============================] - 0s 66us/step - loss: 0.6932 - accuracy: 0.5011\n",
      "Epoch 7/100\n",
      "900/900 [==============================] - 0s 66us/step - loss: 0.6932 - accuracy: 0.5011\n",
      "Epoch 8/100\n",
      "900/900 [==============================] - 0s 69us/step - loss: 0.6932 - accuracy: 0.5011\n",
      "Epoch 9/100\n",
      "900/900 [==============================] - 0s 72us/step - loss: 0.6932 - accuracy: 0.5011\n",
      "Epoch 10/100\n",
      "900/900 [==============================] - 0s 70us/step - loss: 0.6932 - accuracy: 0.5011\n",
      "Epoch 11/100\n",
      "900/900 [==============================] - 0s 53us/step - loss: 0.6932 - accuracy: 0.4856\n",
      "Epoch 12/100\n",
      "900/900 [==============================] - 0s 80us/step - loss: 0.6932 - accuracy: 0.4722\n",
      "Epoch 13/100\n",
      "900/900 [==============================] - 0s 56us/step - loss: 0.6932 - accuracy: 0.5011\n",
      "Epoch 14/100\n",
      "900/900 [==============================] - 0s 86us/step - loss: 0.6932 - accuracy: 0.4722\n",
      "Epoch 15/100\n",
      "900/900 [==============================] - 0s 75us/step - loss: 0.6932 - accuracy: 0.5011\n",
      "Epoch 16/100\n",
      "900/900 [==============================] - 0s 71us/step - loss: 0.6932 - accuracy: 0.4967\n",
      "Epoch 17/100\n",
      "900/900 [==============================] - 0s 68us/step - loss: 0.6932 - accuracy: 0.4900\n",
      "Epoch 18/100\n",
      "900/900 [==============================] - 0s 69us/step - loss: 0.6932 - accuracy: 0.4900\n",
      "Epoch 19/100\n",
      "900/900 [==============================] - 0s 70us/step - loss: 0.6932 - accuracy: 0.4967\n",
      "Epoch 20/100\n",
      "900/900 [==============================] - 0s 69us/step - loss: 0.6932 - accuracy: 0.4789\n",
      "Epoch 21/100\n",
      "900/900 [==============================] - 0s 71us/step - loss: 0.6932 - accuracy: 0.4856\n",
      "Epoch 22/100\n",
      "900/900 [==============================] - 0s 68us/step - loss: 0.6932 - accuracy: 0.4900\n",
      "Epoch 23/100\n",
      "900/900 [==============================] - 0s 87us/step - loss: 0.6932 - accuracy: 0.4989\n",
      "Epoch 24/100\n",
      "900/900 [==============================] - 0s 78us/step - loss: 0.6932 - accuracy: 0.4989\n",
      "Epoch 25/100\n",
      "900/900 [==============================] - 0s 53us/step - loss: 0.6932 - accuracy: 0.4989\n",
      "Epoch 26/100\n",
      "900/900 [==============================] - 0s 57us/step - loss: 0.6932 - accuracy: 0.4989\n",
      "Epoch 27/100\n",
      "900/900 [==============================] - 0s 57us/step - loss: 0.6932 - accuracy: 0.4811\n",
      "Epoch 28/100\n",
      "900/900 [==============================] - 0s 60us/step - loss: 0.6932 - accuracy: 0.4833\n",
      "Epoch 29/100\n",
      "900/900 [==============================] - 0s 56us/step - loss: 0.6932 - accuracy: 0.4833\n",
      "Epoch 30/100\n",
      "900/900 [==============================] - 0s 58us/step - loss: 0.6932 - accuracy: 0.4922\n",
      "Epoch 31/100\n",
      "900/900 [==============================] - 0s 56us/step - loss: 0.6932 - accuracy: 0.4900\n",
      "Epoch 32/100\n",
      "900/900 [==============================] - 0s 56us/step - loss: 0.6932 - accuracy: 0.4700\n",
      "Epoch 33/100\n",
      "900/900 [==============================] - 0s 54us/step - loss: 0.6932 - accuracy: 0.4922\n",
      "Epoch 34/100\n",
      "900/900 [==============================] - 0s 61us/step - loss: 0.6932 - accuracy: 0.4911\n",
      "Epoch 35/100\n",
      "900/900 [==============================] - 0s 56us/step - loss: 0.6932 - accuracy: 0.4922\n",
      "Epoch 36/100\n",
      "900/900 [==============================] - 0s 61us/step - loss: 0.6932 - accuracy: 0.4989\n",
      "Epoch 37/100\n",
      "900/900 [==============================] - 0s 57us/step - loss: 0.6932 - accuracy: 0.4989\n",
      "Epoch 38/100\n",
      "900/900 [==============================] - 0s 57us/step - loss: 0.6932 - accuracy: 0.4989\n",
      "Epoch 39/100\n",
      "900/900 [==============================] - 0s 56us/step - loss: 0.6932 - accuracy: 0.4989\n",
      "Epoch 40/100\n",
      "900/900 [==============================] - 0s 59us/step - loss: 0.6932 - accuracy: 0.4989\n",
      "Epoch 41/100\n",
      "900/900 [==============================] - 0s 57us/step - loss: 0.6932 - accuracy: 0.4989\n",
      "Epoch 42/100\n",
      "900/900 [==============================] - 0s 57us/step - loss: 0.6932 - accuracy: 0.4989\n",
      "Epoch 43/100\n",
      "900/900 [==============================] - 0s 56us/step - loss: 0.6932 - accuracy: 0.4989\n",
      "Epoch 44/100\n",
      "900/900 [==============================] - 0s 56us/step - loss: 0.6932 - accuracy: 0.4989\n",
      "Epoch 45/100\n",
      "900/900 [==============================] - 0s 57us/step - loss: 0.6932 - accuracy: 0.4856\n",
      "Epoch 46/100\n",
      "900/900 [==============================] - 0s 60us/step - loss: 0.6932 - accuracy: 0.4944\n",
      "Epoch 47/100\n",
      "900/900 [==============================] - 0s 58us/step - loss: 0.6932 - accuracy: 0.4811\n",
      "Epoch 48/100\n",
      "900/900 [==============================] - 0s 65us/step - loss: 0.6932 - accuracy: 0.4856\n",
      "Epoch 49/100\n",
      "900/900 [==============================] - 0s 63us/step - loss: 0.6932 - accuracy: 0.4878\n",
      "Epoch 50/100\n",
      "900/900 [==============================] - 0s 57us/step - loss: 0.6932 - accuracy: 0.4989\n",
      "Epoch 51/100\n",
      "900/900 [==============================] - 0s 59us/step - loss: 0.6932 - accuracy: 0.4922\n",
      "Epoch 52/100\n",
      "900/900 [==============================] - 0s 62us/step - loss: 0.6932 - accuracy: 0.4878\n",
      "Epoch 53/100\n",
      "900/900 [==============================] - 0s 65us/step - loss: 0.6932 - accuracy: 0.4989\n",
      "Epoch 54/100\n",
      "900/900 [==============================] - 0s 62us/step - loss: 0.6932 - accuracy: 0.4989\n",
      "Epoch 55/100\n",
      "900/900 [==============================] - 0s 58us/step - loss: 0.6932 - accuracy: 0.4900\n",
      "Epoch 56/100\n",
      "900/900 [==============================] - 0s 58us/step - loss: 0.6932 - accuracy: 0.4989\n",
      "Epoch 57/100\n",
      "900/900 [==============================] - 0s 58us/step - loss: 0.6932 - accuracy: 0.4833\n",
      "Epoch 58/100\n",
      "900/900 [==============================] - 0s 59us/step - loss: 0.6932 - accuracy: 0.4989\n",
      "Epoch 59/100\n",
      "900/900 [==============================] - 0s 57us/step - loss: 0.6932 - accuracy: 0.4922\n",
      "Epoch 60/100\n",
      "900/900 [==============================] - 0s 54us/step - loss: 0.6932 - accuracy: 0.4989\n",
      "Epoch 61/100\n",
      "900/900 [==============================] - 0s 58us/step - loss: 0.6932 - accuracy: 0.4833\n",
      "Epoch 62/100\n",
      "900/900 [==============================] - 0s 56us/step - loss: 0.6932 - accuracy: 0.4989\n",
      "Epoch 63/100\n",
      "900/900 [==============================] - 0s 53us/step - loss: 0.6932 - accuracy: 0.4989\n",
      "Epoch 64/100\n",
      "900/900 [==============================] - 0s 61us/step - loss: 0.6932 - accuracy: 0.4989\n",
      "Epoch 65/100\n",
      "900/900 [==============================] - 0s 61us/step - loss: 0.6932 - accuracy: 0.4989\n",
      "Epoch 66/100\n",
      "900/900 [==============================] - 0s 57us/step - loss: 0.6932 - accuracy: 0.4822\n",
      "Epoch 67/100\n",
      "900/900 [==============================] - 0s 59us/step - loss: 0.6932 - accuracy: 0.5011\n",
      "Epoch 68/100\n",
      "900/900 [==============================] - 0s 57us/step - loss: 0.6932 - accuracy: 0.5011\n",
      "Epoch 69/100\n",
      "900/900 [==============================] - 0s 54us/step - loss: 0.6932 - accuracy: 0.4922\n",
      "Epoch 70/100\n",
      "900/900 [==============================] - 0s 56us/step - loss: 0.6932 - accuracy: 0.4867\n",
      "Epoch 71/100\n",
      "900/900 [==============================] - 0s 58us/step - loss: 0.6932 - accuracy: 0.4967\n",
      "Epoch 72/100\n",
      "900/900 [==============================] - 0s 59us/step - loss: 0.6932 - accuracy: 0.5011\n",
      "Epoch 73/100\n",
      "900/900 [==============================] - 0s 61us/step - loss: 0.6932 - accuracy: 0.4944\n",
      "Epoch 74/100\n",
      "900/900 [==============================] - 0s 58us/step - loss: 0.6932 - accuracy: 0.4933\n",
      "Epoch 75/100\n",
      "900/900 [==============================] - 0s 66us/step - loss: 0.6932 - accuracy: 0.5011\n",
      "Epoch 76/100\n",
      "900/900 [==============================] - 0s 61us/step - loss: 0.6932 - accuracy: 0.5011\n",
      "Epoch 77/100\n",
      "900/900 [==============================] - 0s 59us/step - loss: 0.6932 - accuracy: 0.5011\n",
      "Epoch 78/100\n",
      "900/900 [==============================] - 0s 54us/step - loss: 0.6932 - accuracy: 0.5011\n",
      "Epoch 79/100\n",
      "900/900 [==============================] - 0s 59us/step - loss: 0.6932 - accuracy: 0.5011\n",
      "Epoch 80/100\n"
     ]
    },
    {
     "name": "stdout",
     "output_type": "stream",
     "text": [
      "900/900 [==============================] - 0s 54us/step - loss: 0.6932 - accuracy: 0.5011\n",
      "Epoch 81/100\n",
      "900/900 [==============================] - 0s 56us/step - loss: 0.6932 - accuracy: 0.4767\n",
      "Epoch 82/100\n",
      "900/900 [==============================] - 0s 58us/step - loss: 0.6932 - accuracy: 0.4800\n",
      "Epoch 83/100\n",
      "900/900 [==============================] - 0s 59us/step - loss: 0.6932 - accuracy: 0.5000\n",
      "Epoch 84/100\n",
      "900/900 [==============================] - 0s 63us/step - loss: 0.6932 - accuracy: 0.4944\n",
      "Epoch 85/100\n",
      "900/900 [==============================] - 0s 58us/step - loss: 0.6932 - accuracy: 0.4789\n",
      "Epoch 86/100\n",
      "900/900 [==============================] - 0s 59us/step - loss: 0.6932 - accuracy: 0.4833\n",
      "Epoch 87/100\n",
      "900/900 [==============================] - 0s 57us/step - loss: 0.6932 - accuracy: 0.4878\n",
      "Epoch 88/100\n",
      "900/900 [==============================] - 0s 58us/step - loss: 0.6932 - accuracy: 0.5011\n",
      "Epoch 89/100\n",
      "900/900 [==============================] - 0s 58us/step - loss: 0.6932 - accuracy: 0.4789\n",
      "Epoch 90/100\n",
      "900/900 [==============================] - 0s 65us/step - loss: 0.6932 - accuracy: 0.4789\n",
      "Epoch 91/100\n",
      "900/900 [==============================] - 0s 62us/step - loss: 0.6932 - accuracy: 0.4989\n",
      "Epoch 92/100\n",
      "900/900 [==============================] - 0s 65us/step - loss: 0.6932 - accuracy: 0.4989\n",
      "Epoch 93/100\n",
      "900/900 [==============================] - 0s 62us/step - loss: 0.6932 - accuracy: 0.4989\n",
      "Epoch 94/100\n",
      "900/900 [==============================] - 0s 70us/step - loss: 0.6932 - accuracy: 0.4989\n",
      "Epoch 95/100\n",
      "900/900 [==============================] - 0s 68us/step - loss: 0.6932 - accuracy: 0.4989\n",
      "Epoch 96/100\n",
      "900/900 [==============================] - 0s 63us/step - loss: 0.6932 - accuracy: 0.4989\n",
      "Epoch 97/100\n",
      "900/900 [==============================] - 0s 61us/step - loss: 0.6932 - accuracy: 0.4856\n",
      "Epoch 98/100\n",
      "900/900 [==============================] - 0s 57us/step - loss: 0.6932 - accuracy: 0.4989\n",
      "Epoch 99/100\n",
      "900/900 [==============================] - 0s 58us/step - loss: 0.6932 - accuracy: 0.4789\n",
      "Epoch 100/100\n",
      "900/900 [==============================] - 0s 56us/step - loss: 0.6932 - accuracy: 0.4989\n"
     ]
    },
    {
     "data": {
      "text/plain": [
       "<keras.callbacks.callbacks.History at 0x11a8abb8688>"
      ]
     },
     "execution_count": 59,
     "metadata": {},
     "output_type": "execute_result"
    }
   ],
   "source": [
    "model.fit(X_train, y_train, batch_size = 32, epochs = 100)"
   ]
  },
  {
   "cell_type": "code",
   "execution_count": 60,
   "metadata": {},
   "outputs": [],
   "source": [
    "y_pred = model.predict(X_test)>0.5"
   ]
  },
  {
   "cell_type": "code",
   "execution_count": 61,
   "metadata": {},
   "outputs": [],
   "source": [
    "r=model.predict(cv.transform([\"nasty food\"]))>0.5"
   ]
  },
  {
   "cell_type": "code",
   "execution_count": 62,
   "metadata": {},
   "outputs": [
    {
     "data": {
      "text/plain": [
       "array([[False]])"
      ]
     },
     "execution_count": 62,
     "metadata": {},
     "output_type": "execute_result"
    }
   ],
   "source": [
    "r"
   ]
  },
  {
   "cell_type": "code",
   "execution_count": null,
   "metadata": {},
   "outputs": [],
   "source": []
  }
 ],
 "metadata": {
  "kernelspec": {
   "display_name": "Python 3",
   "language": "python",
   "name": "python3"
  },
  "language_info": {
   "codemirror_mode": {
    "name": "ipython",
    "version": 3
   },
   "file_extension": ".py",
   "mimetype": "text/x-python",
   "name": "python",
   "nbconvert_exporter": "python",
   "pygments_lexer": "ipython3",
   "version": "3.7.6"
  }
 },
 "nbformat": 4,
 "nbformat_minor": 4
}
