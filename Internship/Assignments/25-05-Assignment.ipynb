{
 "cells": [
  {
   "cell_type": "code",
   "execution_count": 6,
   "metadata": {},
   "outputs": [
    {
     "name": "stdout",
     "output_type": "stream",
     "text": [
      "0\n",
      "2\n",
      "4\n",
      "6\n",
      "8\n",
      "10\n",
      "12\n",
      "14\n",
      "16\n",
      "18\n"
     ]
    }
   ],
   "source": [
    "# loop to print 10 first even numbers\n",
    "\n",
    "count = 0\n",
    "for i in range(100):\n",
    "    if (i%2==0) & (count<10):\n",
    "        print(i)\n",
    "        count = count+1"
   ]
  },
  {
   "cell_type": "code",
   "execution_count": 7,
   "metadata": {},
   "outputs": [
    {
     "name": "stdout",
     "output_type": "stream",
     "text": [
      "1\n",
      "3\n",
      "5\n",
      "7\n",
      "9\n",
      "11\n",
      "13\n",
      "15\n",
      "17\n",
      "19\n",
      "21\n",
      "23\n",
      "25\n",
      "27\n",
      "29\n",
      "31\n",
      "33\n",
      "35\n",
      "37\n",
      "39\n"
     ]
    }
   ],
   "source": [
    "# loop to print 20 first odd numbers\n",
    "\n",
    "count = 0\n",
    "for i in range(100):\n",
    "    if (i%2!=0) & (count<20):\n",
    "        print(i)\n",
    "        count = count+1"
   ]
  },
  {
   "cell_type": "code",
   "execution_count": 10,
   "metadata": {},
   "outputs": [
    {
     "name": "stdout",
     "output_type": "stream",
     "text": [
      "[71518, 'Obada', 'Programming 101', 2000.0]\n",
      "[71518, 'Obada', 'Programming 101', 2000.0, 85]\n",
      "[71518, 'Obada', 'Programming 101', 2000.0, 85, 'Spring', 'B+']\n"
     ]
    }
   ],
   "source": [
    "# student list with [ID, Name, Course, Fee]\n",
    "\n",
    "student = [71518, 'Obada', 'Programming 101', 2000.0]\n",
    "print(student)\n",
    "\n",
    "# Appending result to student list\n",
    "\n",
    "result = 85\n",
    "student.append(result)\n",
    "print(student)\n",
    "\n",
    "# Extending student list with [Semester, Mark]\n",
    "\n",
    "semester, mark = 'Spring', 'B+'\n",
    "student.extend([semester, mark])\n",
    "print(student)\n"
   ]
  },
  {
   "cell_type": "code",
   "execution_count": 12,
   "metadata": {},
   "outputs": [
    {
     "name": "stdout",
     "output_type": "stream",
     "text": [
      "[71518, 'Obada', 'Programmer']\n",
      "[71518, 'Obada', 'Programmer', 40, 8000]\n"
     ]
    }
   ],
   "source": [
    "# Employee list with [ID, Name, Job, Weekly hours, Salary]\n",
    "\n",
    "employee = [71518, 'Obada', 'Programmer']\n",
    "print(employee)\n",
    "\n",
    "# Extending [Weekly hours, Salary] to student list\n",
    "\n",
    "employee.extend([40, 8000])\n",
    "print(employee)\n"
   ]
  },
  {
   "cell_type": "code",
   "execution_count": null,
   "metadata": {},
   "outputs": [],
   "source": []
  }
 ],
 "metadata": {
  "kernelspec": {
   "display_name": "Python 3",
   "language": "python",
   "name": "python3"
  },
  "language_info": {
   "codemirror_mode": {
    "name": "ipython",
    "version": 3
   },
   "file_extension": ".py",
   "mimetype": "text/x-python",
   "name": "python",
   "nbconvert_exporter": "python",
   "pygments_lexer": "ipython3",
   "version": "3.7.6"
  }
 },
 "nbformat": 4,
 "nbformat_minor": 4
}
