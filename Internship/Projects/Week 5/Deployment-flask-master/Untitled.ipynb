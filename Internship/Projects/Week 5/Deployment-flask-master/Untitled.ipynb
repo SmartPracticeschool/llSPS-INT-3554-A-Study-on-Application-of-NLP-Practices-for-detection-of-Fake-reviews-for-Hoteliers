{
 "cells": [
  {
   "cell_type": "code",
   "execution_count": 1,
   "metadata": {},
   "outputs": [
    {
     "ename": "NameError",
     "evalue": "name 'python' is not defined",
     "output_type": "error",
     "traceback": [
      "\u001b[1;31m---------------------------------------------------------------------------\u001b[0m",
      "\u001b[1;31mNameError\u001b[0m                                 Traceback (most recent call last)",
      "\u001b[1;32m<ipython-input-1-32886514c262>\u001b[0m in \u001b[0;36m<module>\u001b[1;34m\u001b[0m\n\u001b[1;32m----> 1\u001b[1;33m \u001b[0mpython\u001b[0m\u001b[1;33m\u001b[0m\u001b[1;33m\u001b[0m\u001b[0m\n\u001b[0m",
      "\u001b[1;31mNameError\u001b[0m: name 'python' is not defined"
     ]
    }
   ],
   "source": [
    "python"
   ]
  },
  {
   "cell_type": "code",
   "execution_count": 2,
   "metadata": {},
   "outputs": [
    {
     "name": "stdout",
     "output_type": "stream",
     "text": [
      "Python version\n",
      "3.7.6 (default, Jan  8 2020, 20:23:39) [MSC v.1916 64 bit (AMD64)]\n",
      "Version info.\n",
      "sys.version_info(major=3, minor=7, micro=6, releaselevel='final', serial=0)\n"
     ]
    }
   ],
   "source": [
    "import sys\n",
    "print(\"Python version\")\n",
    "print (sys.version)\n",
    "print(\"Version info.\")\n",
    "print (sys.version_info)"
   ]
  },
  {
   "cell_type": "code",
   "execution_count": 3,
   "metadata": {},
   "outputs": [
    {
     "name": "stderr",
     "output_type": "stream",
     "text": [
      "Using TensorFlow backend.\n"
     ]
    },
    {
     "name": "stdout",
     "output_type": "stream",
     "text": [
      " * Serving Flask app \"__main__\" (lazy loading)\n",
      " * Environment: production\n",
      "   WARNING: This is a development server. Do not use it in a production deployment.\n",
      "   Use a production WSGI server instead.\n",
      " * Debug mode: on\n"
     ]
    },
    {
     "name": "stderr",
     "output_type": "stream",
     "text": [
      " * Restarting with windowsapi reloader\n"
     ]
    },
    {
     "ename": "SystemExit",
     "evalue": "1",
     "output_type": "error",
     "traceback": [
      "An exception has occurred, use %tb to see the full traceback.\n",
      "\u001b[1;31mSystemExit\u001b[0m\u001b[1;31m:\u001b[0m 1\n"
     ]
    },
    {
     "name": "stderr",
     "output_type": "stream",
     "text": [
      "C:\\Users\\ASUS\\anaconda3\\lib\\site-packages\\IPython\\core\\interactiveshell.py:3339: UserWarning: To exit: use 'exit', 'quit', or Ctrl-D.\n",
      "  warn(\"To exit: use 'exit', 'quit', or Ctrl-D.\", stacklevel=1)\n"
     ]
    }
   ],
   "source": [
    "from flask import Flask, request, jsonify, render_template\n",
    "from forms import PredictForm\n",
    "from keras.models import load_model\n",
    "import pandas as pd\n",
    "import numpy as np\n",
    "import joblib\n",
    "import os\n",
    "\n",
    "app = Flask(__name__)\n",
    "app.config['SECRET_KEY'] = 'thisisjustatest'\n",
    "@app.route('/', methods=['GET','POST'])\n",
    "def indexfunc():\n",
    "    forms=PredictForm()\n",
    "    os.chdir(\"C:/Users/ASUS/Desktop/Python Course/Datasets\")\n",
    "    model = load_model(\"30DaysANN.h5\")\n",
    "    prediction_text='Result will appear here...'\n",
    "    if forms.validate_on_submit():\n",
    "        newdict={\n",
    "                #'number_inpatient','number_emergency','number_outpatient','discharge_disposition_id','num_lab_procedures','num_medications'\n",
    "                'number_inpatient': [int(forms.number_inpatient.data)],\n",
    "                'number_emergency': [int(forms.number_emergency.data)],\n",
    "                'number_outpatient': [int(forms.number_outpatient.data)],\n",
    "                'discharge_disposition_id': [int(forms.discharge_disposition_id.data)],\n",
    "                'num_lab_procedures':[int(forms.num_lab_procedures.data)],\n",
    "                'num_medications':[int(forms.num_medications.data)],\n",
    "            }\n",
    "        newds=pd.DataFrame(newdict)\n",
    "\n",
    "        prediction = model.predict((newds))>0.5\n",
    "\n",
    "        max_index_col = np.argmax(prediction, axis=1)\n",
    "\n",
    "        if max_index_col:\n",
    "            prediction_text=' The Patient will be readmitted more than 30 Times '\n",
    "\n",
    "        else:\n",
    "            prediction_text=' The Patient will be not be readmitted '\n",
    "   \n",
    "    return render_template('regression.html', form=forms,prediction_text=prediction_text)\n",
    "\n",
    "if __name__ == \"__main__\":\n",
    "    app.run(debug=True,threaded=False)"
   ]
  },
  {
   "cell_type": "code",
   "execution_count": null,
   "metadata": {},
   "outputs": [],
   "source": []
  }
 ],
 "metadata": {
  "kernelspec": {
   "display_name": "Python 3",
   "language": "python",
   "name": "python3"
  },
  "language_info": {
   "codemirror_mode": {
    "name": "ipython",
    "version": 3
   },
   "file_extension": ".py",
   "mimetype": "text/x-python",
   "name": "python",
   "nbconvert_exporter": "python",
   "pygments_lexer": "ipython3",
   "version": "3.7.6"
  }
 },
 "nbformat": 4,
 "nbformat_minor": 4
}
