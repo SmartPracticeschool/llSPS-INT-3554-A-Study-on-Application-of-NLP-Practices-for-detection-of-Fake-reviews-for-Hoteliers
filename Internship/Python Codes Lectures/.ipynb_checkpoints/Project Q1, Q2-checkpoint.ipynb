{
 "cells": [
  {
   "cell_type": "code",
   "execution_count": 1,
   "metadata": {},
   "outputs": [
    {
     "data": {
      "text/html": [
       "<div>\n",
       "<style scoped>\n",
       "    .dataframe tbody tr th:only-of-type {\n",
       "        vertical-align: middle;\n",
       "    }\n",
       "\n",
       "    .dataframe tbody tr th {\n",
       "        vertical-align: top;\n",
       "    }\n",
       "\n",
       "    .dataframe thead th {\n",
       "        text-align: right;\n",
       "    }\n",
       "</style>\n",
       "<table border=\"1\" class=\"dataframe\">\n",
       "  <thead>\n",
       "    <tr style=\"text-align: right;\">\n",
       "      <th></th>\n",
       "      <th>Ozone</th>\n",
       "      <th>Solar.R</th>\n",
       "      <th>Wind</th>\n",
       "      <th>Temp</th>\n",
       "      <th>Month</th>\n",
       "      <th>Day</th>\n",
       "    </tr>\n",
       "  </thead>\n",
       "  <tbody>\n",
       "    <tr>\n",
       "      <th>0</th>\n",
       "      <td>41.0</td>\n",
       "      <td>190.0</td>\n",
       "      <td>7.4</td>\n",
       "      <td>67</td>\n",
       "      <td>5</td>\n",
       "      <td>1</td>\n",
       "    </tr>\n",
       "    <tr>\n",
       "      <th>1</th>\n",
       "      <td>36.0</td>\n",
       "      <td>118.0</td>\n",
       "      <td>8.0</td>\n",
       "      <td>72</td>\n",
       "      <td>5</td>\n",
       "      <td>2</td>\n",
       "    </tr>\n",
       "    <tr>\n",
       "      <th>2</th>\n",
       "      <td>12.0</td>\n",
       "      <td>149.0</td>\n",
       "      <td>12.6</td>\n",
       "      <td>74</td>\n",
       "      <td>5</td>\n",
       "      <td>3</td>\n",
       "    </tr>\n",
       "    <tr>\n",
       "      <th>3</th>\n",
       "      <td>18.0</td>\n",
       "      <td>313.0</td>\n",
       "      <td>11.5</td>\n",
       "      <td>62</td>\n",
       "      <td>5</td>\n",
       "      <td>4</td>\n",
       "    </tr>\n",
       "    <tr>\n",
       "      <th>4</th>\n",
       "      <td>NaN</td>\n",
       "      <td>NaN</td>\n",
       "      <td>14.3</td>\n",
       "      <td>56</td>\n",
       "      <td>5</td>\n",
       "      <td>5</td>\n",
       "    </tr>\n",
       "    <tr>\n",
       "      <th>...</th>\n",
       "      <td>...</td>\n",
       "      <td>...</td>\n",
       "      <td>...</td>\n",
       "      <td>...</td>\n",
       "      <td>...</td>\n",
       "      <td>...</td>\n",
       "    </tr>\n",
       "    <tr>\n",
       "      <th>148</th>\n",
       "      <td>30.0</td>\n",
       "      <td>193.0</td>\n",
       "      <td>6.9</td>\n",
       "      <td>70</td>\n",
       "      <td>9</td>\n",
       "      <td>26</td>\n",
       "    </tr>\n",
       "    <tr>\n",
       "      <th>149</th>\n",
       "      <td>NaN</td>\n",
       "      <td>145.0</td>\n",
       "      <td>13.2</td>\n",
       "      <td>77</td>\n",
       "      <td>9</td>\n",
       "      <td>27</td>\n",
       "    </tr>\n",
       "    <tr>\n",
       "      <th>150</th>\n",
       "      <td>14.0</td>\n",
       "      <td>191.0</td>\n",
       "      <td>14.3</td>\n",
       "      <td>75</td>\n",
       "      <td>9</td>\n",
       "      <td>28</td>\n",
       "    </tr>\n",
       "    <tr>\n",
       "      <th>151</th>\n",
       "      <td>18.0</td>\n",
       "      <td>131.0</td>\n",
       "      <td>8.0</td>\n",
       "      <td>76</td>\n",
       "      <td>9</td>\n",
       "      <td>29</td>\n",
       "    </tr>\n",
       "    <tr>\n",
       "      <th>152</th>\n",
       "      <td>20.0</td>\n",
       "      <td>223.0</td>\n",
       "      <td>11.5</td>\n",
       "      <td>68</td>\n",
       "      <td>9</td>\n",
       "      <td>3</td>\n",
       "    </tr>\n",
       "  </tbody>\n",
       "</table>\n",
       "<p>153 rows × 6 columns</p>\n",
       "</div>"
      ],
      "text/plain": [
       "     Ozone  Solar.R  Wind  Temp  Month  Day\n",
       "0     41.0    190.0   7.4    67      5    1\n",
       "1     36.0    118.0   8.0    72      5    2\n",
       "2     12.0    149.0  12.6    74      5    3\n",
       "3     18.0    313.0  11.5    62      5    4\n",
       "4      NaN      NaN  14.3    56      5    5\n",
       "..     ...      ...   ...   ...    ...  ...\n",
       "148   30.0    193.0   6.9    70      9   26\n",
       "149    NaN    145.0  13.2    77      9   27\n",
       "150   14.0    191.0  14.3    75      9   28\n",
       "151   18.0    131.0   8.0    76      9   29\n",
       "152   20.0    223.0  11.5    68      9    3\n",
       "\n",
       "[153 rows x 6 columns]"
      ]
     },
     "execution_count": 1,
     "metadata": {},
     "output_type": "execute_result"
    }
   ],
   "source": [
    "import os\n",
    "os.chdir(\"C:/Users/ASUS/Desktop/Python Course/Datasets\")\n",
    "import pandas as pd\n",
    "import numpy as np\n",
    "import matplotlib.pyplot as plt\n",
    "%matplotlib inline\n",
    "airdata = pd.read_csv(\"airquality.csv\")\n",
    "airdata"
   ]
  },
  {
   "cell_type": "code",
   "execution_count": 2,
   "metadata": {},
   "outputs": [
    {
     "data": {
      "text/html": [
       "<div>\n",
       "<style scoped>\n",
       "    .dataframe tbody tr th:only-of-type {\n",
       "        vertical-align: middle;\n",
       "    }\n",
       "\n",
       "    .dataframe tbody tr th {\n",
       "        vertical-align: top;\n",
       "    }\n",
       "\n",
       "    .dataframe thead th {\n",
       "        text-align: right;\n",
       "    }\n",
       "</style>\n",
       "<table border=\"1\" class=\"dataframe\">\n",
       "  <thead>\n",
       "    <tr style=\"text-align: right;\">\n",
       "      <th></th>\n",
       "      <th>Ozone</th>\n",
       "      <th>Solar.R</th>\n",
       "      <th>Wind</th>\n",
       "      <th>Temp</th>\n",
       "      <th>Month</th>\n",
       "      <th>Day</th>\n",
       "    </tr>\n",
       "  </thead>\n",
       "  <tbody>\n",
       "    <tr>\n",
       "      <th>count</th>\n",
       "      <td>116.000000</td>\n",
       "      <td>146.000000</td>\n",
       "      <td>153.000000</td>\n",
       "      <td>153.000000</td>\n",
       "      <td>153.000000</td>\n",
       "      <td>153.000000</td>\n",
       "    </tr>\n",
       "    <tr>\n",
       "      <th>mean</th>\n",
       "      <td>42.129310</td>\n",
       "      <td>185.931507</td>\n",
       "      <td>9.957516</td>\n",
       "      <td>77.882353</td>\n",
       "      <td>6.993464</td>\n",
       "      <td>15.627451</td>\n",
       "    </tr>\n",
       "    <tr>\n",
       "      <th>std</th>\n",
       "      <td>32.987885</td>\n",
       "      <td>90.058422</td>\n",
       "      <td>3.523001</td>\n",
       "      <td>9.465270</td>\n",
       "      <td>1.416522</td>\n",
       "      <td>8.848790</td>\n",
       "    </tr>\n",
       "    <tr>\n",
       "      <th>min</th>\n",
       "      <td>1.000000</td>\n",
       "      <td>7.000000</td>\n",
       "      <td>1.700000</td>\n",
       "      <td>56.000000</td>\n",
       "      <td>5.000000</td>\n",
       "      <td>1.000000</td>\n",
       "    </tr>\n",
       "    <tr>\n",
       "      <th>25%</th>\n",
       "      <td>18.000000</td>\n",
       "      <td>115.750000</td>\n",
       "      <td>7.400000</td>\n",
       "      <td>72.000000</td>\n",
       "      <td>6.000000</td>\n",
       "      <td>8.000000</td>\n",
       "    </tr>\n",
       "    <tr>\n",
       "      <th>50%</th>\n",
       "      <td>31.500000</td>\n",
       "      <td>205.000000</td>\n",
       "      <td>9.700000</td>\n",
       "      <td>79.000000</td>\n",
       "      <td>7.000000</td>\n",
       "      <td>16.000000</td>\n",
       "    </tr>\n",
       "    <tr>\n",
       "      <th>75%</th>\n",
       "      <td>63.250000</td>\n",
       "      <td>258.750000</td>\n",
       "      <td>11.500000</td>\n",
       "      <td>85.000000</td>\n",
       "      <td>8.000000</td>\n",
       "      <td>23.000000</td>\n",
       "    </tr>\n",
       "    <tr>\n",
       "      <th>max</th>\n",
       "      <td>168.000000</td>\n",
       "      <td>334.000000</td>\n",
       "      <td>20.700000</td>\n",
       "      <td>97.000000</td>\n",
       "      <td>9.000000</td>\n",
       "      <td>31.000000</td>\n",
       "    </tr>\n",
       "  </tbody>\n",
       "</table>\n",
       "</div>"
      ],
      "text/plain": [
       "            Ozone     Solar.R        Wind        Temp       Month         Day\n",
       "count  116.000000  146.000000  153.000000  153.000000  153.000000  153.000000\n",
       "mean    42.129310  185.931507    9.957516   77.882353    6.993464   15.627451\n",
       "std     32.987885   90.058422    3.523001    9.465270    1.416522    8.848790\n",
       "min      1.000000    7.000000    1.700000   56.000000    5.000000    1.000000\n",
       "25%     18.000000  115.750000    7.400000   72.000000    6.000000    8.000000\n",
       "50%     31.500000  205.000000    9.700000   79.000000    7.000000   16.000000\n",
       "75%     63.250000  258.750000   11.500000   85.000000    8.000000   23.000000\n",
       "max    168.000000  334.000000   20.700000   97.000000    9.000000   31.000000"
      ]
     },
     "execution_count": 2,
     "metadata": {},
     "output_type": "execute_result"
    }
   ],
   "source": [
    "airdata.describe()"
   ]
  },
  {
   "cell_type": "code",
   "execution_count": 34,
   "metadata": {},
   "outputs": [
    {
     "ename": "AttributeError",
     "evalue": "'numpy.ndarray' object has no attribute 'corr'",
     "output_type": "error",
     "traceback": [
      "\u001b[1;31m---------------------------------------------------------------------------\u001b[0m",
      "\u001b[1;31mAttributeError\u001b[0m                            Traceback (most recent call last)",
      "\u001b[1;32m<ipython-input-34-762b88e903ca>\u001b[0m in \u001b[0;36m<module>\u001b[1;34m\u001b[0m\n\u001b[1;32m----> 1\u001b[1;33m \u001b[0mairdata\u001b[0m\u001b[1;33m.\u001b[0m\u001b[0mcorr\u001b[0m\u001b[1;33m(\u001b[0m\u001b[1;33m)\u001b[0m\u001b[1;33m\u001b[0m\u001b[1;33m\u001b[0m\u001b[0m\n\u001b[0m",
      "\u001b[1;31mAttributeError\u001b[0m: 'numpy.ndarray' object has no attribute 'corr'"
     ]
    }
   ],
   "source": []
  },
  {
   "cell_type": "code",
   "execution_count": 3,
   "metadata": {},
   "outputs": [
    {
     "data": {
      "text/plain": [
       "Ozone      37\n",
       "Solar.R     7\n",
       "Wind        0\n",
       "Temp        0\n",
       "Month       0\n",
       "Day         0\n",
       "dtype: int64"
      ]
     },
     "execution_count": 3,
     "metadata": {},
     "output_type": "execute_result"
    }
   ],
   "source": [
    "airdata.isnull().sum()"
   ]
  },
  {
   "cell_type": "code",
   "execution_count": 4,
   "metadata": {},
   "outputs": [
    {
     "data": {
      "text/plain": [
       "<matplotlib.axes._subplots.AxesSubplot at 0x1b898ba1d88>"
      ]
     },
     "execution_count": 4,
     "metadata": {},
     "output_type": "execute_result"
    },
    {
     "data": {
      "image/png": "[encoded data removed]",
      "text/plain": [
       "<Figure size 432x288 with 1 Axes>"
      ]
     },
     "metadata": {
      "needs_background": "light"
     },
     "output_type": "display_data"
    }
   ],
   "source": [
    "import matplotlib.pyplot as plt\n",
    "%matplotlib inline\n",
    "airdata.boxplot(column='Solar.R')"
   ]
  },
  {
   "cell_type": "code",
   "execution_count": 5,
   "metadata": {},
   "outputs": [
    {
     "data": {
      "text/html": [
       "<div>\n",
       "<style scoped>\n",
       "    .dataframe tbody tr th:only-of-type {\n",
       "        vertical-align: middle;\n",
       "    }\n",
       "\n",
       "    .dataframe tbody tr th {\n",
       "        vertical-align: top;\n",
       "    }\n",
       "\n",
       "    .dataframe thead th {\n",
       "        text-align: right;\n",
       "    }\n",
       "</style>\n",
       "<table border=\"1\" class=\"dataframe\">\n",
       "  <thead>\n",
       "    <tr style=\"text-align: right;\">\n",
       "      <th></th>\n",
       "      <th>Solar.R</th>\n",
       "      <th>Wind</th>\n",
       "      <th>Temp</th>\n",
       "      <th>Month</th>\n",
       "      <th>Day</th>\n",
       "    </tr>\n",
       "  </thead>\n",
       "  <tbody>\n",
       "    <tr>\n",
       "      <th>0</th>\n",
       "      <td>190.0</td>\n",
       "      <td>7.4</td>\n",
       "      <td>67</td>\n",
       "      <td>5</td>\n",
       "      <td>1</td>\n",
       "    </tr>\n",
       "    <tr>\n",
       "      <th>1</th>\n",
       "      <td>118.0</td>\n",
       "      <td>8.0</td>\n",
       "      <td>72</td>\n",
       "      <td>5</td>\n",
       "      <td>2</td>\n",
       "    </tr>\n",
       "    <tr>\n",
       "      <th>2</th>\n",
       "      <td>149.0</td>\n",
       "      <td>12.6</td>\n",
       "      <td>74</td>\n",
       "      <td>5</td>\n",
       "      <td>3</td>\n",
       "    </tr>\n",
       "    <tr>\n",
       "      <th>3</th>\n",
       "      <td>313.0</td>\n",
       "      <td>11.5</td>\n",
       "      <td>62</td>\n",
       "      <td>5</td>\n",
       "      <td>4</td>\n",
       "    </tr>\n",
       "    <tr>\n",
       "      <th>4</th>\n",
       "      <td>NaN</td>\n",
       "      <td>14.3</td>\n",
       "      <td>56</td>\n",
       "      <td>5</td>\n",
       "      <td>5</td>\n",
       "    </tr>\n",
       "    <tr>\n",
       "      <th>...</th>\n",
       "      <td>...</td>\n",
       "      <td>...</td>\n",
       "      <td>...</td>\n",
       "      <td>...</td>\n",
       "      <td>...</td>\n",
       "    </tr>\n",
       "    <tr>\n",
       "      <th>148</th>\n",
       "      <td>193.0</td>\n",
       "      <td>6.9</td>\n",
       "      <td>70</td>\n",
       "      <td>9</td>\n",
       "      <td>26</td>\n",
       "    </tr>\n",
       "    <tr>\n",
       "      <th>149</th>\n",
       "      <td>145.0</td>\n",
       "      <td>13.2</td>\n",
       "      <td>77</td>\n",
       "      <td>9</td>\n",
       "      <td>27</td>\n",
       "    </tr>\n",
       "    <tr>\n",
       "      <th>150</th>\n",
       "      <td>191.0</td>\n",
       "      <td>14.3</td>\n",
       "      <td>75</td>\n",
       "      <td>9</td>\n",
       "      <td>28</td>\n",
       "    </tr>\n",
       "    <tr>\n",
       "      <th>151</th>\n",
       "      <td>131.0</td>\n",
       "      <td>8.0</td>\n",
       "      <td>76</td>\n",
       "      <td>9</td>\n",
       "      <td>29</td>\n",
       "    </tr>\n",
       "    <tr>\n",
       "      <th>152</th>\n",
       "      <td>223.0</td>\n",
       "      <td>11.5</td>\n",
       "      <td>68</td>\n",
       "      <td>9</td>\n",
       "      <td>3</td>\n",
       "    </tr>\n",
       "  </tbody>\n",
       "</table>\n",
       "<p>153 rows × 5 columns</p>\n",
       "</div>"
      ],
      "text/plain": [
       "     Solar.R  Wind  Temp  Month  Day\n",
       "0      190.0   7.4    67      5    1\n",
       "1      118.0   8.0    72      5    2\n",
       "2      149.0  12.6    74      5    3\n",
       "3      313.0  11.5    62      5    4\n",
       "4        NaN  14.3    56      5    5\n",
       "..       ...   ...   ...    ...  ...\n",
       "148    193.0   6.9    70      9   26\n",
       "149    145.0  13.2    77      9   27\n",
       "150    191.0  14.3    75      9   28\n",
       "151    131.0   8.0    76      9   29\n",
       "152    223.0  11.5    68      9    3\n",
       "\n",
       "[153 rows x 5 columns]"
      ]
     },
     "execution_count": 5,
     "metadata": {},
     "output_type": "execute_result"
    }
   ],
   "source": [
    "features=airdata.iloc[:,1:]\n",
    "features #Drop Ozone"
   ]
  },
  {
   "cell_type": "code",
   "execution_count": 6,
   "metadata": {},
   "outputs": [],
   "source": [
    "label = airdata.iloc[:,0].values"
   ]
  },
  {
   "cell_type": "code",
   "execution_count": 7,
   "metadata": {},
   "outputs": [
    {
     "data": {
      "text/plain": [
       "array([ 41.,  36.,  12.,  18.,  nan,  28.,  23.,  19.,   8.,  nan,   7.,\n",
       "        16.,  11.,  14.,  18.,  14.,  34.,   6.,  30.,  11.,   1.,  11.,\n",
       "         4.,  32.,  nan,  nan,  nan,  23.,  45., 115.,  37.,  nan,  nan,\n",
       "        nan,  nan,  nan,  nan,  29.,  nan,  71.,  39.,  nan,  nan,  23.,\n",
       "        nan,  nan,  21.,  37.,  20.,  12.,  13.,  nan,  nan,  nan,  nan,\n",
       "        nan,  nan,  nan,  nan,  nan,  nan, 135.,  49.,  32.,  nan,  64.,\n",
       "        40.,  77.,  97.,  97.,  85.,  nan,  10.,  27.,  nan,   7.,  48.,\n",
       "        35.,  61.,  79.,  63.,  16.,  nan,  nan,  80., 108.,  20.,  52.,\n",
       "        82.,  50.,  64.,  59.,  39.,   9.,  16.,  78.,  35.,  66., 122.,\n",
       "        89., 110.,  nan,  nan,  44.,  28.,  65.,  nan,  22.,  59.,  23.,\n",
       "        31.,  44.,  21.,   9.,  nan,  45., 168.,  73.,  nan,  76., 118.,\n",
       "        84.,  85.,  96.,  78.,  73.,  91.,  47.,  32.,  20.,  23.,  21.,\n",
       "        24.,  44.,  21.,  28.,   9.,  13.,  46.,  18.,  13.,  24.,  16.,\n",
       "        13.,  23.,  36.,   7.,  14.,  30.,  nan,  14.,  18.,  20.])"
      ]
     },
     "execution_count": 7,
     "metadata": {},
     "output_type": "execute_result"
    }
   ],
   "source": [
    "label"
   ]
  },
  {
   "cell_type": "code",
   "execution_count": 8,
   "metadata": {},
   "outputs": [],
   "source": [
    "from sklearn.impute import SimpleImputer\n",
    "import numpy as np\n",
    "imputer = SimpleImputer(missing_values=np.nan, strategy='mean')\n",
    "imputer.fit(airdata)\n",
    "airdata = imputer.fit_transform(airdata)"
   ]
  },
  {
   "cell_type": "code",
   "execution_count": 9,
   "metadata": {},
   "outputs": [
    {
     "data": {
      "text/plain": [
       "array([[ 41.        , 190.        ,   7.4       ,  67.        ,\n",
       "          5.        ,   1.        ],\n",
       "       [ 36.        , 118.        ,   8.        ,  72.        ,\n",
       "          5.        ,   2.        ],\n",
       "       [ 12.        , 149.        ,  12.6       ,  74.        ,\n",
       "          5.        ,   3.        ],\n",
       "       [ 18.        , 313.        ,  11.5       ,  62.        ,\n",
       "          5.        ,   4.        ],\n",
       "       [ 42.12931034, 185.93150685,  14.3       ,  56.        ,\n",
       "          5.        ,   5.        ],\n",
       "       [ 28.        , 185.93150685,  14.9       ,  66.        ,\n",
       "          5.        ,   6.        ],\n",
       "       [ 23.        , 299.        ,   8.6       ,  65.        ,\n",
       "          5.        ,   7.        ],\n",
       "       [ 19.        ,  99.        ,  13.8       ,  59.        ,\n",
       "          5.        ,   8.        ],\n",
       "       [  8.        ,  19.        ,  20.1       ,  61.        ,\n",
       "          5.        ,   9.        ],\n",
       "       [ 42.12931034, 194.        ,   8.6       ,  69.        ,\n",
       "          5.        ,  10.        ],\n",
       "       [  7.        , 185.93150685,   6.9       ,  74.        ,\n",
       "          5.        ,  11.        ],\n",
       "       [ 16.        , 256.        ,   9.7       ,  69.        ,\n",
       "          5.        ,  12.        ],\n",
       "       [ 11.        , 290.        ,   9.2       ,  66.        ,\n",
       "          5.        ,  13.        ],\n",
       "       [ 14.        , 274.        ,  10.9       ,  68.        ,\n",
       "          5.        ,  14.        ],\n",
       "       [ 18.        ,  65.        ,  13.2       ,  58.        ,\n",
       "          5.        ,  15.        ],\n",
       "       [ 14.        , 334.        ,  11.5       ,  64.        ,\n",
       "          5.        ,  16.        ],\n",
       "       [ 34.        , 307.        ,  12.        ,  66.        ,\n",
       "          5.        ,  17.        ],\n",
       "       [  6.        ,  78.        ,  18.4       ,  57.        ,\n",
       "          5.        ,  18.        ],\n",
       "       [ 30.        , 322.        ,  11.5       ,  68.        ,\n",
       "          5.        ,  19.        ],\n",
       "       [ 11.        ,  44.        ,   9.7       ,  62.        ,\n",
       "          5.        ,  20.        ],\n",
       "       [  1.        ,   8.        ,   9.7       ,  59.        ,\n",
       "          5.        ,  21.        ],\n",
       "       [ 11.        , 320.        ,  16.6       ,  73.        ,\n",
       "          5.        ,  22.        ],\n",
       "       [  4.        ,  25.        ,   9.7       ,  61.        ,\n",
       "          5.        ,  23.        ],\n",
       "       [ 32.        ,  92.        ,  12.        ,  61.        ,\n",
       "          5.        ,  24.        ],\n",
       "       [ 42.12931034,  66.        ,  16.6       ,  57.        ,\n",
       "          5.        ,  25.        ],\n",
       "       [ 42.12931034, 266.        ,  14.9       ,  58.        ,\n",
       "          5.        ,  26.        ],\n",
       "       [ 42.12931034, 185.93150685,   8.        ,  57.        ,\n",
       "          5.        ,  27.        ],\n",
       "       [ 23.        ,  13.        ,  12.        ,  67.        ,\n",
       "          5.        ,  28.        ],\n",
       "       [ 45.        , 252.        ,  14.9       ,  81.        ,\n",
       "          5.        ,  29.        ],\n",
       "       [115.        , 223.        ,   5.7       ,  79.        ,\n",
       "          5.        ,  30.        ],\n",
       "       [ 37.        , 279.        ,   7.4       ,  76.        ,\n",
       "          5.        ,  31.        ],\n",
       "       [ 42.12931034, 286.        ,   8.6       ,  78.        ,\n",
       "          6.        ,   1.        ],\n",
       "       [ 42.12931034, 287.        ,   9.7       ,  74.        ,\n",
       "          6.        ,   2.        ],\n",
       "       [ 42.12931034, 242.        ,  16.1       ,  67.        ,\n",
       "          6.        ,   3.        ],\n",
       "       [ 42.12931034, 186.        ,   9.2       ,  84.        ,\n",
       "          6.        ,   4.        ],\n",
       "       [ 42.12931034, 220.        ,   8.6       ,  85.        ,\n",
       "          6.        ,   5.        ],\n",
       "       [ 42.12931034, 264.        ,  14.3       ,  79.        ,\n",
       "          6.        ,   6.        ],\n",
       "       [ 29.        , 127.        ,   9.7       ,  82.        ,\n",
       "          6.        ,   7.        ],\n",
       "       [ 42.12931034, 273.        ,   6.9       ,  87.        ,\n",
       "          6.        ,   8.        ],\n",
       "       [ 71.        , 291.        ,  13.8       ,  90.        ,\n",
       "          6.        ,   9.        ],\n",
       "       [ 39.        , 323.        ,  11.5       ,  87.        ,\n",
       "          6.        ,  10.        ],\n",
       "       [ 42.12931034, 259.        ,  10.9       ,  93.        ,\n",
       "          6.        ,  11.        ],\n",
       "       [ 42.12931034, 250.        ,   9.2       ,  92.        ,\n",
       "          6.        ,  12.        ],\n",
       "       [ 23.        , 148.        ,   8.        ,  82.        ,\n",
       "          6.        ,  13.        ],\n",
       "       [ 42.12931034, 332.        ,  13.8       ,  80.        ,\n",
       "          6.        ,  14.        ],\n",
       "       [ 42.12931034, 322.        ,  11.5       ,  79.        ,\n",
       "          6.        ,  15.        ],\n",
       "       [ 21.        , 191.        ,  14.9       ,  77.        ,\n",
       "          6.        ,  16.        ],\n",
       "       [ 37.        , 284.        ,  20.7       ,  72.        ,\n",
       "          6.        ,  17.        ],\n",
       "       [ 20.        ,  37.        ,   9.2       ,  65.        ,\n",
       "          6.        ,  18.        ],\n",
       "       [ 12.        , 120.        ,  11.5       ,  73.        ,\n",
       "          6.        ,  19.        ],\n",
       "       [ 13.        , 137.        ,  10.3       ,  76.        ,\n",
       "          6.        ,  20.        ],\n",
       "       [ 42.12931034, 150.        ,   6.3       ,  77.        ,\n",
       "          6.        ,  21.        ],\n",
       "       [ 42.12931034,  59.        ,   1.7       ,  76.        ,\n",
       "          6.        ,  22.        ],\n",
       "       [ 42.12931034,  91.        ,   4.6       ,  76.        ,\n",
       "          6.        ,  23.        ],\n",
       "       [ 42.12931034, 250.        ,   6.3       ,  76.        ,\n",
       "          6.        ,  24.        ],\n",
       "       [ 42.12931034, 135.        ,   8.        ,  75.        ,\n",
       "          6.        ,  25.        ],\n",
       "       [ 42.12931034, 127.        ,   8.        ,  78.        ,\n",
       "          6.        ,  26.        ],\n",
       "       [ 42.12931034,  47.        ,  10.3       ,  73.        ,\n",
       "          6.        ,  27.        ],\n",
       "       [ 42.12931034,  98.        ,  11.5       ,  80.        ,\n",
       "          6.        ,  28.        ],\n",
       "       [ 42.12931034,  31.        ,  14.9       ,  77.        ,\n",
       "          6.        ,  29.        ],\n",
       "       [ 42.12931034, 138.        ,   8.        ,  83.        ,\n",
       "          6.        ,  30.        ],\n",
       "       [135.        , 269.        ,   4.1       ,  84.        ,\n",
       "          7.        ,   1.        ],\n",
       "       [ 49.        , 248.        ,   9.2       ,  85.        ,\n",
       "          7.        ,   2.        ],\n",
       "       [ 32.        , 236.        ,   9.2       ,  81.        ,\n",
       "          7.        ,   3.        ],\n",
       "       [ 42.12931034, 101.        ,  10.9       ,  84.        ,\n",
       "          7.        ,   4.        ],\n",
       "       [ 64.        , 175.        ,   4.6       ,  83.        ,\n",
       "          7.        ,   5.        ],\n",
       "       [ 40.        , 314.        ,  10.9       ,  83.        ,\n",
       "          7.        ,   6.        ],\n",
       "       [ 77.        , 276.        ,   5.1       ,  88.        ,\n",
       "          7.        ,   7.        ],\n",
       "       [ 97.        , 267.        ,   6.3       ,  92.        ,\n",
       "          7.        ,   8.        ],\n",
       "       [ 97.        , 272.        ,   5.7       ,  92.        ,\n",
       "          7.        ,   9.        ],\n",
       "       [ 85.        , 175.        ,   7.4       ,  89.        ,\n",
       "          7.        ,  10.        ],\n",
       "       [ 42.12931034, 139.        ,   8.6       ,  82.        ,\n",
       "          7.        ,  11.        ],\n",
       "       [ 10.        , 264.        ,  14.3       ,  73.        ,\n",
       "          7.        ,  12.        ],\n",
       "       [ 27.        , 175.        ,  14.9       ,  81.        ,\n",
       "          7.        ,  13.        ],\n",
       "       [ 42.12931034, 291.        ,  14.9       ,  91.        ,\n",
       "          7.        ,  14.        ],\n",
       "       [  7.        ,  48.        ,  14.3       ,  80.        ,\n",
       "          7.        ,  15.        ],\n",
       "       [ 48.        , 260.        ,   6.9       ,  81.        ,\n",
       "          7.        ,  16.        ],\n",
       "       [ 35.        , 274.        ,  10.3       ,  82.        ,\n",
       "          7.        ,  17.        ],\n",
       "       [ 61.        , 285.        ,   6.3       ,  84.        ,\n",
       "          7.        ,  18.        ],\n",
       "       [ 79.        , 187.        ,   5.1       ,  87.        ,\n",
       "          7.        ,  19.        ],\n",
       "       [ 63.        , 220.        ,  11.5       ,  85.        ,\n",
       "          7.        ,  20.        ],\n",
       "       [ 16.        ,   7.        ,   6.9       ,  74.        ,\n",
       "          7.        ,  21.        ],\n",
       "       [ 42.12931034, 258.        ,   9.7       ,  81.        ,\n",
       "          7.        ,  22.        ],\n",
       "       [ 42.12931034, 295.        ,  11.5       ,  82.        ,\n",
       "          7.        ,  23.        ],\n",
       "       [ 80.        , 294.        ,   8.6       ,  86.        ,\n",
       "          7.        ,  24.        ],\n",
       "       [108.        , 223.        ,   8.        ,  85.        ,\n",
       "          7.        ,  25.        ],\n",
       "       [ 20.        ,  81.        ,   8.6       ,  82.        ,\n",
       "          7.        ,  26.        ],\n",
       "       [ 52.        ,  82.        ,  12.        ,  86.        ,\n",
       "          7.        ,  27.        ],\n",
       "       [ 82.        , 213.        ,   7.4       ,  88.        ,\n",
       "          7.        ,  28.        ],\n",
       "       [ 50.        , 275.        ,   7.4       ,  86.        ,\n",
       "          7.        ,  29.        ],\n",
       "       [ 64.        , 253.        ,   7.4       ,  83.        ,\n",
       "          7.        ,  30.        ],\n",
       "       [ 59.        , 254.        ,   9.2       ,  81.        ,\n",
       "          7.        ,  31.        ],\n",
       "       [ 39.        ,  83.        ,   6.9       ,  81.        ,\n",
       "          8.        ,   1.        ],\n",
       "       [  9.        ,  24.        ,  13.8       ,  81.        ,\n",
       "          8.        ,   2.        ],\n",
       "       [ 16.        ,  77.        ,   7.4       ,  82.        ,\n",
       "          8.        ,   3.        ],\n",
       "       [ 78.        , 185.93150685,   6.9       ,  86.        ,\n",
       "          8.        ,   4.        ],\n",
       "       [ 35.        , 185.93150685,   7.4       ,  85.        ,\n",
       "          8.        ,   5.        ],\n",
       "       [ 66.        , 185.93150685,   4.6       ,  87.        ,\n",
       "          8.        ,   6.        ],\n",
       "       [122.        , 255.        ,   4.        ,  89.        ,\n",
       "          8.        ,   7.        ],\n",
       "       [ 89.        , 229.        ,  10.3       ,  90.        ,\n",
       "          8.        ,   8.        ],\n",
       "       [110.        , 207.        ,   8.        ,  90.        ,\n",
       "          8.        ,   9.        ],\n",
       "       [ 42.12931034, 222.        ,   8.6       ,  92.        ,\n",
       "          8.        ,  10.        ],\n",
       "       [ 42.12931034, 137.        ,  11.5       ,  86.        ,\n",
       "          8.        ,  11.        ],\n",
       "       [ 44.        , 192.        ,  11.5       ,  86.        ,\n",
       "          8.        ,  12.        ],\n",
       "       [ 28.        , 273.        ,  11.5       ,  82.        ,\n",
       "          8.        ,  13.        ],\n",
       "       [ 65.        , 157.        ,   9.7       ,  80.        ,\n",
       "          8.        ,  14.        ],\n",
       "       [ 42.12931034,  64.        ,  11.5       ,  79.        ,\n",
       "          8.        ,  15.        ],\n",
       "       [ 22.        ,  71.        ,  10.3       ,  77.        ,\n",
       "          8.        ,  16.        ],\n",
       "       [ 59.        ,  51.        ,   6.3       ,  79.        ,\n",
       "          8.        ,  17.        ],\n",
       "       [ 23.        , 115.        ,   7.4       ,  76.        ,\n",
       "          8.        ,  18.        ],\n",
       "       [ 31.        , 244.        ,  10.9       ,  78.        ,\n",
       "          8.        ,  19.        ],\n",
       "       [ 44.        , 190.        ,  10.3       ,  78.        ,\n",
       "          8.        ,  20.        ],\n",
       "       [ 21.        , 259.        ,  15.5       ,  77.        ,\n",
       "          8.        ,  21.        ],\n",
       "       [  9.        ,  36.        ,  14.3       ,  72.        ,\n",
       "          8.        ,  22.        ],\n",
       "       [ 42.12931034, 255.        ,  12.6       ,  75.        ,\n",
       "          8.        ,  23.        ],\n",
       "       [ 45.        , 212.        ,   9.7       ,  79.        ,\n",
       "          8.        ,  24.        ],\n",
       "       [168.        , 238.        ,   3.4       ,  81.        ,\n",
       "          8.        ,  25.        ],\n",
       "       [ 73.        , 215.        ,   8.        ,  86.        ,\n",
       "          8.        ,  26.        ],\n",
       "       [ 42.12931034, 153.        ,   5.7       ,  88.        ,\n",
       "          8.        ,  27.        ],\n",
       "       [ 76.        , 203.        ,   9.7       ,  97.        ,\n",
       "          8.        ,  28.        ],\n",
       "       [118.        , 225.        ,   2.3       ,  94.        ,\n",
       "          8.        ,  29.        ],\n",
       "       [ 84.        , 237.        ,   6.3       ,  96.        ,\n",
       "          8.        ,  30.        ],\n",
       "       [ 85.        , 188.        ,   6.3       ,  94.        ,\n",
       "          8.        ,  31.        ],\n",
       "       [ 96.        , 167.        ,   6.9       ,  91.        ,\n",
       "          9.        ,   1.        ],\n",
       "       [ 78.        , 197.        ,   5.1       ,  92.        ,\n",
       "          9.        ,   2.        ],\n",
       "       [ 73.        , 183.        ,   2.8       ,  93.        ,\n",
       "          9.        ,   3.        ],\n",
       "       [ 91.        , 189.        ,   4.6       ,  93.        ,\n",
       "          9.        ,   4.        ],\n",
       "       [ 47.        ,  95.        ,   7.4       ,  87.        ,\n",
       "          9.        ,   5.        ],\n",
       "       [ 32.        ,  92.        ,  15.5       ,  84.        ,\n",
       "          9.        ,   6.        ],\n",
       "       [ 20.        , 252.        ,  10.9       ,  80.        ,\n",
       "          9.        ,   7.        ],\n",
       "       [ 23.        , 220.        ,  10.3       ,  78.        ,\n",
       "          9.        ,   8.        ],\n",
       "       [ 21.        , 230.        ,  10.9       ,  75.        ,\n",
       "          9.        ,   9.        ],\n",
       "       [ 24.        , 259.        ,   9.7       ,  73.        ,\n",
       "          9.        ,  10.        ],\n",
       "       [ 44.        , 236.        ,  14.9       ,  81.        ,\n",
       "          9.        ,  11.        ],\n",
       "       [ 21.        , 259.        ,  15.5       ,  76.        ,\n",
       "          9.        ,  12.        ],\n",
       "       [ 28.        , 238.        ,   6.3       ,  77.        ,\n",
       "          9.        ,  13.        ],\n",
       "       [  9.        ,  24.        ,  10.9       ,  71.        ,\n",
       "          9.        ,  14.        ],\n",
       "       [ 13.        , 112.        ,  11.5       ,  71.        ,\n",
       "          9.        ,  15.        ],\n",
       "       [ 46.        , 237.        ,   6.9       ,  78.        ,\n",
       "          9.        ,  16.        ],\n",
       "       [ 18.        , 224.        ,  13.8       ,  67.        ,\n",
       "          9.        ,  17.        ],\n",
       "       [ 13.        ,  27.        ,  10.3       ,  76.        ,\n",
       "          9.        ,  18.        ],\n",
       "       [ 24.        , 238.        ,  10.3       ,  68.        ,\n",
       "          9.        ,  19.        ],\n",
       "       [ 16.        , 201.        ,   8.        ,  82.        ,\n",
       "          9.        ,  20.        ],\n",
       "       [ 13.        , 238.        ,  12.6       ,  64.        ,\n",
       "          9.        ,  21.        ],\n",
       "       [ 23.        ,  14.        ,   9.2       ,  71.        ,\n",
       "          9.        ,  22.        ],\n",
       "       [ 36.        , 139.        ,  10.3       ,  81.        ,\n",
       "          9.        ,  23.        ],\n",
       "       [  7.        ,  49.        ,  10.3       ,  69.        ,\n",
       "          9.        ,  24.        ],\n",
       "       [ 14.        ,  20.        ,  16.6       ,  63.        ,\n",
       "          9.        ,  25.        ],\n",
       "       [ 30.        , 193.        ,   6.9       ,  70.        ,\n",
       "          9.        ,  26.        ],\n",
       "       [ 42.12931034, 145.        ,  13.2       ,  77.        ,\n",
       "          9.        ,  27.        ],\n",
       "       [ 14.        , 191.        ,  14.3       ,  75.        ,\n",
       "          9.        ,  28.        ],\n",
       "       [ 18.        , 131.        ,   8.        ,  76.        ,\n",
       "          9.        ,  29.        ],\n",
       "       [ 20.        , 223.        ,  11.5       ,  68.        ,\n",
       "          9.        ,   3.        ]])"
      ]
     },
     "execution_count": 9,
     "metadata": {},
     "output_type": "execute_result"
    }
   ],
   "source": [
    "airdata"
   ]
  },
  {
   "cell_type": "code",
   "execution_count": 10,
   "metadata": {},
   "outputs": [
    {
     "data": {
      "text/plain": [
       "0    0\n",
       "1    0\n",
       "2    0\n",
       "3    0\n",
       "4    0\n",
       "5    0\n",
       "dtype: int64"
      ]
     },
     "execution_count": 10,
     "metadata": {},
     "output_type": "execute_result"
    }
   ],
   "source": [
    "airframe = pd.DataFrame(airdata)\n",
    "airframe.isnull().sum()"
   ]
  },
  {
   "cell_type": "code",
   "execution_count": 11,
   "metadata": {},
   "outputs": [
    {
     "data": {
      "text/html": [
       "<div>\n",
       "<style scoped>\n",
       "    .dataframe tbody tr th:only-of-type {\n",
       "        vertical-align: middle;\n",
       "    }\n",
       "\n",
       "    .dataframe tbody tr th {\n",
       "        vertical-align: top;\n",
       "    }\n",
       "\n",
       "    .dataframe thead th {\n",
       "        text-align: right;\n",
       "    }\n",
       "</style>\n",
       "<table border=\"1\" class=\"dataframe\">\n",
       "  <thead>\n",
       "    <tr style=\"text-align: right;\">\n",
       "      <th></th>\n",
       "      <th>0</th>\n",
       "      <th>1</th>\n",
       "      <th>2</th>\n",
       "      <th>3</th>\n",
       "      <th>4</th>\n",
       "      <th>5</th>\n",
       "    </tr>\n",
       "  </thead>\n",
       "  <tbody>\n",
       "    <tr>\n",
       "      <th>0</th>\n",
       "      <td>41.00000</td>\n",
       "      <td>190.000000</td>\n",
       "      <td>7.4</td>\n",
       "      <td>67.0</td>\n",
       "      <td>5.0</td>\n",
       "      <td>1.0</td>\n",
       "    </tr>\n",
       "    <tr>\n",
       "      <th>1</th>\n",
       "      <td>36.00000</td>\n",
       "      <td>118.000000</td>\n",
       "      <td>8.0</td>\n",
       "      <td>72.0</td>\n",
       "      <td>5.0</td>\n",
       "      <td>2.0</td>\n",
       "    </tr>\n",
       "    <tr>\n",
       "      <th>2</th>\n",
       "      <td>12.00000</td>\n",
       "      <td>149.000000</td>\n",
       "      <td>12.6</td>\n",
       "      <td>74.0</td>\n",
       "      <td>5.0</td>\n",
       "      <td>3.0</td>\n",
       "    </tr>\n",
       "    <tr>\n",
       "      <th>3</th>\n",
       "      <td>18.00000</td>\n",
       "      <td>313.000000</td>\n",
       "      <td>11.5</td>\n",
       "      <td>62.0</td>\n",
       "      <td>5.0</td>\n",
       "      <td>4.0</td>\n",
       "    </tr>\n",
       "    <tr>\n",
       "      <th>4</th>\n",
       "      <td>42.12931</td>\n",
       "      <td>185.931507</td>\n",
       "      <td>14.3</td>\n",
       "      <td>56.0</td>\n",
       "      <td>5.0</td>\n",
       "      <td>5.0</td>\n",
       "    </tr>\n",
       "    <tr>\n",
       "      <th>...</th>\n",
       "      <td>...</td>\n",
       "      <td>...</td>\n",
       "      <td>...</td>\n",
       "      <td>...</td>\n",
       "      <td>...</td>\n",
       "      <td>...</td>\n",
       "    </tr>\n",
       "    <tr>\n",
       "      <th>148</th>\n",
       "      <td>30.00000</td>\n",
       "      <td>193.000000</td>\n",
       "      <td>6.9</td>\n",
       "      <td>70.0</td>\n",
       "      <td>9.0</td>\n",
       "      <td>26.0</td>\n",
       "    </tr>\n",
       "    <tr>\n",
       "      <th>149</th>\n",
       "      <td>42.12931</td>\n",
       "      <td>145.000000</td>\n",
       "      <td>13.2</td>\n",
       "      <td>77.0</td>\n",
       "      <td>9.0</td>\n",
       "      <td>27.0</td>\n",
       "    </tr>\n",
       "    <tr>\n",
       "      <th>150</th>\n",
       "      <td>14.00000</td>\n",
       "      <td>191.000000</td>\n",
       "      <td>14.3</td>\n",
       "      <td>75.0</td>\n",
       "      <td>9.0</td>\n",
       "      <td>28.0</td>\n",
       "    </tr>\n",
       "    <tr>\n",
       "      <th>151</th>\n",
       "      <td>18.00000</td>\n",
       "      <td>131.000000</td>\n",
       "      <td>8.0</td>\n",
       "      <td>76.0</td>\n",
       "      <td>9.0</td>\n",
       "      <td>29.0</td>\n",
       "    </tr>\n",
       "    <tr>\n",
       "      <th>152</th>\n",
       "      <td>20.00000</td>\n",
       "      <td>223.000000</td>\n",
       "      <td>11.5</td>\n",
       "      <td>68.0</td>\n",
       "      <td>9.0</td>\n",
       "      <td>3.0</td>\n",
       "    </tr>\n",
       "  </tbody>\n",
       "</table>\n",
       "<p>153 rows × 6 columns</p>\n",
       "</div>"
      ],
      "text/plain": [
       "            0           1     2     3    4     5\n",
       "0    41.00000  190.000000   7.4  67.0  5.0   1.0\n",
       "1    36.00000  118.000000   8.0  72.0  5.0   2.0\n",
       "2    12.00000  149.000000  12.6  74.0  5.0   3.0\n",
       "3    18.00000  313.000000  11.5  62.0  5.0   4.0\n",
       "4    42.12931  185.931507  14.3  56.0  5.0   5.0\n",
       "..        ...         ...   ...   ...  ...   ...\n",
       "148  30.00000  193.000000   6.9  70.0  9.0  26.0\n",
       "149  42.12931  145.000000  13.2  77.0  9.0  27.0\n",
       "150  14.00000  191.000000  14.3  75.0  9.0  28.0\n",
       "151  18.00000  131.000000   8.0  76.0  9.0  29.0\n",
       "152  20.00000  223.000000  11.5  68.0  9.0   3.0\n",
       "\n",
       "[153 rows x 6 columns]"
      ]
     },
     "execution_count": 11,
     "metadata": {},
     "output_type": "execute_result"
    }
   ],
   "source": [
    "airframe"
   ]
  },
  {
   "cell_type": "code",
   "execution_count": 12,
   "metadata": {},
   "outputs": [],
   "source": [
    "features=airframe.iloc[:,1:]\n",
    "labels=airframe.iloc[:,0]"
   ]
  },
  {
   "cell_type": "code",
   "execution_count": 20,
   "metadata": {},
   "outputs": [
    {
     "data": {
      "text/html": [
       "<div>\n",
       "<style scoped>\n",
       "    .dataframe tbody tr th:only-of-type {\n",
       "        vertical-align: middle;\n",
       "    }\n",
       "\n",
       "    .dataframe tbody tr th {\n",
       "        vertical-align: top;\n",
       "    }\n",
       "\n",
       "    .dataframe thead th {\n",
       "        text-align: right;\n",
       "    }\n",
       "</style>\n",
       "<table border=\"1\" class=\"dataframe\">\n",
       "  <thead>\n",
       "    <tr style=\"text-align: right;\">\n",
       "      <th></th>\n",
       "      <th>Solar.R</th>\n",
       "      <th>Wind</th>\n",
       "      <th>Temp</th>\n",
       "      <th>Month</th>\n",
       "      <th>Day</th>\n",
       "    </tr>\n",
       "  </thead>\n",
       "  <tbody>\n",
       "    <tr>\n",
       "      <th>0</th>\n",
       "      <td>190.000000</td>\n",
       "      <td>7.4</td>\n",
       "      <td>67.0</td>\n",
       "      <td>5.0</td>\n",
       "      <td>1.0</td>\n",
       "    </tr>\n",
       "    <tr>\n",
       "      <th>1</th>\n",
       "      <td>118.000000</td>\n",
       "      <td>8.0</td>\n",
       "      <td>72.0</td>\n",
       "      <td>5.0</td>\n",
       "      <td>2.0</td>\n",
       "    </tr>\n",
       "    <tr>\n",
       "      <th>2</th>\n",
       "      <td>149.000000</td>\n",
       "      <td>12.6</td>\n",
       "      <td>74.0</td>\n",
       "      <td>5.0</td>\n",
       "      <td>3.0</td>\n",
       "    </tr>\n",
       "    <tr>\n",
       "      <th>3</th>\n",
       "      <td>313.000000</td>\n",
       "      <td>11.5</td>\n",
       "      <td>62.0</td>\n",
       "      <td>5.0</td>\n",
       "      <td>4.0</td>\n",
       "    </tr>\n",
       "    <tr>\n",
       "      <th>4</th>\n",
       "      <td>185.931507</td>\n",
       "      <td>14.3</td>\n",
       "      <td>56.0</td>\n",
       "      <td>5.0</td>\n",
       "      <td>5.0</td>\n",
       "    </tr>\n",
       "    <tr>\n",
       "      <th>...</th>\n",
       "      <td>...</td>\n",
       "      <td>...</td>\n",
       "      <td>...</td>\n",
       "      <td>...</td>\n",
       "      <td>...</td>\n",
       "    </tr>\n",
       "    <tr>\n",
       "      <th>148</th>\n",
       "      <td>193.000000</td>\n",
       "      <td>6.9</td>\n",
       "      <td>70.0</td>\n",
       "      <td>9.0</td>\n",
       "      <td>26.0</td>\n",
       "    </tr>\n",
       "    <tr>\n",
       "      <th>149</th>\n",
       "      <td>145.000000</td>\n",
       "      <td>13.2</td>\n",
       "      <td>77.0</td>\n",
       "      <td>9.0</td>\n",
       "      <td>27.0</td>\n",
       "    </tr>\n",
       "    <tr>\n",
       "      <th>150</th>\n",
       "      <td>191.000000</td>\n",
       "      <td>14.3</td>\n",
       "      <td>75.0</td>\n",
       "      <td>9.0</td>\n",
       "      <td>28.0</td>\n",
       "    </tr>\n",
       "    <tr>\n",
       "      <th>151</th>\n",
       "      <td>131.000000</td>\n",
       "      <td>8.0</td>\n",
       "      <td>76.0</td>\n",
       "      <td>9.0</td>\n",
       "      <td>29.0</td>\n",
       "    </tr>\n",
       "    <tr>\n",
       "      <th>152</th>\n",
       "      <td>223.000000</td>\n",
       "      <td>11.5</td>\n",
       "      <td>68.0</td>\n",
       "      <td>9.0</td>\n",
       "      <td>3.0</td>\n",
       "    </tr>\n",
       "  </tbody>\n",
       "</table>\n",
       "<p>153 rows × 5 columns</p>\n",
       "</div>"
      ],
      "text/plain": [
       "        Solar.R  Wind  Temp  Month   Day\n",
       "0    190.000000   7.4  67.0    5.0   1.0\n",
       "1    118.000000   8.0  72.0    5.0   2.0\n",
       "2    149.000000  12.6  74.0    5.0   3.0\n",
       "3    313.000000  11.5  62.0    5.0   4.0\n",
       "4    185.931507  14.3  56.0    5.0   5.0\n",
       "..          ...   ...   ...    ...   ...\n",
       "148  193.000000   6.9  70.0    9.0  26.0\n",
       "149  145.000000  13.2  77.0    9.0  27.0\n",
       "150  191.000000  14.3  75.0    9.0  28.0\n",
       "151  131.000000   8.0  76.0    9.0  29.0\n",
       "152  223.000000  11.5  68.0    9.0   3.0\n",
       "\n",
       "[153 rows x 5 columns]"
      ]
     },
     "execution_count": 20,
     "metadata": {},
     "output_type": "execute_result"
    }
   ],
   "source": [
    "airframe.columns=['Ozone','Solar.R', 'Wind', 'Temp', 'Month', 'Day']\n",
    "features.columns=['Solar.R', 'Wind', 'Temp', 'Month', 'Day']\n",
    "features"
   ]
  },
  {
   "cell_type": "code",
   "execution_count": 21,
   "metadata": {
    "scrolled": true
   },
   "outputs": [
    {
     "data": {
      "text/plain": [
       "0      41.00000\n",
       "1      36.00000\n",
       "2      12.00000\n",
       "3      18.00000\n",
       "4      42.12931\n",
       "         ...   \n",
       "148    30.00000\n",
       "149    42.12931\n",
       "150    14.00000\n",
       "151    18.00000\n",
       "152    20.00000\n",
       "Name: 0, Length: 153, dtype: float64"
      ]
     },
     "execution_count": 21,
     "metadata": {},
     "output_type": "execute_result"
    }
   ],
   "source": [
    "labels.columns=['Ozone']\n",
    "labels"
   ]
  },
  {
   "cell_type": "code",
   "execution_count": 22,
   "metadata": {},
   "outputs": [
    {
     "data": {
      "text/plain": [
       "Ozone      0\n",
       "Solar.R    0\n",
       "Wind       0\n",
       "Temp       0\n",
       "Month      0\n",
       "Day        0\n",
       "dtype: int64"
      ]
     },
     "execution_count": 22,
     "metadata": {},
     "output_type": "execute_result"
    }
   ],
   "source": [
    "airframe.isnull().sum()"
   ]
  },
  {
   "cell_type": "code",
   "execution_count": 24,
   "metadata": {},
   "outputs": [
    {
     "data": {
      "text/plain": [
       "<matplotlib.axes._subplots.AxesSubplot at 0x1b89b585988>"
      ]
     },
     "execution_count": 24,
     "metadata": {},
     "output_type": "execute_result"
    },
    {
     "data": {
      "image/png": "[encoded data removed]",
      "text/plain": [
       "<Figure size 432x288 with 1 Axes>"
      ]
     },
     "metadata": {
      "needs_background": "light"
     },
     "output_type": "display_data"
    }
   ],
   "source": [
    "import seaborn as sns\n",
    "sns.boxplot(x=airframe['Ozone'])"
   ]
  },
  {
   "cell_type": "code",
   "execution_count": 26,
   "metadata": {},
   "outputs": [
    {
     "data": {
      "text/plain": [
       "<matplotlib.axes._subplots.AxesSubplot at 0x1b89b60db48>"
      ]
     },
     "execution_count": 26,
     "metadata": {},
     "output_type": "execute_result"
    },
    {
     "data": {
      "image/png": "[encoded data removed]",
      "text/plain": [
       "<Figure size 432x288 with 1 Axes>"
      ]
     },
     "metadata": {
      "needs_background": "light"
     },
     "output_type": "display_data"
    }
   ],
   "source": [
    "sns.boxplot(x=airframe['Solar.R'])"
   ]
  },
  {
   "cell_type": "code",
   "execution_count": 28,
   "metadata": {},
   "outputs": [
    {
     "data": {
      "text/plain": [
       "<matplotlib.axes._subplots.AxesSubplot at 0x1b89b6c4e48>"
      ]
     },
     "execution_count": 28,
     "metadata": {},
     "output_type": "execute_result"
    },
    {
     "data": {
      "image/png": "[encoded data removed]",
      "text/plain": [
       "<Figure size 432x288 with 1 Axes>"
      ]
     },
     "metadata": {
      "needs_background": "light"
     },
     "output_type": "display_data"
    }
   ],
   "source": [
    "sns.boxplot(x=airframe['Wind'])"
   ]
  },
  {
   "cell_type": "code",
   "execution_count": 29,
   "metadata": {},
   "outputs": [
    {
     "data": {
      "text/plain": [
       "<matplotlib.axes._subplots.AxesSubplot at 0x1b89b725208>"
      ]
     },
     "execution_count": 29,
     "metadata": {},
     "output_type": "execute_result"
    },
    {
     "data": {
      "image/png": "[encoded data removed]",
      "text/plain": [
       "<Figure size 432x288 with 1 Axes>"
      ]
     },
     "metadata": {
      "needs_background": "light"
     },
     "output_type": "display_data"
    }
   ],
   "source": [
    "sns.boxplot(x=airframe['Temp'])"
   ]
  },
  {
   "cell_type": "code",
   "execution_count": 31,
   "metadata": {},
   "outputs": [
    {
     "data": {
      "image/png": "[encoded data removed]",
      "text/plain": [
       "<Figure size 1152x576 with 1 Axes>"
      ]
     },
     "metadata": {
      "needs_background": "light"
     },
     "output_type": "display_data"
    }
   ],
   "source": [
    "#seond group - 2 students---- Ozone & Temperature\n",
    "fig, ax = plt.subplots(figsize=(16,8))\n",
    "ax.scatter(airframe['Temp'],airframe['Ozone'])\n",
    "ax.set_xlabel('Temparature')\n",
    "ax.set_ylabel('Ozone')\n",
    "plt.show()"
   ]
  },
  {
   "cell_type": "code",
   "execution_count": 32,
   "metadata": {},
   "outputs": [
    {
     "data": {
      "text/plain": [
       "array([[3.94871361e-02, 4.64056617e-02, 7.28332230e-01, 1.15348973e+00,\n",
       "        1.41191599e+00, 1.65847407e+00],\n",
       "       [2.14315677e-01, 7.74833927e-01, 5.57463590e-01, 6.23507964e-01,\n",
       "        1.41191599e+00, 1.54509314e+00],\n",
       "       [1.05349268e+00, 4.21244659e-01, 7.52529314e-01, 4.11515256e-01,\n",
       "        1.41191599e+00, 1.43171220e+00],\n",
       "       [8.43698426e-01, 1.44935663e+00, 4.39270141e-01, 1.68347150e+00,\n",
       "        1.41191599e+00, 1.31833127e+00],\n",
       "       [0.00000000e+00, 0.00000000e+00, 1.23665713e+00, 2.31944963e+00,\n",
       "        1.41191599e+00, 1.20495033e+00],\n",
       "       [4.94041344e-01, 0.00000000e+00, 1.40752577e+00, 1.25948609e+00,\n",
       "        1.41191599e+00, 1.09156940e+00],\n",
       "       [6.68869885e-01, 1.28967115e+00, 3.86594951e-01, 1.36548244e+00,\n",
       "        1.41191599e+00, 9.78188462e-01],\n",
       "       [8.08732718e-01, 9.91549929e-01, 1.09426659e+00, 2.00146056e+00,\n",
       "        1.41191599e+00, 8.64807526e-01],\n",
       "       [1.19335551e+00, 1.90403836e+00, 2.88838731e+00, 1.78946786e+00,\n",
       "        1.41191599e+00, 7.51426591e-01],\n",
       "       [0.00000000e+00, 9.20300832e-02, 3.86594951e-01, 9.41497026e-01,\n",
       "        1.41191599e+00, 6.38045656e-01],\n",
       "       [1.22832122e+00, 0.00000000e+00, 8.70722763e-01, 4.11515256e-01,\n",
       "        1.41191599e+00, 5.24664720e-01],\n",
       "       [9.13629843e-01, 7.99208618e-01, 7.33357778e-02, 9.41497026e-01,\n",
       "        1.41191599e+00, 4.11283785e-01],\n",
       "       [1.08845838e+00, 1.18701620e+00, 2.15726311e-01, 1.25948609e+00,\n",
       "        1.41191599e+00, 2.97902850e-01],\n",
       "       [9.83561259e-01, 1.00451851e+00, 2.68401502e-01, 1.04749338e+00,\n",
       "        1.41191599e+00, 1.84521914e-01],\n",
       "       [8.43698426e-01, 1.37935751e+00, 9.23397954e-01, 2.10745692e+00,\n",
       "        1.41191599e+00, 7.11409790e-02],\n",
       "       [9.83561259e-01, 1.68888484e+00, 4.39270141e-01, 1.47147880e+00,\n",
       "        1.41191599e+00, 4.22399563e-02],\n",
       "       [2.84247094e-01, 1.38091999e+00, 5.81660674e-01, 1.25948609e+00,\n",
       "        1.41191599e+00, 1.55620892e-01],\n",
       "       [1.26328693e+00, 1.23107814e+00, 2.40425950e+00, 2.21345327e+00,\n",
       "        1.41191599e+00, 2.69001827e-01],\n",
       "       [4.24109927e-01, 1.55201157e+00, 4.39270141e-01, 1.04749338e+00,\n",
       "        1.41191599e+00, 3.82382762e-01],\n",
       "       [1.08845838e+00, 1.61888573e+00, 7.33357778e-02, 1.68347150e+00,\n",
       "        1.41191599e+00, 4.95763698e-01],\n",
       "       [1.43811547e+00, 2.02950552e+00, 7.33357778e-02, 2.00146056e+00,\n",
       "        1.41191599e+00, 6.09144633e-01],\n",
       "       [1.08845838e+00, 1.52919936e+00, 1.89165358e+00, 5.17511610e-01,\n",
       "        1.41191599e+00, 7.22525568e-01],\n",
       "       [1.33321834e+00, 1.83560173e+00, 7.33357778e-02, 1.78946786e+00,\n",
       "        1.41191599e+00, 8.35906504e-01],\n",
       "       [3.54178510e-01, 1.07139267e+00, 5.81660674e-01, 1.78946786e+00,\n",
       "        1.41191599e+00, 9.49287439e-01],\n",
       "       [0.00000000e+00, 1.36795141e+00, 1.89165358e+00, 2.21345327e+00,\n",
       "        1.41191599e+00, 1.06266837e+00],\n",
       "       [0.00000000e+00, 9.13269672e-01, 1.40752577e+00, 2.10745692e+00,\n",
       "        1.41191599e+00, 1.17604931e+00],\n",
       "       [0.00000000e+00, 0.00000000e+00, 5.57463590e-01, 2.21345327e+00,\n",
       "        1.41191599e+00, 1.28943024e+00],\n",
       "       [6.68869885e-01, 1.97247499e+00, 5.81660674e-01, 1.15348973e+00,\n",
       "        1.41191599e+00, 1.40281118e+00],\n",
       "       [1.00375697e-01, 7.53584196e-01, 1.40752577e+00, 3.30459221e-01,\n",
       "        1.41191599e+00, 1.51619212e+00],\n",
       "       [2.54797528e+00, 4.22807140e-01, 1.21246004e+00, 1.18466513e-01,\n",
       "        1.41191599e+00, 1.62957305e+00],\n",
       "       [1.79349969e-01, 1.06154904e+00, 7.28332230e-01, 1.99522548e-01,\n",
       "        1.41191599e+00, 1.74295399e+00],\n",
       "       [0.00000000e+00, 1.14139178e+00, 3.86594951e-01, 1.24701593e-02,\n",
       "        7.03643380e-01, 1.65847407e+00],\n",
       "       [0.00000000e+00, 1.15279788e+00, 7.33357778e-02, 4.11515256e-01,\n",
       "        7.03643380e-01, 1.54509314e+00],\n",
       "       [0.00000000e+00, 6.39523142e-01, 1.74926305e+00, 1.15348973e+00,\n",
       "        7.03643380e-01, 1.43171220e+00],\n",
       "       [0.00000000e+00, 7.81240095e-04, 2.15726311e-01, 6.48448283e-01,\n",
       "        7.03643380e-01, 1.31833127e+00],\n",
       "       [0.00000000e+00, 3.88588823e-01, 3.86594951e-01, 7.54444636e-01,\n",
       "        7.03643380e-01, 1.20495033e+00],\n",
       "       [0.00000000e+00, 8.90457461e-01, 1.23665713e+00, 1.18466513e-01,\n",
       "        7.03643380e-01, 1.09156940e+00],\n",
       "       [4.59075635e-01, 6.72178978e-01, 7.33357778e-02, 4.36455575e-01,\n",
       "        7.03643380e-01, 9.78188462e-01],\n",
       "       [0.00000000e+00, 9.93112409e-01, 8.70722763e-01, 9.66437344e-01,\n",
       "        7.03643380e-01, 8.64807526e-01],\n",
       "       [1.00948411e+00, 1.19842231e+00, 1.09426659e+00, 1.28442641e+00,\n",
       "        7.03643380e-01, 7.51426591e-01],\n",
       "       [1.09418553e-01, 1.56341768e+00, 4.39270141e-01, 9.66437344e-01,\n",
       "        7.03643380e-01, 6.38045656e-01],\n",
       "       [0.00000000e+00, 8.33426934e-01, 2.68401502e-01, 1.60241547e+00,\n",
       "        7.03643380e-01, 5.24664720e-01],\n",
       "       [0.00000000e+00, 7.30771985e-01, 2.15726311e-01, 1.49641911e+00,\n",
       "        7.03643380e-01, 4.11283785e-01],\n",
       "       [6.68869885e-01, 4.32650765e-01, 5.57463590e-01, 4.36455575e-01,\n",
       "        7.03643380e-01, 2.97902850e-01],\n",
       "       [0.00000000e+00, 1.66607263e+00, 1.09426659e+00, 2.24462867e-01,\n",
       "        7.03643380e-01, 1.84521914e-01],\n",
       "       [0.00000000e+00, 1.55201157e+00, 4.39270141e-01, 1.18466513e-01,\n",
       "        7.03643380e-01, 7.11409790e-02],\n",
       "       [7.38801301e-01, 5.78117671e-02, 1.40752577e+00, 9.35261946e-02,\n",
       "        7.03643380e-01, 4.22399563e-02],\n",
       "       [1.79349969e-01, 1.11857957e+00, 3.05925595e+00, 6.23507964e-01,\n",
       "        7.03643380e-01, 1.55620892e-01],\n",
       "       [7.73767010e-01, 1.69872846e+00, 2.15726311e-01, 1.36548244e+00,\n",
       "        7.03643380e-01, 2.69001827e-01],\n",
       "       [1.05349268e+00, 7.52021716e-01, 4.39270141e-01, 5.17511610e-01,\n",
       "        7.03643380e-01, 3.82382762e-01],\n",
       "       [1.01852697e+00, 5.58117924e-01, 9.75328619e-02, 1.99522548e-01,\n",
       "        7.03643380e-01, 4.95763698e-01],\n",
       "       [0.00000000e+00, 4.09838554e-01, 1.04159140e+00, 9.35261946e-02,\n",
       "        7.03643380e-01, 6.09144633e-01],\n",
       "       [0.00000000e+00, 1.44779414e+00, 2.35158431e+00, 1.99522548e-01,\n",
       "        7.03643380e-01, 7.22525568e-01],\n",
       "       [0.00000000e+00, 1.08279877e+00, 1.52571922e+00, 1.99522548e-01,\n",
       "        7.03643380e-01, 8.35906504e-01],\n",
       "       [0.00000000e+00, 7.30771985e-01, 1.04159140e+00, 1.99522548e-01,\n",
       "        7.03643380e-01, 9.49287439e-01],\n",
       "       [0.00000000e+00, 5.80930135e-01, 5.57463590e-01, 3.05518902e-01,\n",
       "        7.03643380e-01, 1.06266837e+00],\n",
       "       [0.00000000e+00, 6.72178978e-01, 5.57463590e-01, 1.24701593e-02,\n",
       "        7.03643380e-01, 1.17604931e+00],\n",
       "       [0.00000000e+00, 1.58466741e+00, 9.75328619e-02, 5.17511610e-01,\n",
       "        7.03643380e-01, 1.28943024e+00],\n",
       "       [0.00000000e+00, 1.00295603e+00, 4.39270141e-01, 2.24462867e-01,\n",
       "        7.03643380e-01, 1.40281118e+00],\n",
       "       [0.00000000e+00, 1.76716510e+00, 1.40752577e+00, 9.35261946e-02,\n",
       "        7.03643380e-01, 1.51619212e+00],\n",
       "       [0.00000000e+00, 5.46711819e-01, 5.57463590e-01, 5.42451929e-01,\n",
       "        7.03643380e-01, 1.62957305e+00],\n",
       "       [3.24728944e+00, 9.47487988e-01, 1.66810975e+00, 6.48448283e-01,\n",
       "        4.62923276e-03, 1.65847407e+00],\n",
       "       [2.40238530e-01, 7.07959774e-01, 2.15726311e-01, 7.54444636e-01,\n",
       "        4.62923276e-03, 1.54509314e+00],\n",
       "       [3.54178510e-01, 5.71086510e-01, 2.15726311e-01, 3.30459221e-01,\n",
       "        4.62923276e-03, 1.43171220e+00],\n",
       "       [0.00000000e+00, 9.68737718e-01, 2.68401502e-01, 6.48448283e-01,\n",
       "        4.62923276e-03, 1.31833127e+00],\n",
       "       [7.64724154e-01, 1.24685919e-01, 1.52571922e+00, 5.42451929e-01,\n",
       "        4.62923276e-03, 1.20495033e+00],\n",
       "       [7.44528443e-02, 1.46076273e+00, 2.68401502e-01, 5.42451929e-01,\n",
       "        4.62923276e-03, 1.09156940e+00],\n",
       "       [1.21927836e+00, 1.02733073e+00, 1.38332868e+00, 1.07243370e+00,\n",
       "        4.62923276e-03, 9.78188462e-01],\n",
       "       [1.91859253e+00, 9.24675777e-01, 1.04159140e+00, 1.49641911e+00,\n",
       "        4.62923276e-03, 8.64807526e-01],\n",
       "       [1.91859253e+00, 9.81706304e-01, 1.21246004e+00, 1.49641911e+00,\n",
       "        4.62923276e-03, 7.51426591e-01],\n",
       "       [1.49900403e+00, 1.24685919e-01, 7.28332230e-01, 1.17843005e+00,\n",
       "        4.62923276e-03, 6.38045656e-01],\n",
       "       [0.00000000e+00, 5.35305713e-01, 3.86594951e-01, 4.36455575e-01,\n",
       "        4.62923276e-03, 5.24664720e-01],\n",
       "       [1.12342409e+00, 8.90457461e-01, 1.23665713e+00, 5.17511610e-01,\n",
       "        4.62923276e-03, 4.11283785e-01],\n",
       "       [5.29007052e-01, 1.24685919e-01, 1.40752577e+00, 3.30459221e-01,\n",
       "        4.62923276e-03, 2.97902850e-01],\n",
       "       [0.00000000e+00, 1.19842231e+00, 1.40752577e+00, 1.39042276e+00,\n",
       "        4.62923276e-03, 1.84521914e-01],\n",
       "       [1.22832122e+00, 1.57326130e+00, 1.23665713e+00, 2.24462867e-01,\n",
       "        4.62923276e-03, 7.11409790e-02],\n",
       "       [2.05272822e-01, 8.44833039e-01, 8.70722763e-01, 3.30459221e-01,\n",
       "        4.62923276e-03, 4.22399563e-02],\n",
       "       [2.49281386e-01, 1.00451851e+00, 9.75328619e-02, 4.36455575e-01,\n",
       "        4.62923276e-03, 1.55620892e-01],\n",
       "       [6.59827029e-01, 1.12998567e+00, 1.04159140e+00, 6.48448283e-01,\n",
       "        4.62923276e-03, 2.69001827e-01],\n",
       "       [1.28920978e+00, 1.21873455e-02, 1.38332868e+00, 9.66437344e-01,\n",
       "        4.62923276e-03, 3.82382762e-01],\n",
       "       [7.29758446e-01, 3.88588823e-01, 4.39270141e-01, 7.54444636e-01,\n",
       "        4.62923276e-03, 4.95763698e-01],\n",
       "       [9.13629843e-01, 2.04091163e+00, 8.70722763e-01, 4.11515256e-01,\n",
       "        4.62923276e-03, 6.09144633e-01],\n",
       "       [0.00000000e+00, 8.22020828e-01, 7.33357778e-02, 3.30459221e-01,\n",
       "        4.62923276e-03, 7.22525568e-01],\n",
       "       [0.00000000e+00, 1.24404673e+00, 4.39270141e-01, 4.36455575e-01,\n",
       "        4.62923276e-03, 8.35906504e-01],\n",
       "       [1.32417549e+00, 1.23264062e+00, 3.86594951e-01, 8.60440990e-01,\n",
       "        4.62923276e-03, 9.49287439e-01],\n",
       "       [2.30321532e+00, 4.22807140e-01, 5.57463590e-01, 7.54444636e-01,\n",
       "        4.62923276e-03, 1.06266837e+00],\n",
       "       [7.73767010e-01, 1.19685983e+00, 3.86594951e-01, 4.36455575e-01,\n",
       "        4.62923276e-03, 1.17604931e+00],\n",
       "       [3.45135655e-01, 1.18545372e+00, 5.81660674e-01, 8.60440990e-01,\n",
       "        4.62923276e-03, 1.28943024e+00],\n",
       "       [1.39410690e+00, 3.08746086e-01, 7.28332230e-01, 1.07243370e+00,\n",
       "        4.62923276e-03, 1.40281118e+00],\n",
       "       [2.75204238e-01, 1.01592462e+00, 7.28332230e-01, 8.60440990e-01,\n",
       "        4.62923276e-03, 1.51619212e+00],\n",
       "       [7.64724154e-01, 7.64990301e-01, 7.28332230e-01, 5.42451929e-01,\n",
       "        4.62923276e-03, 1.62957305e+00],\n",
       "       [5.89895613e-01, 7.76396407e-01, 2.15726311e-01, 3.30459221e-01,\n",
       "        4.62923276e-03, 1.74295399e+00],\n",
       "       [1.09418553e-01, 1.17404762e+00, 8.70722763e-01, 3.30459221e-01,\n",
       "        7.12901846e-01, 1.65847407e+00],\n",
       "       [1.15838980e+00, 1.84700783e+00, 1.09426659e+00, 3.30459221e-01,\n",
       "        7.12901846e-01, 1.54509314e+00],\n",
       "       [9.13629843e-01, 1.24248425e+00, 7.28332230e-01, 4.36455575e-01,\n",
       "        7.12901846e-01, 1.43171220e+00],\n",
       "       [1.25424407e+00, 0.00000000e+00, 8.70722763e-01, 8.60440990e-01,\n",
       "        7.12901846e-01, 1.31833127e+00],\n",
       "       [2.49281386e-01, 0.00000000e+00, 7.28332230e-01, 7.54444636e-01,\n",
       "        7.12901846e-01, 1.20495033e+00],\n",
       "       [8.34655571e-01, 0.00000000e+00, 1.52571922e+00, 9.66437344e-01,\n",
       "        7.12901846e-01, 1.09156940e+00],\n",
       "       [2.79273523e+00, 7.87802512e-01, 1.69658785e+00, 1.17843005e+00,\n",
       "        7.12901846e-01, 9.78188462e-01],\n",
       "       [1.63886686e+00, 4.91243772e-01, 9.75328619e-02, 1.28442641e+00,\n",
       "        7.12901846e-01, 8.64807526e-01],\n",
       "       [2.37314673e+00, 2.40309453e-01, 5.57463590e-01, 1.28442641e+00,\n",
       "        7.12901846e-01, 7.51426591e-01],\n",
       "       [0.00000000e+00, 4.11401034e-01, 3.86594951e-01, 1.49641911e+00,\n",
       "        7.12901846e-01, 6.38045656e-01],\n",
       "       [0.00000000e+00, 5.58117924e-01, 4.39270141e-01, 8.60440990e-01,\n",
       "        7.12901846e-01, 5.24664720e-01],\n",
       "       [6.54099887e-02, 6.92178725e-02, 4.39270141e-01, 8.60440990e-01,\n",
       "        7.12901846e-01, 4.11283785e-01],\n",
       "       [4.94041344e-01, 9.93112409e-01, 4.39270141e-01, 4.36455575e-01,\n",
       "        7.12901846e-01, 2.97902850e-01],\n",
       "       [7.99689862e-01, 3.29995816e-01, 7.33357778e-02, 2.24462867e-01,\n",
       "        7.12901846e-01, 1.84521914e-01],\n",
       "       [0.00000000e+00, 1.39076362e+00, 4.39270141e-01, 1.18466513e-01,\n",
       "        7.12901846e-01, 7.11409790e-02],\n",
       "       [7.03835593e-01, 1.31092088e+00, 9.75328619e-02, 9.35261946e-02,\n",
       "        7.12901846e-01, 4.22399563e-02],\n",
       "       [5.89895613e-01, 1.53904299e+00, 1.04159140e+00, 1.18466513e-01,\n",
       "        7.12901846e-01, 1.55620892e-01],\n",
       "       [6.68869885e-01, 8.09052243e-01, 7.28332230e-01, 1.99522548e-01,\n",
       "        7.12901846e-01, 2.69001827e-01],\n",
       "       [3.89144219e-01, 6.62335353e-01, 2.68401502e-01, 1.24701593e-02,\n",
       "        7.12901846e-01, 3.82382762e-01],\n",
       "       [6.54099887e-02, 4.64056617e-02, 9.75328619e-02, 1.24701593e-02,\n",
       "        7.12901846e-01, 4.95763698e-01],\n",
       "       [7.38801301e-01, 8.33426934e-01, 1.57839441e+00, 9.35261946e-02,\n",
       "        7.12901846e-01, 6.09144633e-01],\n",
       "       [1.15838980e+00, 1.71013457e+00, 1.23665713e+00, 6.23507964e-01,\n",
       "        7.12901846e-01, 7.22525568e-01],\n",
       "       [0.00000000e+00, 7.87802512e-01, 7.52529314e-01, 3.05518902e-01,\n",
       "        7.12901846e-01, 8.35906504e-01],\n",
       "       [1.00375697e-01, 2.97339980e-01, 7.33357778e-02, 1.18466513e-01,\n",
       "        7.12901846e-01, 9.49287439e-01],\n",
       "       [4.40115781e+00, 5.93898721e-01, 1.86745649e+00, 3.30459221e-01,\n",
       "        7.12901846e-01, 1.06266837e+00],\n",
       "       [1.07941553e+00, 3.31558297e-01, 5.57463590e-01, 8.60440990e-01,\n",
       "        7.12901846e-01, 1.17604931e+00],\n",
       "       [0.00000000e+00, 3.75620238e-01, 1.21246004e+00, 1.07243370e+00,\n",
       "        7.12901846e-01, 1.28943024e+00],\n",
       "       [1.18431265e+00, 1.94685032e-01, 7.33357778e-02, 2.02640088e+00,\n",
       "        7.12901846e-01, 1.40281118e+00],\n",
       "       [2.65287240e+00, 4.45619350e-01, 2.18071567e+00, 1.70841182e+00,\n",
       "        7.12901846e-01, 1.51619212e+00],\n",
       "       [1.46403832e+00, 5.82492615e-01, 1.04159140e+00, 1.92040453e+00,\n",
       "        7.12901846e-01, 1.62957305e+00],\n",
       "       [1.49900403e+00, 2.35934509e-02, 1.04159140e+00, 1.70841182e+00,\n",
       "        7.12901846e-01, 1.74295399e+00],\n",
       "       [1.88362682e+00, 2.15934762e-01, 8.70722763e-01, 1.39042276e+00,\n",
       "        1.42117446e+00, 1.65847407e+00],\n",
       "       [1.25424407e+00, 1.26248399e-01, 1.38332868e+00, 1.49641911e+00,\n",
       "        1.42117446e+00, 1.54509314e+00],\n",
       "       [1.07941553e+00, 3.34370761e-02, 2.03832513e+00, 1.60241547e+00,\n",
       "        1.42117446e+00, 1.43171220e+00],\n",
       "       [1.70879828e+00, 3.49995563e-02, 1.52571922e+00, 1.60241547e+00,\n",
       "        1.42117446e+00, 1.31833127e+00],\n",
       "       [1.70307114e-01, 1.03717435e+00, 7.28332230e-01, 9.66437344e-01,\n",
       "        1.42117446e+00, 1.20495033e+00],\n",
       "       [3.54178510e-01, 1.07139267e+00, 1.57839441e+00, 6.48448283e-01,\n",
       "        1.42117446e+00, 1.09156940e+00],\n",
       "       [7.73767010e-01, 7.53584196e-01, 2.68401502e-01, 2.24462867e-01,\n",
       "        1.42117446e+00, 9.78188462e-01],\n",
       "       [6.68869885e-01, 3.88588823e-01, 9.75328619e-02, 1.24701593e-02,\n",
       "        1.42117446e+00, 8.64807526e-01],\n",
       "       [7.38801301e-01, 5.02649877e-01, 2.68401502e-01, 3.05518902e-01,\n",
       "        1.42117446e+00, 7.51426591e-01],\n",
       "       [6.33904177e-01, 8.33426934e-01, 7.33357778e-02, 5.17511610e-01,\n",
       "        1.42117446e+00, 6.38045656e-01],\n",
       "       [6.54099887e-02, 5.71086510e-01, 1.40752577e+00, 3.30459221e-01,\n",
       "        1.42117446e+00, 5.24664720e-01],\n",
       "       [7.38801301e-01, 8.33426934e-01, 1.57839441e+00, 1.99522548e-01,\n",
       "        1.42117446e+00, 4.11283785e-01],\n",
       "       [4.94041344e-01, 5.93898721e-01, 1.04159140e+00, 9.35261946e-02,\n",
       "        1.42117446e+00, 2.97902850e-01],\n",
       "       [1.15838980e+00, 1.84700783e+00, 2.68401502e-01, 7.29504318e-01,\n",
       "        1.42117446e+00, 1.84521914e-01],\n",
       "       [1.01852697e+00, 8.43270559e-01, 4.39270141e-01, 7.29504318e-01,\n",
       "        1.42117446e+00, 7.11409790e-02],\n",
       "       [1.35341405e-01, 5.82492615e-01, 8.70722763e-01, 1.24701593e-02,\n",
       "        1.42117446e+00, 4.22399563e-02],\n",
       "       [8.43698426e-01, 4.34213245e-01, 1.09426659e+00, 1.15348973e+00,\n",
       "        1.42117446e+00, 1.55620892e-01],\n",
       "       [1.01852697e+00, 1.81278952e+00, 9.75328619e-02, 1.99522548e-01,\n",
       "        1.42117446e+00, 2.69001827e-01],\n",
       "       [6.33904177e-01, 5.93898721e-01, 9.75328619e-02, 1.04749338e+00,\n",
       "        1.42117446e+00, 3.82382762e-01],\n",
       "       [9.13629843e-01, 1.71872821e-01, 5.57463590e-01, 4.36455575e-01,\n",
       "        1.42117446e+00, 4.95763698e-01],\n",
       "       [1.01852697e+00, 5.93898721e-01, 7.52529314e-01, 1.47147880e+00,\n",
       "        1.42117446e+00, 6.09144633e-01],\n",
       "       [6.68869885e-01, 1.96106889e+00, 2.15726311e-01, 7.29504318e-01,\n",
       "        1.42117446e+00, 7.22525568e-01],\n",
       "       [2.14315677e-01, 5.35305713e-01, 9.75328619e-02, 3.30459221e-01,\n",
       "        1.42117446e+00, 8.35906504e-01],\n",
       "       [1.22832122e+00, 1.56185520e+00, 9.75328619e-02, 9.41497026e-01,\n",
       "        1.42117446e+00, 9.49287439e-01],\n",
       "       [9.83561259e-01, 1.89263226e+00, 1.89165358e+00, 1.57747515e+00,\n",
       "        1.42117446e+00, 1.06266837e+00],\n",
       "       [4.24109927e-01, 8.06239778e-02, 8.70722763e-01, 8.35500672e-01,\n",
       "        1.42117446e+00, 1.17604931e+00],\n",
       "       [0.00000000e+00, 4.66869081e-01, 9.23397954e-01, 9.35261946e-02,\n",
       "        1.42117446e+00, 1.28943024e+00],\n",
       "       [9.83561259e-01, 5.78117671e-02, 1.23665713e+00, 3.05518902e-01,\n",
       "        1.42117446e+00, 1.40281118e+00],\n",
       "       [8.43698426e-01, 6.26554557e-01, 5.57463590e-01, 1.99522548e-01,\n",
       "        1.42117446e+00, 1.51619212e+00],\n",
       "       [7.73767010e-01, 4.22807140e-01, 4.39270141e-01, 1.04749338e+00,\n",
       "        1.42117446e+00, 1.43171220e+00]])"
      ]
     },
     "execution_count": 32,
     "metadata": {},
     "output_type": "execute_result"
    }
   ],
   "source": [
    "from scipy import stats\n",
    "z = np.abs(stats.zscore(airframe)) #We are taking the absolute value of\n",
    "#the zscores of boston but these are not what we showed up there this is\n",
    "#for everything clearly, anyways their rule of thumb is 3 or -3 but u wont\n",
    "#get -3 for obv reasons... \n",
    "z"
   ]
  },
  {
   "cell_type": "code",
   "execution_count": 33,
   "metadata": {},
   "outputs": [
    {
     "name": "stdout",
     "output_type": "stream",
     "text": [
      "(array([ 47,  61, 116], dtype=int64), array([2, 0, 0], dtype=int64))\n"
     ]
    }
   ],
   "source": [
    "threshold = 3\n",
    "print(np.where(z>3))"
   ]
  },
  {
   "cell_type": "code",
   "execution_count": 35,
   "metadata": {},
   "outputs": [
    {
     "name": "stdout",
     "output_type": "stream",
     "text": [
      "Ozone       25.0\n",
      "Solar.R    136.0\n",
      "Wind         4.1\n",
      "Temp        13.0\n",
      "Month        2.0\n",
      "Day         15.0\n",
      "dtype: float64\n"
     ]
    }
   ],
   "source": [
    "Q1 = airframe.quantile(0.25)\n",
    "Q3 = airframe.quantile(0.75)\n",
    "IQR = Q3 - Q1\n",
    "print(IQR)"
   ]
  },
  {
   "cell_type": "code",
   "execution_count": 36,
   "metadata": {},
   "outputs": [
    {
     "name": "stdout",
     "output_type": "stream",
     "text": [
      "     Ozone  Solar.R   Wind   Temp  Month    Day\n",
      "0    False    False  False  False  False  False\n",
      "1    False    False  False  False  False  False\n",
      "2    False    False  False  False  False  False\n",
      "3    False    False  False  False  False  False\n",
      "4    False    False  False  False  False  False\n",
      "..     ...      ...    ...    ...    ...    ...\n",
      "148  False    False  False  False  False  False\n",
      "149  False    False  False  False  False  False\n",
      "150  False    False  False  False  False  False\n",
      "151  False    False  False  False  False  False\n",
      "152  False    False  False  False  False  False\n",
      "\n",
      "[153 rows x 6 columns]\n"
     ]
    }
   ],
   "source": [
    "#Now use that IQR to find the outliers by having 1.5 multiplied\n",
    "print((airframe<(Q1-1.5*IQR))|(airframe>(Q3+1.5*IQR)))"
   ]
  },
  {
   "cell_type": "code",
   "execution_count": 37,
   "metadata": {},
   "outputs": [
    {
     "data": {
      "text/html": [
       "<div>\n",
       "<style scoped>\n",
       "    .dataframe tbody tr th:only-of-type {\n",
       "        vertical-align: middle;\n",
       "    }\n",
       "\n",
       "    .dataframe tbody tr th {\n",
       "        vertical-align: top;\n",
       "    }\n",
       "\n",
       "    .dataframe thead th {\n",
       "        text-align: right;\n",
       "    }\n",
       "</style>\n",
       "<table border=\"1\" class=\"dataframe\">\n",
       "  <thead>\n",
       "    <tr style=\"text-align: right;\">\n",
       "      <th></th>\n",
       "      <th>Ozone</th>\n",
       "      <th>Solar.R</th>\n",
       "      <th>Wind</th>\n",
       "      <th>Temp</th>\n",
       "      <th>Month</th>\n",
       "      <th>Day</th>\n",
       "    </tr>\n",
       "  </thead>\n",
       "  <tbody>\n",
       "    <tr>\n",
       "      <th>0</th>\n",
       "      <td>41.00000</td>\n",
       "      <td>190.000000</td>\n",
       "      <td>7.4</td>\n",
       "      <td>67.0</td>\n",
       "      <td>5.0</td>\n",
       "      <td>1.0</td>\n",
       "    </tr>\n",
       "    <tr>\n",
       "      <th>1</th>\n",
       "      <td>36.00000</td>\n",
       "      <td>118.000000</td>\n",
       "      <td>8.0</td>\n",
       "      <td>72.0</td>\n",
       "      <td>5.0</td>\n",
       "      <td>2.0</td>\n",
       "    </tr>\n",
       "    <tr>\n",
       "      <th>2</th>\n",
       "      <td>12.00000</td>\n",
       "      <td>149.000000</td>\n",
       "      <td>12.6</td>\n",
       "      <td>74.0</td>\n",
       "      <td>5.0</td>\n",
       "      <td>3.0</td>\n",
       "    </tr>\n",
       "    <tr>\n",
       "      <th>3</th>\n",
       "      <td>18.00000</td>\n",
       "      <td>313.000000</td>\n",
       "      <td>11.5</td>\n",
       "      <td>62.0</td>\n",
       "      <td>5.0</td>\n",
       "      <td>4.0</td>\n",
       "    </tr>\n",
       "    <tr>\n",
       "      <th>4</th>\n",
       "      <td>42.12931</td>\n",
       "      <td>185.931507</td>\n",
       "      <td>14.3</td>\n",
       "      <td>56.0</td>\n",
       "      <td>5.0</td>\n",
       "      <td>5.0</td>\n",
       "    </tr>\n",
       "    <tr>\n",
       "      <th>...</th>\n",
       "      <td>...</td>\n",
       "      <td>...</td>\n",
       "      <td>...</td>\n",
       "      <td>...</td>\n",
       "      <td>...</td>\n",
       "      <td>...</td>\n",
       "    </tr>\n",
       "    <tr>\n",
       "      <th>148</th>\n",
       "      <td>30.00000</td>\n",
       "      <td>193.000000</td>\n",
       "      <td>6.9</td>\n",
       "      <td>70.0</td>\n",
       "      <td>9.0</td>\n",
       "      <td>26.0</td>\n",
       "    </tr>\n",
       "    <tr>\n",
       "      <th>149</th>\n",
       "      <td>42.12931</td>\n",
       "      <td>145.000000</td>\n",
       "      <td>13.2</td>\n",
       "      <td>77.0</td>\n",
       "      <td>9.0</td>\n",
       "      <td>27.0</td>\n",
       "    </tr>\n",
       "    <tr>\n",
       "      <th>150</th>\n",
       "      <td>14.00000</td>\n",
       "      <td>191.000000</td>\n",
       "      <td>14.3</td>\n",
       "      <td>75.0</td>\n",
       "      <td>9.0</td>\n",
       "      <td>28.0</td>\n",
       "    </tr>\n",
       "    <tr>\n",
       "      <th>151</th>\n",
       "      <td>18.00000</td>\n",
       "      <td>131.000000</td>\n",
       "      <td>8.0</td>\n",
       "      <td>76.0</td>\n",
       "      <td>9.0</td>\n",
       "      <td>29.0</td>\n",
       "    </tr>\n",
       "    <tr>\n",
       "      <th>152</th>\n",
       "      <td>20.00000</td>\n",
       "      <td>223.000000</td>\n",
       "      <td>11.5</td>\n",
       "      <td>68.0</td>\n",
       "      <td>9.0</td>\n",
       "      <td>3.0</td>\n",
       "    </tr>\n",
       "  </tbody>\n",
       "</table>\n",
       "<p>150 rows × 6 columns</p>\n",
       "</div>"
      ],
      "text/plain": [
       "        Ozone     Solar.R  Wind  Temp  Month   Day\n",
       "0    41.00000  190.000000   7.4  67.0    5.0   1.0\n",
       "1    36.00000  118.000000   8.0  72.0    5.0   2.0\n",
       "2    12.00000  149.000000  12.6  74.0    5.0   3.0\n",
       "3    18.00000  313.000000  11.5  62.0    5.0   4.0\n",
       "4    42.12931  185.931507  14.3  56.0    5.0   5.0\n",
       "..        ...         ...   ...   ...    ...   ...\n",
       "148  30.00000  193.000000   6.9  70.0    9.0  26.0\n",
       "149  42.12931  145.000000  13.2  77.0    9.0  27.0\n",
       "150  14.00000  191.000000  14.3  75.0    9.0  28.0\n",
       "151  18.00000  131.000000   8.0  76.0    9.0  29.0\n",
       "152  20.00000  223.000000  11.5  68.0    9.0   3.0\n",
       "\n",
       "[150 rows x 6 columns]"
      ]
     },
     "execution_count": 37,
     "metadata": {},
     "output_type": "execute_result"
    }
   ],
   "source": [
    "airGood = airframe[(z < 3).all(axis=1)] #Creates them by colos\n",
    "#If you remember from above the shit was checked by colos for example the first one was 55\n",
    "airGood"
   ]
  },
  {
   "cell_type": "code",
   "execution_count": 39,
   "metadata": {},
   "outputs": [
    {
     "data": {
      "text/plain": [
       "(153, 6)"
      ]
     },
     "execution_count": 39,
     "metadata": {},
     "output_type": "execute_result"
    }
   ],
   "source": [
    "airframe.shape"
   ]
  },
  {
   "cell_type": "code",
   "execution_count": 40,
   "metadata": {},
   "outputs": [
    {
     "data": {
      "text/plain": [
       "(150, 6)"
      ]
     },
     "execution_count": 40,
     "metadata": {},
     "output_type": "execute_result"
    }
   ],
   "source": [
    "airGood.shape"
   ]
  },
  {
   "cell_type": "code",
   "execution_count": 41,
   "metadata": {},
   "outputs": [
    {
     "data": {
      "text/html": [
       "<div>\n",
       "<style scoped>\n",
       "    .dataframe tbody tr th:only-of-type {\n",
       "        vertical-align: middle;\n",
       "    }\n",
       "\n",
       "    .dataframe tbody tr th {\n",
       "        vertical-align: top;\n",
       "    }\n",
       "\n",
       "    .dataframe thead th {\n",
       "        text-align: right;\n",
       "    }\n",
       "</style>\n",
       "<table border=\"1\" class=\"dataframe\">\n",
       "  <thead>\n",
       "    <tr style=\"text-align: right;\">\n",
       "      <th></th>\n",
       "      <th>Ozone</th>\n",
       "      <th>Solar.R</th>\n",
       "      <th>Wind</th>\n",
       "      <th>Temp</th>\n",
       "      <th>Month</th>\n",
       "      <th>Day</th>\n",
       "    </tr>\n",
       "  </thead>\n",
       "  <tbody>\n",
       "    <tr>\n",
       "      <th>0</th>\n",
       "      <td>41.00000</td>\n",
       "      <td>190.000000</td>\n",
       "      <td>7.4</td>\n",
       "      <td>67.0</td>\n",
       "      <td>5.0</td>\n",
       "      <td>1.0</td>\n",
       "    </tr>\n",
       "    <tr>\n",
       "      <th>1</th>\n",
       "      <td>36.00000</td>\n",
       "      <td>118.000000</td>\n",
       "      <td>8.0</td>\n",
       "      <td>72.0</td>\n",
       "      <td>5.0</td>\n",
       "      <td>2.0</td>\n",
       "    </tr>\n",
       "    <tr>\n",
       "      <th>2</th>\n",
       "      <td>12.00000</td>\n",
       "      <td>149.000000</td>\n",
       "      <td>12.6</td>\n",
       "      <td>74.0</td>\n",
       "      <td>5.0</td>\n",
       "      <td>3.0</td>\n",
       "    </tr>\n",
       "    <tr>\n",
       "      <th>3</th>\n",
       "      <td>18.00000</td>\n",
       "      <td>313.000000</td>\n",
       "      <td>11.5</td>\n",
       "      <td>62.0</td>\n",
       "      <td>5.0</td>\n",
       "      <td>4.0</td>\n",
       "    </tr>\n",
       "    <tr>\n",
       "      <th>4</th>\n",
       "      <td>42.12931</td>\n",
       "      <td>185.931507</td>\n",
       "      <td>14.3</td>\n",
       "      <td>56.0</td>\n",
       "      <td>5.0</td>\n",
       "      <td>5.0</td>\n",
       "    </tr>\n",
       "    <tr>\n",
       "      <th>...</th>\n",
       "      <td>...</td>\n",
       "      <td>...</td>\n",
       "      <td>...</td>\n",
       "      <td>...</td>\n",
       "      <td>...</td>\n",
       "      <td>...</td>\n",
       "    </tr>\n",
       "    <tr>\n",
       "      <th>148</th>\n",
       "      <td>30.00000</td>\n",
       "      <td>193.000000</td>\n",
       "      <td>6.9</td>\n",
       "      <td>70.0</td>\n",
       "      <td>9.0</td>\n",
       "      <td>26.0</td>\n",
       "    </tr>\n",
       "    <tr>\n",
       "      <th>149</th>\n",
       "      <td>42.12931</td>\n",
       "      <td>145.000000</td>\n",
       "      <td>13.2</td>\n",
       "      <td>77.0</td>\n",
       "      <td>9.0</td>\n",
       "      <td>27.0</td>\n",
       "    </tr>\n",
       "    <tr>\n",
       "      <th>150</th>\n",
       "      <td>14.00000</td>\n",
       "      <td>191.000000</td>\n",
       "      <td>14.3</td>\n",
       "      <td>75.0</td>\n",
       "      <td>9.0</td>\n",
       "      <td>28.0</td>\n",
       "    </tr>\n",
       "    <tr>\n",
       "      <th>151</th>\n",
       "      <td>18.00000</td>\n",
       "      <td>131.000000</td>\n",
       "      <td>8.0</td>\n",
       "      <td>76.0</td>\n",
       "      <td>9.0</td>\n",
       "      <td>29.0</td>\n",
       "    </tr>\n",
       "    <tr>\n",
       "      <th>152</th>\n",
       "      <td>20.00000</td>\n",
       "      <td>223.000000</td>\n",
       "      <td>11.5</td>\n",
       "      <td>68.0</td>\n",
       "      <td>9.0</td>\n",
       "      <td>3.0</td>\n",
       "    </tr>\n",
       "  </tbody>\n",
       "</table>\n",
       "<p>135 rows × 6 columns</p>\n",
       "</div>"
      ],
      "text/plain": [
       "        Ozone     Solar.R  Wind  Temp  Month   Day\n",
       "0    41.00000  190.000000   7.4  67.0    5.0   1.0\n",
       "1    36.00000  118.000000   8.0  72.0    5.0   2.0\n",
       "2    12.00000  149.000000  12.6  74.0    5.0   3.0\n",
       "3    18.00000  313.000000  11.5  62.0    5.0   4.0\n",
       "4    42.12931  185.931507  14.3  56.0    5.0   5.0\n",
       "..        ...         ...   ...   ...    ...   ...\n",
       "148  30.00000  193.000000   6.9  70.0    9.0  26.0\n",
       "149  42.12931  145.000000  13.2  77.0    9.0  27.0\n",
       "150  14.00000  191.000000  14.3  75.0    9.0  28.0\n",
       "151  18.00000  131.000000   8.0  76.0    9.0  29.0\n",
       "152  20.00000  223.000000  11.5  68.0    9.0   3.0\n",
       "\n",
       "[135 rows x 6 columns]"
      ]
     },
     "execution_count": 41,
     "metadata": {},
     "output_type": "execute_result"
    }
   ],
   "source": [
    "airBest = airGood[~((airGood < (Q1 - 1.5*IQR))|(airGood>(Q3+1.5*IQR))).any(axis=1)]\n",
    "airBest"
   ]
  },
  {
   "cell_type": "code",
   "execution_count": 42,
   "metadata": {},
   "outputs": [],
   "source": [
    "cleanAir = airBest"
   ]
  },
  {
   "cell_type": "code",
   "execution_count": 43,
   "metadata": {},
   "outputs": [],
   "source": [
    "features=cleanAir.iloc[:,1:]\n",
    "labels=cleanAir.iloc[:,0]"
   ]
  },
  {
   "cell_type": "code",
   "execution_count": 44,
   "metadata": {},
   "outputs": [
    {
     "data": {
      "text/html": [
       "<div>\n",
       "<style scoped>\n",
       "    .dataframe tbody tr th:only-of-type {\n",
       "        vertical-align: middle;\n",
       "    }\n",
       "\n",
       "    .dataframe tbody tr th {\n",
       "        vertical-align: top;\n",
       "    }\n",
       "\n",
       "    .dataframe thead th {\n",
       "        text-align: right;\n",
       "    }\n",
       "</style>\n",
       "<table border=\"1\" class=\"dataframe\">\n",
       "  <thead>\n",
       "    <tr style=\"text-align: right;\">\n",
       "      <th></th>\n",
       "      <th>Solar.R</th>\n",
       "      <th>Wind</th>\n",
       "      <th>Temp</th>\n",
       "      <th>Month</th>\n",
       "      <th>Day</th>\n",
       "    </tr>\n",
       "  </thead>\n",
       "  <tbody>\n",
       "    <tr>\n",
       "      <th>0</th>\n",
       "      <td>190.000000</td>\n",
       "      <td>7.4</td>\n",
       "      <td>67.0</td>\n",
       "      <td>5.0</td>\n",
       "      <td>1.0</td>\n",
       "    </tr>\n",
       "    <tr>\n",
       "      <th>1</th>\n",
       "      <td>118.000000</td>\n",
       "      <td>8.0</td>\n",
       "      <td>72.0</td>\n",
       "      <td>5.0</td>\n",
       "      <td>2.0</td>\n",
       "    </tr>\n",
       "    <tr>\n",
       "      <th>2</th>\n",
       "      <td>149.000000</td>\n",
       "      <td>12.6</td>\n",
       "      <td>74.0</td>\n",
       "      <td>5.0</td>\n",
       "      <td>3.0</td>\n",
       "    </tr>\n",
       "    <tr>\n",
       "      <th>3</th>\n",
       "      <td>313.000000</td>\n",
       "      <td>11.5</td>\n",
       "      <td>62.0</td>\n",
       "      <td>5.0</td>\n",
       "      <td>4.0</td>\n",
       "    </tr>\n",
       "    <tr>\n",
       "      <th>4</th>\n",
       "      <td>185.931507</td>\n",
       "      <td>14.3</td>\n",
       "      <td>56.0</td>\n",
       "      <td>5.0</td>\n",
       "      <td>5.0</td>\n",
       "    </tr>\n",
       "    <tr>\n",
       "      <th>...</th>\n",
       "      <td>...</td>\n",
       "      <td>...</td>\n",
       "      <td>...</td>\n",
       "      <td>...</td>\n",
       "      <td>...</td>\n",
       "    </tr>\n",
       "    <tr>\n",
       "      <th>148</th>\n",
       "      <td>193.000000</td>\n",
       "      <td>6.9</td>\n",
       "      <td>70.0</td>\n",
       "      <td>9.0</td>\n",
       "      <td>26.0</td>\n",
       "    </tr>\n",
       "    <tr>\n",
       "      <th>149</th>\n",
       "      <td>145.000000</td>\n",
       "      <td>13.2</td>\n",
       "      <td>77.0</td>\n",
       "      <td>9.0</td>\n",
       "      <td>27.0</td>\n",
       "    </tr>\n",
       "    <tr>\n",
       "      <th>150</th>\n",
       "      <td>191.000000</td>\n",
       "      <td>14.3</td>\n",
       "      <td>75.0</td>\n",
       "      <td>9.0</td>\n",
       "      <td>28.0</td>\n",
       "    </tr>\n",
       "    <tr>\n",
       "      <th>151</th>\n",
       "      <td>131.000000</td>\n",
       "      <td>8.0</td>\n",
       "      <td>76.0</td>\n",
       "      <td>9.0</td>\n",
       "      <td>29.0</td>\n",
       "    </tr>\n",
       "    <tr>\n",
       "      <th>152</th>\n",
       "      <td>223.000000</td>\n",
       "      <td>11.5</td>\n",
       "      <td>68.0</td>\n",
       "      <td>9.0</td>\n",
       "      <td>3.0</td>\n",
       "    </tr>\n",
       "  </tbody>\n",
       "</table>\n",
       "<p>135 rows × 5 columns</p>\n",
       "</div>"
      ],
      "text/plain": [
       "        Solar.R  Wind  Temp  Month   Day\n",
       "0    190.000000   7.4  67.0    5.0   1.0\n",
       "1    118.000000   8.0  72.0    5.0   2.0\n",
       "2    149.000000  12.6  74.0    5.0   3.0\n",
       "3    313.000000  11.5  62.0    5.0   4.0\n",
       "4    185.931507  14.3  56.0    5.0   5.0\n",
       "..          ...   ...   ...    ...   ...\n",
       "148  193.000000   6.9  70.0    9.0  26.0\n",
       "149  145.000000  13.2  77.0    9.0  27.0\n",
       "150  191.000000  14.3  75.0    9.0  28.0\n",
       "151  131.000000   8.0  76.0    9.0  29.0\n",
       "152  223.000000  11.5  68.0    9.0   3.0\n",
       "\n",
       "[135 rows x 5 columns]"
      ]
     },
     "execution_count": 44,
     "metadata": {},
     "output_type": "execute_result"
    }
   ],
   "source": [
    "features"
   ]
  },
  {
   "cell_type": "code",
   "execution_count": 45,
   "metadata": {},
   "outputs": [
    {
     "data": {
      "text/plain": [
       "0      41.00000\n",
       "1      36.00000\n",
       "2      12.00000\n",
       "3      18.00000\n",
       "4      42.12931\n",
       "         ...   \n",
       "148    30.00000\n",
       "149    42.12931\n",
       "150    14.00000\n",
       "151    18.00000\n",
       "152    20.00000\n",
       "Name: Ozone, Length: 135, dtype: float64"
      ]
     },
     "execution_count": 45,
     "metadata": {},
     "output_type": "execute_result"
    }
   ],
   "source": [
    "labels"
   ]
  },
  {
   "cell_type": "code",
   "execution_count": 46,
   "metadata": {},
   "outputs": [
    {
     "data": {
      "text/plain": [
       "Text(0.5, 0, 'Temperature')"
      ]
     },
     "execution_count": 46,
     "metadata": {},
     "output_type": "execute_result"
    },
    {
     "data": {
      "image/png": "[encoded data removed]",
      "text/plain": [
       "<Figure size 432x288 with 1 Axes>"
      ]
     },
     "metadata": {
      "needs_background": "light"
     },
     "output_type": "display_data"
    }
   ],
   "source": [
    "temp = features['Temp']\n",
    "ozone = labels\n",
    "ax = plt.plot(temp,ozone,'o')\n",
    "plt.ylabel(\"Ozone\")\n",
    "plt.xlabel(\"Temperature\")"
   ]
  },
  {
   "cell_type": "code",
   "execution_count": 47,
   "metadata": {},
   "outputs": [
    {
     "data": {
      "text/html": [
       "<div>\n",
       "<style scoped>\n",
       "    .dataframe tbody tr th:only-of-type {\n",
       "        vertical-align: middle;\n",
       "    }\n",
       "\n",
       "    .dataframe tbody tr th {\n",
       "        vertical-align: top;\n",
       "    }\n",
       "\n",
       "    .dataframe thead th {\n",
       "        text-align: right;\n",
       "    }\n",
       "</style>\n",
       "<table border=\"1\" class=\"dataframe\">\n",
       "  <thead>\n",
       "    <tr style=\"text-align: right;\">\n",
       "      <th></th>\n",
       "      <th>Ozone</th>\n",
       "      <th>Solar.R</th>\n",
       "      <th>Wind</th>\n",
       "      <th>Temp</th>\n",
       "      <th>Month</th>\n",
       "      <th>Day</th>\n",
       "    </tr>\n",
       "  </thead>\n",
       "  <tbody>\n",
       "    <tr>\n",
       "      <th>Ozone</th>\n",
       "      <td>1.000000</td>\n",
       "      <td>0.279243</td>\n",
       "      <td>-0.383703</td>\n",
       "      <td>0.586569</td>\n",
       "      <td>0.055891</td>\n",
       "      <td>0.009603</td>\n",
       "    </tr>\n",
       "    <tr>\n",
       "      <th>Solar.R</th>\n",
       "      <td>0.279243</td>\n",
       "      <td>1.000000</td>\n",
       "      <td>0.043325</td>\n",
       "      <td>0.208295</td>\n",
       "      <td>-0.116342</td>\n",
       "      <td>-0.179607</td>\n",
       "    </tr>\n",
       "    <tr>\n",
       "      <th>Wind</th>\n",
       "      <td>-0.383703</td>\n",
       "      <td>0.043325</td>\n",
       "      <td>1.000000</td>\n",
       "      <td>-0.329773</td>\n",
       "      <td>-0.081627</td>\n",
       "      <td>0.040349</td>\n",
       "    </tr>\n",
       "    <tr>\n",
       "      <th>Temp</th>\n",
       "      <td>0.586569</td>\n",
       "      <td>0.208295</td>\n",
       "      <td>-0.329773</td>\n",
       "      <td>1.000000</td>\n",
       "      <td>0.369554</td>\n",
       "      <td>-0.126273</td>\n",
       "    </tr>\n",
       "    <tr>\n",
       "      <th>Month</th>\n",
       "      <td>0.055891</td>\n",
       "      <td>-0.116342</td>\n",
       "      <td>-0.081627</td>\n",
       "      <td>0.369554</td>\n",
       "      <td>1.000000</td>\n",
       "      <td>-0.014735</td>\n",
       "    </tr>\n",
       "    <tr>\n",
       "      <th>Day</th>\n",
       "      <td>0.009603</td>\n",
       "      <td>-0.179607</td>\n",
       "      <td>0.040349</td>\n",
       "      <td>-0.126273</td>\n",
       "      <td>-0.014735</td>\n",
       "      <td>1.000000</td>\n",
       "    </tr>\n",
       "  </tbody>\n",
       "</table>\n",
       "</div>"
      ],
      "text/plain": [
       "            Ozone   Solar.R      Wind      Temp     Month       Day\n",
       "Ozone    1.000000  0.279243 -0.383703  0.586569  0.055891  0.009603\n",
       "Solar.R  0.279243  1.000000  0.043325  0.208295 -0.116342 -0.179607\n",
       "Wind    -0.383703  0.043325  1.000000 -0.329773 -0.081627  0.040349\n",
       "Temp     0.586569  0.208295 -0.329773  1.000000  0.369554 -0.126273\n",
       "Month    0.055891 -0.116342 -0.081627  0.369554  1.000000 -0.014735\n",
       "Day      0.009603 -0.179607  0.040349 -0.126273 -0.014735  1.000000"
      ]
     },
     "execution_count": 47,
     "metadata": {},
     "output_type": "execute_result"
    }
   ],
   "source": [
    "cleanAir.corr()"
   ]
  },
  {
   "cell_type": "code",
   "execution_count": 48,
   "metadata": {},
   "outputs": [],
   "source": [
    "#Temp and ozone have correlation of 0.59 which is positive so when temp increases ozone should also increase\n",
    "mean_Ozone = ozone.mean()"
   ]
  },
  {
   "cell_type": "code",
   "execution_count": 49,
   "metadata": {},
   "outputs": [
    {
     "data": {
      "text/plain": [
       "35.51692209450831"
      ]
     },
     "execution_count": 49,
     "metadata": {},
     "output_type": "execute_result"
    }
   ],
   "source": [
    "mean_Ozone"
   ]
  },
  {
   "cell_type": "code",
   "execution_count": 50,
   "metadata": {},
   "outputs": [
    {
     "data": {
      "image/png": "[encoded data removed]",
      "text/plain": [
       "<Figure size 432x288 with 1 Axes>"
      ]
     },
     "metadata": {
      "needs_background": "light"
     },
     "output_type": "display_data"
    }
   ],
   "source": [
    "ax = plt.plot(temp,ozone,'o')\n",
    "plt.ylabel(\"Ozone\")\n",
    "plt.xlabel(\"Temperature\")\n",
    "plt.axhline(mean_Ozone,color = 'r', linestyle ='-')\n",
    "plt.show()"
   ]
  },
  {
   "cell_type": "code",
   "execution_count": 51,
   "metadata": {},
   "outputs": [],
   "source": [
    "import statsmodels.api as sm\n",
    "model = sm.OLS(ozone,temp).fit()"
   ]
  },
  {
   "cell_type": "code",
   "execution_count": 52,
   "metadata": {},
   "outputs": [
    {
     "data": {
      "text/html": [
       "<table class=\"simpletable\">\n",
       "<caption>OLS Regression Results</caption>\n",
       "<tr>\n",
       "  <th>Dep. Variable:</th>          <td>Ozone</td>      <th>  R-squared (uncentered):</th>      <td>   0.829</td>\n",
       "</tr>\n",
       "<tr>\n",
       "  <th>Model:</th>                   <td>OLS</td>       <th>  Adj. R-squared (uncentered):</th> <td>   0.828</td>\n",
       "</tr>\n",
       "<tr>\n",
       "  <th>Method:</th>             <td>Least Squares</td>  <th>  F-statistic:       </th>          <td>   650.8</td>\n",
       "</tr>\n",
       "<tr>\n",
       "  <th>Date:</th>             <td>Thu, 11 Jun 2020</td> <th>  Prob (F-statistic):</th>          <td>2.79e-53</td>\n",
       "</tr>\n",
       "<tr>\n",
       "  <th>Time:</th>                 <td>17:10:04</td>     <th>  Log-Likelihood:    </th>          <td> -570.63</td>\n",
       "</tr>\n",
       "<tr>\n",
       "  <th>No. Observations:</th>      <td>   135</td>      <th>  AIC:               </th>          <td>   1143.</td>\n",
       "</tr>\n",
       "<tr>\n",
       "  <th>Df Residuals:</th>          <td>   134</td>      <th>  BIC:               </th>          <td>   1146.</td>\n",
       "</tr>\n",
       "<tr>\n",
       "  <th>Df Model:</th>              <td>     1</td>      <th>                     </th>              <td> </td>   \n",
       "</tr>\n",
       "<tr>\n",
       "  <th>Covariance Type:</th>      <td>nonrobust</td>    <th>                     </th>              <td> </td>   \n",
       "</tr>\n",
       "</table>\n",
       "<table class=\"simpletable\">\n",
       "<tr>\n",
       "    <td></td>      <th>coef</th>     <th>std err</th>      <th>t</th>      <th>P>|t|</th>  <th>[0.025</th>    <th>0.975]</th>  \n",
       "</tr>\n",
       "<tr>\n",
       "  <th>Temp</th> <td>    0.4717</td> <td>    0.018</td> <td>   25.510</td> <td> 0.000</td> <td>    0.435</td> <td>    0.508</td>\n",
       "</tr>\n",
       "</table>\n",
       "<table class=\"simpletable\">\n",
       "<tr>\n",
       "  <th>Omnibus:</th>       <td> 4.786</td> <th>  Durbin-Watson:     </th> <td>   1.412</td>\n",
       "</tr>\n",
       "<tr>\n",
       "  <th>Prob(Omnibus):</th> <td> 0.091</td> <th>  Jarque-Bera (JB):  </th> <td>   4.875</td>\n",
       "</tr>\n",
       "<tr>\n",
       "  <th>Skew:</th>          <td> 0.446</td> <th>  Prob(JB):          </th> <td>  0.0874</td>\n",
       "</tr>\n",
       "<tr>\n",
       "  <th>Kurtosis:</th>      <td> 2.735</td> <th>  Cond. No.          </th> <td>    1.00</td>\n",
       "</tr>\n",
       "</table><br/><br/>Warnings:<br/>[1] Standard Errors assume that the covariance matrix of the errors is correctly specified."
      ],
      "text/plain": [
       "<class 'statsmodels.iolib.summary.Summary'>\n",
       "\"\"\"\n",
       "                                 OLS Regression Results                                \n",
       "=======================================================================================\n",
       "Dep. Variable:                  Ozone   R-squared (uncentered):                   0.829\n",
       "Model:                            OLS   Adj. R-squared (uncentered):              0.828\n",
       "Method:                 Least Squares   F-statistic:                              650.8\n",
       "Date:                Thu, 11 Jun 2020   Prob (F-statistic):                    2.79e-53\n",
       "Time:                        17:10:04   Log-Likelihood:                         -570.63\n",
       "No. Observations:                 135   AIC:                                      1143.\n",
       "Df Residuals:                     134   BIC:                                      1146.\n",
       "Df Model:                           1                                                  \n",
       "Covariance Type:            nonrobust                                                  \n",
       "==============================================================================\n",
       "                 coef    std err          t      P>|t|      [0.025      0.975]\n",
       "------------------------------------------------------------------------------\n",
       "Temp           0.4717      0.018     25.510      0.000       0.435       0.508\n",
       "==============================================================================\n",
       "Omnibus:                        4.786   Durbin-Watson:                   1.412\n",
       "Prob(Omnibus):                  0.091   Jarque-Bera (JB):                4.875\n",
       "Skew:                           0.446   Prob(JB):                       0.0874\n",
       "Kurtosis:                       2.735   Cond. No.                         1.00\n",
       "==============================================================================\n",
       "\n",
       "Warnings:\n",
       "[1] Standard Errors assume that the covariance matrix of the errors is correctly specified.\n",
       "\"\"\""
      ]
     },
     "execution_count": 52,
     "metadata": {},
     "output_type": "execute_result"
    }
   ],
   "source": [
    "model.summary()\n",
    "#If model p-value < 5%, reject null hypothesis and accept alt hyp\n",
    "#If model p-value > 5%, accept null hypothesis and reject alt hyp"
   ]
  },
  {
   "cell_type": "code",
   "execution_count": 53,
   "metadata": {},
   "outputs": [],
   "source": [
    "#0.00 is < 5% so we accept alt hyp"
   ]
  },
  {
   "cell_type": "code",
   "execution_count": 54,
   "metadata": {},
   "outputs": [
    {
     "data": {
      "text/plain": [
       "<seaborn.axisgrid.PairGrid at 0x1b89cd4e408>"
      ]
     },
     "execution_count": 54,
     "metadata": {},
     "output_type": "execute_result"
    },
    {
     "data": {
      "image/png": "[encoded data removed]",
      "text/plain": [
       "<Figure size 1080x1080 with 42 Axes>"
      ]
     },
     "metadata": {
      "needs_background": "light"
     },
     "output_type": "display_data"
    }
   ],
   "source": [
    "sns.pairplot(cleanAir)"
   ]
  },
  {
   "cell_type": "code",
   "execution_count": 55,
   "metadata": {},
   "outputs": [
    {
     "data": {
      "text/plain": [
       "<matplotlib.axes._subplots.AxesSubplot at 0x1b89ea9c548>"
      ]
     },
     "execution_count": 55,
     "metadata": {},
     "output_type": "execute_result"
    },
    {
     "data": {
      "image/png": "[encoded data removed]",
      "text/plain": [
       "<Figure size 432x288 with 1 Axes>"
      ]
     },
     "metadata": {
      "needs_background": "light"
     },
     "output_type": "display_data"
    }
   ],
   "source": [
    "ax = plt.plot(temp,ozone,'o')\n",
    "plt.ylabel(\"Ozone\")\n",
    "plt.xlabel(\"Temperature\")\n",
    "plt.axhline(mean_Ozone,color = 'r', linestyle ='-')\n",
    "sns.regplot(x=\"Temp\",y=\"Ozone\",data=cleanAir)"
   ]
  },
  {
   "cell_type": "code",
   "execution_count": 57,
   "metadata": {},
   "outputs": [],
   "source": [
    "X = temp\n",
    "y = ozone"
   ]
  },
  {
   "cell_type": "code",
   "execution_count": 58,
   "metadata": {},
   "outputs": [
    {
     "data": {
      "text/plain": [
       "110    78.0\n",
       "130    78.0\n",
       "86     82.0\n",
       "83     82.0\n",
       "11     69.0\n",
       "       ... \n",
       "79     87.0\n",
       "147    63.0\n",
       "88     88.0\n",
       "80     85.0\n",
       "40     87.0\n",
       "Name: Temp, Length: 81, dtype: float64"
      ]
     },
     "execution_count": 58,
     "metadata": {},
     "output_type": "execute_result"
    }
   ],
   "source": [
    "from sklearn.model_selection import train_test_split\n",
    "X_train,X_test,y_train,y_test = train_test_split(X,y,test_size=0.4,random_state=1)#40% is for testing and 60% is for training\n",
    "X_train"
   ]
  },
  {
   "cell_type": "code",
   "execution_count": 59,
   "metadata": {},
   "outputs": [
    {
     "data": {
      "text/plain": [
       "(81,)"
      ]
     },
     "execution_count": 59,
     "metadata": {},
     "output_type": "execute_result"
    }
   ],
   "source": [
    "X_train.shape"
   ]
  },
  {
   "cell_type": "code",
   "execution_count": 60,
   "metadata": {},
   "outputs": [],
   "source": [
    "X_train=X_train.values.reshape((-1,1))"
   ]
  },
  {
   "cell_type": "code",
   "execution_count": 61,
   "metadata": {},
   "outputs": [],
   "source": [
    "from sklearn import linear_model as lm\n",
    "model=lm.LinearRegression()\n",
    "results=model.fit(X_train,y_train)"
   ]
  },
  {
   "cell_type": "code",
   "execution_count": 62,
   "metadata": {},
   "outputs": [
    {
     "name": "stdout",
     "output_type": "stream",
     "text": [
      "Accuracy of the model:  0.3335317935026628\n"
     ]
    }
   ],
   "source": [
    "accuracy = model.score(X_train,y_train)\n",
    "print(\"Accuracy of the model: \", accuracy)"
   ]
  },
  {
   "cell_type": "code",
   "execution_count": 63,
   "metadata": {},
   "outputs": [
    {
     "name": "stdout",
     "output_type": "stream",
     "text": [
      "interception:  -57.0118242716472\n",
      "slope:  [1.22080817]\n"
     ]
    }
   ],
   "source": [
    "print('interception: ', model.intercept_)\n",
    "print('slope: ', model.coef_)"
   ]
  },
  {
   "cell_type": "code",
   "execution_count": 64,
   "metadata": {},
   "outputs": [],
   "source": [
    "X_test = X_test.values.reshape((-1,1))"
   ]
  },
  {
   "cell_type": "code",
   "execution_count": 65,
   "metadata": {},
   "outputs": [
    {
     "data": {
      "text/plain": [
       "<matplotlib.collections.PathCollection at 0x1b89f530448>"
      ]
     },
     "execution_count": 65,
     "metadata": {},
     "output_type": "execute_result"
    },
    {
     "data": {
      "image/png": "[encoded data removed]",
      "text/plain": [
       "<Figure size 432x288 with 1 Axes>"
      ]
     },
     "metadata": {
      "needs_background": "light"
     },
     "output_type": "display_data"
    }
   ],
   "source": [
    "predections = model.predict(X_test)\n",
    "plt.scatter(y_test,predections)"
   ]
  },
  {
   "cell_type": "code",
   "execution_count": 88,
   "metadata": {},
   "outputs": [
    {
     "name": "stdout",
     "output_type": "stream",
     "text": [
      "New temp:  [[80]]  Ozone:  [40.6528296]\n"
     ]
    }
   ],
   "source": [
    "Xnew=[[80]]\n",
    "ynew=model.predict(Xnew)\n",
    "print(\"New temp: \", Xnew, \" Ozone: \", ynew)"
   ]
  },
  {
   "cell_type": "code",
   "execution_count": 69,
   "metadata": {},
   "outputs": [],
   "source": [
    "from sklearn.metrics import mean_squared_error,r2_score\n",
    "y_train_prediction=model.predict(X_train)\n",
    "y_test_prediction=model.predict(X_test)"
   ]
  },
  {
   "cell_type": "code",
   "execution_count": 70,
   "metadata": {},
   "outputs": [
    {
     "name": "stdout",
     "output_type": "stream",
     "text": [
      "RMSE is  15.746210502643358\n",
      "R2 score is  0.3335317935026628\n",
      "\n",
      "RMSE test is  14.259947995528785\n",
      "R2 test score is  0.34223425965468024\n"
     ]
    }
   ],
   "source": [
    "#Model evaluation for training set\n",
    "rmse_training = (np.sqrt(mean_squared_error(y_train,y_train_prediction)))\n",
    "r2_training = r2_score(y_train,y_train_prediction)\n",
    "print('RMSE is ',rmse_training) #We want this to be higher than the test\n",
    "print('R2 score is ', r2_training)\n",
    "rmse_test = (np.sqrt(mean_squared_error(y_test,y_test_prediction)))\n",
    "r2_test = r2_score(y_test,y_test_prediction)\n",
    "print(\"\\nRMSE test is \", rmse_test) #This has to be lower than the training\n",
    "print(\"R2 test score is \", r2_test)"
   ]
  },
  {
   "cell_type": "code",
   "execution_count": 71,
   "metadata": {},
   "outputs": [],
   "source": [
    "#RMSE for testing is lower than the the RMSE for training which is good\n",
    "#However, it is not good enough as R2 is so low"
   ]
  },
  {
   "cell_type": "code",
   "execution_count": 72,
   "metadata": {},
   "outputs": [],
   "source": [
    "X=X.values.reshape(-1,1)\n",
    "y_predicted=model.predict(X)"
   ]
  },
  {
   "cell_type": "code",
   "execution_count": 74,
   "metadata": {},
   "outputs": [
    {
     "data": {
      "image/png": "[encoded data removed]",
      "text/plain": [
       "<Figure size 432x288 with 1 Axes>"
      ]
     },
     "metadata": {
      "needs_background": "light"
     },
     "output_type": "display_data"
    }
   ],
   "source": [
    "plt.plot(X,y_predicted, color='g')\n",
    "plt.show()"
   ]
  },
  {
   "cell_type": "code",
   "execution_count": 100,
   "metadata": {},
   "outputs": [],
   "source": [
    "X=cleanAir[[\"Solar.R\",\"Wind\"]]\n",
    "y=cleanAir[\"Ozone\"]"
   ]
  },
  {
   "cell_type": "code",
   "execution_count": 102,
   "metadata": {},
   "outputs": [
    {
     "data": {
      "text/html": [
       "<table class=\"simpletable\">\n",
       "<caption>OLS Regression Results</caption>\n",
       "<tr>\n",
       "  <th>Dep. Variable:</th>          <td>Ozone</td>      <th>  R-squared (uncentered):</th>      <td>   0.740</td>\n",
       "</tr>\n",
       "<tr>\n",
       "  <th>Model:</th>                   <td>OLS</td>       <th>  Adj. R-squared (uncentered):</th> <td>   0.736</td>\n",
       "</tr>\n",
       "<tr>\n",
       "  <th>Method:</th>             <td>Least Squares</td>  <th>  F-statistic:       </th>          <td>   188.9</td>\n",
       "</tr>\n",
       "<tr>\n",
       "  <th>Date:</th>             <td>Thu, 11 Jun 2020</td> <th>  Prob (F-statistic):</th>          <td>1.36e-39</td>\n",
       "</tr>\n",
       "<tr>\n",
       "  <th>Time:</th>                 <td>17:59:14</td>     <th>  Log-Likelihood:    </th>          <td> -599.10</td>\n",
       "</tr>\n",
       "<tr>\n",
       "  <th>No. Observations:</th>      <td>   135</td>      <th>  AIC:               </th>          <td>   1202.</td>\n",
       "</tr>\n",
       "<tr>\n",
       "  <th>Df Residuals:</th>          <td>   133</td>      <th>  BIC:               </th>          <td>   1208.</td>\n",
       "</tr>\n",
       "<tr>\n",
       "  <th>Df Model:</th>              <td>     2</td>      <th>                     </th>              <td> </td>   \n",
       "</tr>\n",
       "<tr>\n",
       "  <th>Covariance Type:</th>      <td>nonrobust</td>    <th>                     </th>              <td> </td>   \n",
       "</tr>\n",
       "</table>\n",
       "<table class=\"simpletable\">\n",
       "<tr>\n",
       "     <td></td>        <th>coef</th>     <th>std err</th>      <th>t</th>      <th>P>|t|</th>  <th>[0.025</th>    <th>0.975]</th>  \n",
       "</tr>\n",
       "<tr>\n",
       "  <th>Solar.R</th> <td>    0.1281</td> <td>    0.017</td> <td>    7.392</td> <td> 0.000</td> <td>    0.094</td> <td>    0.162</td>\n",
       "</tr>\n",
       "<tr>\n",
       "  <th>Wind</th>    <td>    0.8764</td> <td>    0.332</td> <td>    2.641</td> <td> 0.009</td> <td>    0.220</td> <td>    1.533</td>\n",
       "</tr>\n",
       "</table>\n",
       "<table class=\"simpletable\">\n",
       "<tr>\n",
       "  <th>Omnibus:</th>       <td> 2.070</td> <th>  Durbin-Watson:     </th> <td>   1.159</td>\n",
       "</tr>\n",
       "<tr>\n",
       "  <th>Prob(Omnibus):</th> <td> 0.355</td> <th>  Jarque-Bera (JB):  </th> <td>   2.116</td>\n",
       "</tr>\n",
       "<tr>\n",
       "  <th>Skew:</th>          <td> 0.286</td> <th>  Prob(JB):          </th> <td>   0.347</td>\n",
       "</tr>\n",
       "<tr>\n",
       "  <th>Kurtosis:</th>      <td> 2.777</td> <th>  Cond. No.          </th> <td>    38.2</td>\n",
       "</tr>\n",
       "</table><br/><br/>Warnings:<br/>[1] Standard Errors assume that the covariance matrix of the errors is correctly specified."
      ],
      "text/plain": [
       "<class 'statsmodels.iolib.summary.Summary'>\n",
       "\"\"\"\n",
       "                                 OLS Regression Results                                \n",
       "=======================================================================================\n",
       "Dep. Variable:                  Ozone   R-squared (uncentered):                   0.740\n",
       "Model:                            OLS   Adj. R-squared (uncentered):              0.736\n",
       "Method:                 Least Squares   F-statistic:                              188.9\n",
       "Date:                Thu, 11 Jun 2020   Prob (F-statistic):                    1.36e-39\n",
       "Time:                        17:59:14   Log-Likelihood:                         -599.10\n",
       "No. Observations:                 135   AIC:                                      1202.\n",
       "Df Residuals:                     133   BIC:                                      1208.\n",
       "Df Model:                           2                                                  \n",
       "Covariance Type:            nonrobust                                                  \n",
       "==============================================================================\n",
       "                 coef    std err          t      P>|t|      [0.025      0.975]\n",
       "------------------------------------------------------------------------------\n",
       "Solar.R        0.1281      0.017      7.392      0.000       0.094       0.162\n",
       "Wind           0.8764      0.332      2.641      0.009       0.220       1.533\n",
       "==============================================================================\n",
       "Omnibus:                        2.070   Durbin-Watson:                   1.159\n",
       "Prob(Omnibus):                  0.355   Jarque-Bera (JB):                2.116\n",
       "Skew:                           0.286   Prob(JB):                        0.347\n",
       "Kurtosis:                       2.777   Cond. No.                         38.2\n",
       "==============================================================================\n",
       "\n",
       "Warnings:\n",
       "[1] Standard Errors assume that the covariance matrix of the errors is correctly specified.\n",
       "\"\"\""
      ]
     },
     "execution_count": 102,
     "metadata": {},
     "output_type": "execute_result"
    }
   ],
   "source": [
    "model2=sm.OLS(y,X).fit()\n",
    "predictions=model2.predict(X)\n",
    "model2.summary()"
   ]
  },
  {
   "cell_type": "code",
   "execution_count": 103,
   "metadata": {},
   "outputs": [],
   "source": [
    "from sklearn.model_selection import train_test_split\n",
    "X_train,X_test,y_train,y_test = train_test_split(X,y,test_size=0.4,random_state=1)"
   ]
  },
  {
   "cell_type": "code",
   "execution_count": 104,
   "metadata": {},
   "outputs": [
    {
     "data": {
      "text/html": [
       "<div>\n",
       "<style scoped>\n",
       "    .dataframe tbody tr th:only-of-type {\n",
       "        vertical-align: middle;\n",
       "    }\n",
       "\n",
       "    .dataframe tbody tr th {\n",
       "        vertical-align: top;\n",
       "    }\n",
       "\n",
       "    .dataframe thead th {\n",
       "        text-align: right;\n",
       "    }\n",
       "</style>\n",
       "<table border=\"1\" class=\"dataframe\">\n",
       "  <thead>\n",
       "    <tr style=\"text-align: right;\">\n",
       "      <th></th>\n",
       "      <th>Solar.R</th>\n",
       "      <th>Wind</th>\n",
       "    </tr>\n",
       "  </thead>\n",
       "  <tbody>\n",
       "    <tr>\n",
       "      <th>110</th>\n",
       "      <td>244.0</td>\n",
       "      <td>10.9</td>\n",
       "    </tr>\n",
       "    <tr>\n",
       "      <th>130</th>\n",
       "      <td>220.0</td>\n",
       "      <td>10.3</td>\n",
       "    </tr>\n",
       "    <tr>\n",
       "      <th>86</th>\n",
       "      <td>81.0</td>\n",
       "      <td>8.6</td>\n",
       "    </tr>\n",
       "    <tr>\n",
       "      <th>83</th>\n",
       "      <td>295.0</td>\n",
       "      <td>11.5</td>\n",
       "    </tr>\n",
       "    <tr>\n",
       "      <th>11</th>\n",
       "      <td>256.0</td>\n",
       "      <td>9.7</td>\n",
       "    </tr>\n",
       "    <tr>\n",
       "      <th>...</th>\n",
       "      <td>...</td>\n",
       "      <td>...</td>\n",
       "    </tr>\n",
       "    <tr>\n",
       "      <th>79</th>\n",
       "      <td>187.0</td>\n",
       "      <td>5.1</td>\n",
       "    </tr>\n",
       "    <tr>\n",
       "      <th>147</th>\n",
       "      <td>20.0</td>\n",
       "      <td>16.6</td>\n",
       "    </tr>\n",
       "    <tr>\n",
       "      <th>88</th>\n",
       "      <td>213.0</td>\n",
       "      <td>7.4</td>\n",
       "    </tr>\n",
       "    <tr>\n",
       "      <th>80</th>\n",
       "      <td>220.0</td>\n",
       "      <td>11.5</td>\n",
       "    </tr>\n",
       "    <tr>\n",
       "      <th>40</th>\n",
       "      <td>323.0</td>\n",
       "      <td>11.5</td>\n",
       "    </tr>\n",
       "  </tbody>\n",
       "</table>\n",
       "<p>81 rows × 2 columns</p>\n",
       "</div>"
      ],
      "text/plain": [
       "     Solar.R  Wind\n",
       "110    244.0  10.9\n",
       "130    220.0  10.3\n",
       "86      81.0   8.6\n",
       "83     295.0  11.5\n",
       "11     256.0   9.7\n",
       "..       ...   ...\n",
       "79     187.0   5.1\n",
       "147     20.0  16.6\n",
       "88     213.0   7.4\n",
       "80     220.0  11.5\n",
       "40     323.0  11.5\n",
       "\n",
       "[81 rows x 2 columns]"
      ]
     },
     "execution_count": 104,
     "metadata": {},
     "output_type": "execute_result"
    }
   ],
   "source": [
    "X_train"
   ]
  },
  {
   "cell_type": "code",
   "execution_count": 105,
   "metadata": {},
   "outputs": [
    {
     "data": {
      "text/plain": [
       "110    31.00000\n",
       "130    23.00000\n",
       "86     20.00000\n",
       "83     42.12931\n",
       "11     16.00000\n",
       "         ...   \n",
       "79     79.00000\n",
       "147    14.00000\n",
       "88     82.00000\n",
       "80     63.00000\n",
       "40     39.00000\n",
       "Name: Ozone, Length: 81, dtype: float64"
      ]
     },
     "execution_count": 105,
     "metadata": {},
     "output_type": "execute_result"
    }
   ],
   "source": [
    "y_train"
   ]
  },
  {
   "cell_type": "code",
   "execution_count": 106,
   "metadata": {},
   "outputs": [],
   "source": [
    "features = X_train.iloc[:,:].values"
   ]
  },
  {
   "cell_type": "code",
   "execution_count": 107,
   "metadata": {},
   "outputs": [
    {
     "data": {
      "text/plain": [
       "array([[244.        ,  10.9       ],\n",
       "       [220.        ,  10.3       ],\n",
       "       [ 81.        ,   8.6       ],\n",
       "       [295.        ,  11.5       ],\n",
       "       [256.        ,   9.7       ],\n",
       "       [127.        ,   9.7       ],\n",
       "       [220.        ,   8.6       ],\n",
       "       [115.        ,   7.4       ],\n",
       "       [259.        ,  10.9       ],\n",
       "       [320.        ,  16.6       ],\n",
       "       [ 92.        ,  15.5       ],\n",
       "       [223.        ,  11.5       ],\n",
       "       [279.        ,   7.4       ],\n",
       "       [266.        ,  14.9       ],\n",
       "       [ 48.        ,  14.3       ],\n",
       "       [197.        ,   5.1       ],\n",
       "       [212.        ,   9.7       ],\n",
       "       [258.        ,   9.7       ],\n",
       "       [275.        ,   7.4       ],\n",
       "       [ 27.        ,  10.3       ],\n",
       "       [145.        ,  13.2       ],\n",
       "       [201.        ,   8.        ],\n",
       "       [264.        ,  14.3       ],\n",
       "       [307.        ,  12.        ],\n",
       "       [332.        ,  13.8       ],\n",
       "       [127.        ,   8.        ],\n",
       "       [252.        ,  14.9       ],\n",
       "       [294.        ,   8.6       ],\n",
       "       [191.        ,  14.9       ],\n",
       "       [185.93150685,   8.        ],\n",
       "       [238.        ,   6.3       ],\n",
       "       [137.        ,  11.5       ],\n",
       "       [255.        ,  12.6       ],\n",
       "       [ 91.        ,   4.6       ],\n",
       "       [ 92.        ,  12.        ],\n",
       "       [285.        ,   6.3       ],\n",
       "       [313.        ,  11.5       ],\n",
       "       [193.        ,   6.9       ],\n",
       "       [242.        ,  16.1       ],\n",
       "       [131.        ,   8.        ],\n",
       "       [150.        ,   6.3       ],\n",
       "       [ 95.        ,   7.4       ],\n",
       "       [185.93150685,   4.6       ],\n",
       "       [194.        ,   8.6       ],\n",
       "       [253.        ,   7.4       ],\n",
       "       [175.        ,   4.6       ],\n",
       "       [190.        ,   7.4       ],\n",
       "       [118.        ,   8.        ],\n",
       "       [248.        ,   9.2       ],\n",
       "       [ 66.        ,  16.6       ],\n",
       "       [314.        ,  10.9       ],\n",
       "       [139.        ,   8.6       ],\n",
       "       [ 99.        ,  13.8       ],\n",
       "       [185.93150685,   6.9       ],\n",
       "       [259.        ,   9.7       ],\n",
       "       [ 65.        ,  13.2       ],\n",
       "       [185.93150685,   6.9       ],\n",
       "       [ 51.        ,   6.3       ],\n",
       "       [ 64.        ,  11.5       ],\n",
       "       [230.        ,  10.9       ],\n",
       "       [153.        ,   5.7       ],\n",
       "       [259.        ,  15.5       ],\n",
       "       [185.93150685,   7.4       ],\n",
       "       [260.        ,   6.9       ],\n",
       "       [250.        ,   6.3       ],\n",
       "       [334.        ,  11.5       ],\n",
       "       [287.        ,   9.7       ],\n",
       "       [286.        ,   8.6       ],\n",
       "       [203.        ,   9.7       ],\n",
       "       [290.        ,   9.2       ],\n",
       "       [ 24.        ,  13.8       ],\n",
       "       [  8.        ,   9.7       ],\n",
       "       [ 36.        ,  14.3       ],\n",
       "       [ 14.        ,   9.2       ],\n",
       "       [ 25.        ,   9.7       ],\n",
       "       [ 13.        ,  12.        ],\n",
       "       [187.        ,   5.1       ],\n",
       "       [ 20.        ,  16.6       ],\n",
       "       [213.        ,   7.4       ],\n",
       "       [220.        ,  11.5       ],\n",
       "       [323.        ,  11.5       ]])"
      ]
     },
     "execution_count": 107,
     "metadata": {},
     "output_type": "execute_result"
    }
   ],
   "source": [
    "features"
   ]
  },
  {
   "cell_type": "code",
   "execution_count": 108,
   "metadata": {},
   "outputs": [],
   "source": [
    "labels = y_train.iloc[:].values"
   ]
  },
  {
   "cell_type": "code",
   "execution_count": 109,
   "metadata": {},
   "outputs": [
    {
     "data": {
      "text/plain": [
       "array([31.        , 23.        , 20.        , 42.12931034, 16.        ,\n",
       "       29.        , 42.12931034, 23.        , 42.12931034, 11.        ,\n",
       "       32.        , 20.        , 37.        , 42.12931034,  7.        ,\n",
       "       78.        , 45.        , 42.12931034, 50.        , 13.        ,\n",
       "       42.12931034, 16.        , 10.        , 34.        , 42.12931034,\n",
       "       42.12931034, 45.        , 80.        , 21.        , 42.12931034,\n",
       "       28.        , 42.12931034, 42.12931034, 42.12931034, 32.        ,\n",
       "       61.        , 18.        , 30.        , 42.12931034, 18.        ,\n",
       "       42.12931034, 47.        , 66.        , 42.12931034, 64.        ,\n",
       "       64.        , 41.        , 36.        , 49.        , 42.12931034,\n",
       "       40.        , 42.12931034, 19.        ,  7.        , 24.        ,\n",
       "       18.        , 78.        , 59.        , 42.12931034, 21.        ,\n",
       "       42.12931034, 21.        , 35.        , 48.        , 42.12931034,\n",
       "       14.        , 42.12931034, 42.12931034, 76.        , 11.        ,\n",
       "        9.        ,  1.        ,  9.        , 23.        ,  4.        ,\n",
       "       23.        , 79.        , 14.        , 82.        , 63.        ,\n",
       "       39.        ])"
      ]
     },
     "execution_count": 109,
     "metadata": {},
     "output_type": "execute_result"
    }
   ],
   "source": [
    "labels"
   ]
  },
  {
   "cell_type": "code",
   "execution_count": 110,
   "metadata": {},
   "outputs": [],
   "source": [
    "X=features"
   ]
  },
  {
   "cell_type": "code",
   "execution_count": 111,
   "metadata": {},
   "outputs": [],
   "source": [
    "y=labels"
   ]
  },
  {
   "cell_type": "code",
   "execution_count": 114,
   "metadata": {},
   "outputs": [],
   "source": [
    "from sklearn import linear_model as lm\n",
    "model2=lm.LinearRegression()\n",
    "results=model2.fit(X,y)"
   ]
  },
  {
   "cell_type": "code",
   "execution_count": 115,
   "metadata": {},
   "outputs": [],
   "source": [
    "predictions = model2.predict(X)"
   ]
  },
  {
   "cell_type": "code",
   "execution_count": 116,
   "metadata": {},
   "outputs": [],
   "source": [
    "#Now, find the accuracy of the model using:\n",
    "accuracy=model.score(X,y)"
   ]
  },
  {
   "cell_type": "code",
   "execution_count": 117,
   "metadata": {},
   "outputs": [
    {
     "name": "stdout",
     "output_type": "stream",
     "text": [
      "Accuracy of the model:  0.26154301132006197\n"
     ]
    }
   ],
   "source": [
    "print(\"Accuracy of the model: \", accuracy)"
   ]
  },
  {
   "cell_type": "code",
   "execution_count": 118,
   "metadata": {},
   "outputs": [
    {
     "data": {
      "text/plain": [
       "<matplotlib.collections.PathCollection at 0x1b89f705d08>"
      ]
     },
     "execution_count": 118,
     "metadata": {},
     "output_type": "execute_result"
    },
    {
     "data": {
      "image/png": "[encoded data removed]",
      "text/plain": [
       "<Figure size 432x288 with 1 Axes>"
      ]
     },
     "metadata": {
      "needs_background": "light"
     },
     "output_type": "display_data"
    }
   ],
   "source": [
    "#Visualization of accuracy\n",
    "plt.scatter(y,predictions)"
   ]
  },
  {
   "cell_type": "code",
   "execution_count": 119,
   "metadata": {},
   "outputs": [
    {
     "name": "stdout",
     "output_type": "stream",
     "text": [
      "Model 2, Multiple Linear Regression -Solar.R & Wind-\n",
      "Slope for model:  [ 0.05384556 -2.64417844]\n",
      "Intercept:  52.70582899921923\n",
      "\n",
      "\n",
      "The RMSE is:  16.574824446802133\n",
      "The R2 score is:  0.26154301132006197\n"
     ]
    }
   ],
   "source": [
    "#Evaluation and comparison of both models:\n",
    "print(\"Model 2, Multiple Linear Regression -Solar.R & Wind-\")\n",
    "print('Slope for model: ', model2.coef_)\n",
    "print('Intercept: ', model2.intercept_)\n",
    "print(\"\\n\")\n",
    "\n",
    "rmse=(np.sqrt(mean_squared_error(y,predictions)))\n",
    "r2 = r2_score(y,predictions)\n",
    "print(\"The RMSE is: \", rmse)\n",
    "print('The R2 score is: ', r2)"
   ]
  },
  {
   "cell_type": "code",
   "execution_count": null,
   "metadata": {},
   "outputs": [],
   "source": []
  }
 ],
 "metadata": {
  "kernelspec": {
   "display_name": "Python 3",
   "language": "python",
   "name": "python3"
  },
  "language_info": {
   "codemirror_mode": {
    "name": "ipython",
    "version": 3
   },
   "file_extension": ".py",
   "mimetype": "text/x-python",
   "name": "python",
   "nbconvert_exporter": "python",
   "pygments_lexer": "ipython3",
   "version": "3.7.6"
  }
 },
 "nbformat": 4,
 "nbformat_minor": 4
}
